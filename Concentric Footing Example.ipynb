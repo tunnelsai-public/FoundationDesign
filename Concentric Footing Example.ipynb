{
 "cells": [
  {
   "cell_type": "markdown",
   "metadata": {},
   "source": [
    "## Pad foundation example using the FoundationDesign module in python"
   ]
  },
  {
   "cell_type": "markdown",
   "metadata": {},
   "source": [
    "### This example is contained in Reinforced concrete design to eurocodes by Prab Bhatt ,Thomas J. MacGinley and Ban Seng Choo 4TH EDITION\n",
    "Example of Design of an Axially Loaded Base section 11.4.2.1 page 443 \n"
   ]
  },
  {
   "cell_type": "markdown",
   "metadata": {},
   "source": [
    "### Problem statement"
   ]
  },
  {
   "cell_type": "markdown",
   "metadata": {},
   "source": [
    "![title](prab-bhatt-example-axially-loaded.png)"
   ]
  },
  {
   "cell_type": "markdown",
   "metadata": {},
   "source": [
    "We start by importing the padfoundation class from the foundationdesign module"
   ]
  },
  {
   "cell_type": "code",
   "execution_count": 1,
   "metadata": {},
   "outputs": [],
   "source": [
    "import plotly\n",
    "plotly.io.renderers.default = \"notebook_connected\"\n",
    "from FoundationDesign import PadFoundation,padFoundationDesign"
   ]
  },
  {
   "cell_type": "code",
   "execution_count": 2,
   "metadata": {},
   "outputs": [],
   "source": [
    "# Create the pad foundation object\n",
    "# Since the foundation is concentric the column position in x and y direction is foundation length and width divided by two\n",
    "fdn = PadFoundation(\n",
    "    foundation_length=2500,\n",
    "    foundation_width=2500,\n",
    "    column_length=400,\n",
    "    column_width=400,\n",
    "    col_pos_xdir=1250,\n",
    "    col_pos_ydir=1250,\n",
    "    soil_bearing_capacity=200,\n",
    ")"
   ]
  },
  {
   "cell_type": "markdown",
   "metadata": {},
   "source": [
    "#### Display the foundation geometry"
   ]
  },
  {
   "cell_type": "code",
   "execution_count": 3,
   "metadata": {},
   "outputs": [
    {
     "data": {
      "text/html": [
       "        <script type=\"text/javascript\">\n",
       "        window.PlotlyConfig = {MathJaxConfig: 'local'};\n",
       "        if (window.MathJax) {MathJax.Hub.Config({SVG: {font: \"STIX-Web\"}});}\n",
       "        if (typeof require !== 'undefined') {\n",
       "        require.undef(\"plotly\");\n",
       "        requirejs.config({\n",
       "            paths: {\n",
       "                'plotly': ['https://cdn.plot.ly/plotly-2.9.0.min']\n",
       "            }\n",
       "        });\n",
       "        require(['plotly'], function(Plotly) {\n",
       "            window._Plotly = Plotly;\n",
       "        });\n",
       "        }\n",
       "        </script>\n",
       "        "
      ]
     },
     "metadata": {},
     "output_type": "display_data"
    },
    {
     "data": {
      "text/html": [
       "<div>                            <div id=\"fc364844-b626-48d8-a892-468f514a755f\" class=\"plotly-graph-div\" style=\"height:500px; width:500px;\"></div>            <script type=\"text/javascript\">                require([\"plotly\"], function(Plotly) {                    window.PLOTLYENV=window.PLOTLYENV || {};                                    if (document.getElementById(\"fc364844-b626-48d8-a892-468f514a755f\")) {                    Plotly.newPlot(                        \"fc364844-b626-48d8-a892-468f514a755f\",                        [{\"line\":{\"color\":\"red\",\"width\":3},\"mode\":\"lines\",\"name\":\"FOOTING\",\"x\":[0,2.5,2.5,0,0],\"y\":[0,0,2.5,2.5,0],\"type\":\"scatter\"},{\"line\":{\"color\":\"green\",\"width\":1.5},\"mode\":\"lines\",\"name\":\"COLUMN\",\"x\":[1.05,1.45,1.45,1.05,1.05],\"y\":[1.05,1.05,1.45,1.45,1.05],\"type\":\"scatter\"}],                        {\"template\":{\"data\":{\"bar\":[{\"error_x\":{\"color\":\"#2a3f5f\"},\"error_y\":{\"color\":\"#2a3f5f\"},\"marker\":{\"line\":{\"color\":\"#E5ECF6\",\"width\":0.5},\"pattern\":{\"fillmode\":\"overlay\",\"size\":10,\"solidity\":0.2}},\"type\":\"bar\"}],\"barpolar\":[{\"marker\":{\"line\":{\"color\":\"#E5ECF6\",\"width\":0.5},\"pattern\":{\"fillmode\":\"overlay\",\"size\":10,\"solidity\":0.2}},\"type\":\"barpolar\"}],\"carpet\":[{\"aaxis\":{\"endlinecolor\":\"#2a3f5f\",\"gridcolor\":\"white\",\"linecolor\":\"white\",\"minorgridcolor\":\"white\",\"startlinecolor\":\"#2a3f5f\"},\"baxis\":{\"endlinecolor\":\"#2a3f5f\",\"gridcolor\":\"white\",\"linecolor\":\"white\",\"minorgridcolor\":\"white\",\"startlinecolor\":\"#2a3f5f\"},\"type\":\"carpet\"}],\"choropleth\":[{\"colorbar\":{\"outlinewidth\":0,\"ticks\":\"\"},\"type\":\"choropleth\"}],\"contour\":[{\"colorbar\":{\"outlinewidth\":0,\"ticks\":\"\"},\"colorscale\":[[0.0,\"#0d0887\"],[0.1111111111111111,\"#46039f\"],[0.2222222222222222,\"#7201a8\"],[0.3333333333333333,\"#9c179e\"],[0.4444444444444444,\"#bd3786\"],[0.5555555555555556,\"#d8576b\"],[0.6666666666666666,\"#ed7953\"],[0.7777777777777778,\"#fb9f3a\"],[0.8888888888888888,\"#fdca26\"],[1.0,\"#f0f921\"]],\"type\":\"contour\"}],\"contourcarpet\":[{\"colorbar\":{\"outlinewidth\":0,\"ticks\":\"\"},\"type\":\"contourcarpet\"}],\"heatmap\":[{\"colorbar\":{\"outlinewidth\":0,\"ticks\":\"\"},\"colorscale\":[[0.0,\"#0d0887\"],[0.1111111111111111,\"#46039f\"],[0.2222222222222222,\"#7201a8\"],[0.3333333333333333,\"#9c179e\"],[0.4444444444444444,\"#bd3786\"],[0.5555555555555556,\"#d8576b\"],[0.6666666666666666,\"#ed7953\"],[0.7777777777777778,\"#fb9f3a\"],[0.8888888888888888,\"#fdca26\"],[1.0,\"#f0f921\"]],\"type\":\"heatmap\"}],\"heatmapgl\":[{\"colorbar\":{\"outlinewidth\":0,\"ticks\":\"\"},\"colorscale\":[[0.0,\"#0d0887\"],[0.1111111111111111,\"#46039f\"],[0.2222222222222222,\"#7201a8\"],[0.3333333333333333,\"#9c179e\"],[0.4444444444444444,\"#bd3786\"],[0.5555555555555556,\"#d8576b\"],[0.6666666666666666,\"#ed7953\"],[0.7777777777777778,\"#fb9f3a\"],[0.8888888888888888,\"#fdca26\"],[1.0,\"#f0f921\"]],\"type\":\"heatmapgl\"}],\"histogram\":[{\"marker\":{\"pattern\":{\"fillmode\":\"overlay\",\"size\":10,\"solidity\":0.2}},\"type\":\"histogram\"}],\"histogram2d\":[{\"colorbar\":{\"outlinewidth\":0,\"ticks\":\"\"},\"colorscale\":[[0.0,\"#0d0887\"],[0.1111111111111111,\"#46039f\"],[0.2222222222222222,\"#7201a8\"],[0.3333333333333333,\"#9c179e\"],[0.4444444444444444,\"#bd3786\"],[0.5555555555555556,\"#d8576b\"],[0.6666666666666666,\"#ed7953\"],[0.7777777777777778,\"#fb9f3a\"],[0.8888888888888888,\"#fdca26\"],[1.0,\"#f0f921\"]],\"type\":\"histogram2d\"}],\"histogram2dcontour\":[{\"colorbar\":{\"outlinewidth\":0,\"ticks\":\"\"},\"colorscale\":[[0.0,\"#0d0887\"],[0.1111111111111111,\"#46039f\"],[0.2222222222222222,\"#7201a8\"],[0.3333333333333333,\"#9c179e\"],[0.4444444444444444,\"#bd3786\"],[0.5555555555555556,\"#d8576b\"],[0.6666666666666666,\"#ed7953\"],[0.7777777777777778,\"#fb9f3a\"],[0.8888888888888888,\"#fdca26\"],[1.0,\"#f0f921\"]],\"type\":\"histogram2dcontour\"}],\"mesh3d\":[{\"colorbar\":{\"outlinewidth\":0,\"ticks\":\"\"},\"type\":\"mesh3d\"}],\"parcoords\":[{\"line\":{\"colorbar\":{\"outlinewidth\":0,\"ticks\":\"\"}},\"type\":\"parcoords\"}],\"pie\":[{\"automargin\":true,\"type\":\"pie\"}],\"scatter\":[{\"marker\":{\"colorbar\":{\"outlinewidth\":0,\"ticks\":\"\"}},\"type\":\"scatter\"}],\"scatter3d\":[{\"line\":{\"colorbar\":{\"outlinewidth\":0,\"ticks\":\"\"}},\"marker\":{\"colorbar\":{\"outlinewidth\":0,\"ticks\":\"\"}},\"type\":\"scatter3d\"}],\"scattercarpet\":[{\"marker\":{\"colorbar\":{\"outlinewidth\":0,\"ticks\":\"\"}},\"type\":\"scattercarpet\"}],\"scattergeo\":[{\"marker\":{\"colorbar\":{\"outlinewidth\":0,\"ticks\":\"\"}},\"type\":\"scattergeo\"}],\"scattergl\":[{\"marker\":{\"colorbar\":{\"outlinewidth\":0,\"ticks\":\"\"}},\"type\":\"scattergl\"}],\"scattermapbox\":[{\"marker\":{\"colorbar\":{\"outlinewidth\":0,\"ticks\":\"\"}},\"type\":\"scattermapbox\"}],\"scatterpolar\":[{\"marker\":{\"colorbar\":{\"outlinewidth\":0,\"ticks\":\"\"}},\"type\":\"scatterpolar\"}],\"scatterpolargl\":[{\"marker\":{\"colorbar\":{\"outlinewidth\":0,\"ticks\":\"\"}},\"type\":\"scatterpolargl\"}],\"scatterternary\":[{\"marker\":{\"colorbar\":{\"outlinewidth\":0,\"ticks\":\"\"}},\"type\":\"scatterternary\"}],\"surface\":[{\"colorbar\":{\"outlinewidth\":0,\"ticks\":\"\"},\"colorscale\":[[0.0,\"#0d0887\"],[0.1111111111111111,\"#46039f\"],[0.2222222222222222,\"#7201a8\"],[0.3333333333333333,\"#9c179e\"],[0.4444444444444444,\"#bd3786\"],[0.5555555555555556,\"#d8576b\"],[0.6666666666666666,\"#ed7953\"],[0.7777777777777778,\"#fb9f3a\"],[0.8888888888888888,\"#fdca26\"],[1.0,\"#f0f921\"]],\"type\":\"surface\"}],\"table\":[{\"cells\":{\"fill\":{\"color\":\"#EBF0F8\"},\"line\":{\"color\":\"white\"}},\"header\":{\"fill\":{\"color\":\"#C8D4E3\"},\"line\":{\"color\":\"white\"}},\"type\":\"table\"}]},\"layout\":{\"annotationdefaults\":{\"arrowcolor\":\"#2a3f5f\",\"arrowhead\":0,\"arrowwidth\":1},\"autotypenumbers\":\"strict\",\"coloraxis\":{\"colorbar\":{\"outlinewidth\":0,\"ticks\":\"\"}},\"colorscale\":{\"diverging\":[[0,\"#8e0152\"],[0.1,\"#c51b7d\"],[0.2,\"#de77ae\"],[0.3,\"#f1b6da\"],[0.4,\"#fde0ef\"],[0.5,\"#f7f7f7\"],[0.6,\"#e6f5d0\"],[0.7,\"#b8e186\"],[0.8,\"#7fbc41\"],[0.9,\"#4d9221\"],[1,\"#276419\"]],\"sequential\":[[0.0,\"#0d0887\"],[0.1111111111111111,\"#46039f\"],[0.2222222222222222,\"#7201a8\"],[0.3333333333333333,\"#9c179e\"],[0.4444444444444444,\"#bd3786\"],[0.5555555555555556,\"#d8576b\"],[0.6666666666666666,\"#ed7953\"],[0.7777777777777778,\"#fb9f3a\"],[0.8888888888888888,\"#fdca26\"],[1.0,\"#f0f921\"]],\"sequentialminus\":[[0.0,\"#0d0887\"],[0.1111111111111111,\"#46039f\"],[0.2222222222222222,\"#7201a8\"],[0.3333333333333333,\"#9c179e\"],[0.4444444444444444,\"#bd3786\"],[0.5555555555555556,\"#d8576b\"],[0.6666666666666666,\"#ed7953\"],[0.7777777777777778,\"#fb9f3a\"],[0.8888888888888888,\"#fdca26\"],[1.0,\"#f0f921\"]]},\"colorway\":[\"#636efa\",\"#EF553B\",\"#00cc96\",\"#ab63fa\",\"#FFA15A\",\"#19d3f3\",\"#FF6692\",\"#B6E880\",\"#FF97FF\",\"#FECB52\"],\"font\":{\"color\":\"#2a3f5f\"},\"geo\":{\"bgcolor\":\"white\",\"lakecolor\":\"white\",\"landcolor\":\"#E5ECF6\",\"showlakes\":true,\"showland\":true,\"subunitcolor\":\"white\"},\"hoverlabel\":{\"align\":\"left\"},\"hovermode\":\"closest\",\"mapbox\":{\"style\":\"light\"},\"paper_bgcolor\":\"white\",\"plot_bgcolor\":\"#E5ECF6\",\"polar\":{\"angularaxis\":{\"gridcolor\":\"white\",\"linecolor\":\"white\",\"ticks\":\"\"},\"bgcolor\":\"#E5ECF6\",\"radialaxis\":{\"gridcolor\":\"white\",\"linecolor\":\"white\",\"ticks\":\"\"}},\"scene\":{\"xaxis\":{\"backgroundcolor\":\"#E5ECF6\",\"gridcolor\":\"white\",\"gridwidth\":2,\"linecolor\":\"white\",\"showbackground\":true,\"ticks\":\"\",\"zerolinecolor\":\"white\"},\"yaxis\":{\"backgroundcolor\":\"#E5ECF6\",\"gridcolor\":\"white\",\"gridwidth\":2,\"linecolor\":\"white\",\"showbackground\":true,\"ticks\":\"\",\"zerolinecolor\":\"white\"},\"zaxis\":{\"backgroundcolor\":\"#E5ECF6\",\"gridcolor\":\"white\",\"gridwidth\":2,\"linecolor\":\"white\",\"showbackground\":true,\"ticks\":\"\",\"zerolinecolor\":\"white\"}},\"shapedefaults\":{\"line\":{\"color\":\"#2a3f5f\"}},\"ternary\":{\"aaxis\":{\"gridcolor\":\"white\",\"linecolor\":\"white\",\"ticks\":\"\"},\"baxis\":{\"gridcolor\":\"white\",\"linecolor\":\"white\",\"ticks\":\"\"},\"bgcolor\":\"#E5ECF6\",\"caxis\":{\"gridcolor\":\"white\",\"linecolor\":\"white\",\"ticks\":\"\"}},\"title\":{\"x\":0.05},\"xaxis\":{\"automargin\":true,\"gridcolor\":\"white\",\"linecolor\":\"white\",\"ticks\":\"\",\"title\":{\"standoff\":15},\"zerolinecolor\":\"white\",\"zerolinewidth\":2},\"yaxis\":{\"automargin\":true,\"gridcolor\":\"white\",\"linecolor\":\"white\",\"ticks\":\"\",\"title\":{\"standoff\":15},\"zerolinecolor\":\"white\",\"zerolinewidth\":2}}},\"title\":{\"text\":\"FOOTING PLAN\"},\"width\":500,\"height\":500,\"showlegend\":true},                        {\"responsive\": true}                    ).then(function(){\n",
       "                            \n",
       "var gd = document.getElementById('fc364844-b626-48d8-a892-468f514a755f');\n",
       "var x = new MutationObserver(function (mutations, observer) {{\n",
       "        var display = window.getComputedStyle(gd).display;\n",
       "        if (!display || display === 'none') {{\n",
       "            console.log([gd, 'removed!']);\n",
       "            Plotly.purge(gd);\n",
       "            observer.disconnect();\n",
       "        }}\n",
       "}});\n",
       "\n",
       "// Listen for the removal of the full notebook cells\n",
       "var notebookContainer = gd.closest('#notebook-container');\n",
       "if (notebookContainer) {{\n",
       "    x.observe(notebookContainer, {childList: true});\n",
       "}}\n",
       "\n",
       "// Listen for the clearing of the current output cell\n",
       "var outputEl = gd.closest('.output');\n",
       "if (outputEl) {{\n",
       "    x.observe(outputEl, {childList: true});\n",
       "}}\n",
       "\n",
       "                        })                };                });            </script>        </div>"
      ]
     },
     "metadata": {},
     "output_type": "display_data"
    }
   ],
   "source": [
    "fdn.plot_geometry()"
   ]
  },
  {
   "cell_type": "markdown",
   "metadata": {},
   "source": [
    "#### Assign dead and imposed loads"
   ]
  },
  {
   "cell_type": "code",
   "execution_count": 4,
   "metadata": {},
   "outputs": [],
   "source": [
    "fdn.column_axial_loads(permanent_axial_load=800,imposed_axial_load=300)"
   ]
  },
  {
   "cell_type": "markdown",
   "metadata": {},
   "source": [
    "#### Assign foundation loads needed to calculate the self weight of the soil and the concrete"
   ]
  },
  {
   "cell_type": "code",
   "execution_count": 5,
   "metadata": {},
   "outputs": [
    {
     "name": "stdout",
     "output_type": "stream",
     "text": [
      "The self weight of concrete is 15.6kN/m² while the soil weight is 0.0kN/m²\n"
     ]
    }
   ],
   "source": [
    "#since this example doesnt include the depth of soil above the foundation it is set to zero. The initial depth is set to 300\n",
    "#this can be changed easily if the foundation fails shear and punching shear checks\n",
    "z = fdn.foundation_loads(foundation_thickness=650,soil_depth_abv_foundation=0,soil_unit_weight=18,concrete_unit_weight=24)\n",
    "print(f'The self weight of concrete is {z[0]}kN/m\\u00b2 while the soil weight is {z[1]}kN/m\\u00b2')"
   ]
  },
  {
   "cell_type": "markdown",
   "metadata": {},
   "source": [
    "#### Check the base pressure at the foundation four corners"
   ]
  },
  {
   "cell_type": "code",
   "execution_count": 6,
   "metadata": {},
   "outputs": [
    {
     "name": "stdout",
     "output_type": "stream",
     "text": [
      "(191.6, 191.6, 191.6, 191.6)\n"
     ]
    }
   ],
   "source": [
    "z =fdn.pad_base_pressures_sls()\n",
    "print(z)"
   ]
  },
  {
   "cell_type": "markdown",
   "metadata": {},
   "source": [
    "#### Check the foundation soil pressure at serviceability limit state to ensure the foundation sizing is adequate\n"
   ]
  },
  {
   "cell_type": "code",
   "execution_count": 7,
   "metadata": {},
   "outputs": [
    {
     "name": "stdout",
     "output_type": "stream",
     "text": [
      "PASS - Presumed bearing capacity exceeds design base pressure\n"
     ]
    }
   ],
   "source": [
    "fdn.bearing_pressure_check_sls()\n",
    "#This shpws that the foundation size is adequate"
   ]
  },
  {
   "cell_type": "markdown",
   "metadata": {},
   "source": [
    "#### Show the base pressures"
   ]
  },
  {
   "cell_type": "code",
   "execution_count": 8,
   "metadata": {},
   "outputs": [
    {
     "data": {
      "text/html": [
       "<div>                            <div id=\"976af40f-32ae-4658-afec-eecc69c97e34\" class=\"plotly-graph-div\" style=\"height:500px; width:500px;\"></div>            <script type=\"text/javascript\">                require([\"plotly\"], function(Plotly) {                    window.PLOTLYENV=window.PLOTLYENV || {};                                    if (document.getElementById(\"976af40f-32ae-4658-afec-eecc69c97e34\")) {                    Plotly.newPlot(                        \"976af40f-32ae-4658-afec-eecc69c97e34\",                        [{\"line\":{\"color\":\"red\",\"width\":1.5},\"mode\":\"lines+text\",\"name\":\"FOOTING\",\"text\":[\"191.6\",\"191.6\",\"191.6\",\"191.6\"],\"textposition\":\"top center\",\"x\":[0,2.5,2.5,0,0],\"y\":[0,0,2.5,2.5,0],\"type\":\"scatter\"},{\"line\":{\"color\":\"green\",\"width\":1.5},\"mode\":\"lines\",\"name\":\"COLUMN\",\"x\":[1.05,1.45,1.45,1.05,1.05],\"y\":[1.05,1.05,1.45,1.45,1.05],\"type\":\"scatter\"}],                        {\"template\":{\"data\":{\"bar\":[{\"error_x\":{\"color\":\"#2a3f5f\"},\"error_y\":{\"color\":\"#2a3f5f\"},\"marker\":{\"line\":{\"color\":\"#E5ECF6\",\"width\":0.5},\"pattern\":{\"fillmode\":\"overlay\",\"size\":10,\"solidity\":0.2}},\"type\":\"bar\"}],\"barpolar\":[{\"marker\":{\"line\":{\"color\":\"#E5ECF6\",\"width\":0.5},\"pattern\":{\"fillmode\":\"overlay\",\"size\":10,\"solidity\":0.2}},\"type\":\"barpolar\"}],\"carpet\":[{\"aaxis\":{\"endlinecolor\":\"#2a3f5f\",\"gridcolor\":\"white\",\"linecolor\":\"white\",\"minorgridcolor\":\"white\",\"startlinecolor\":\"#2a3f5f\"},\"baxis\":{\"endlinecolor\":\"#2a3f5f\",\"gridcolor\":\"white\",\"linecolor\":\"white\",\"minorgridcolor\":\"white\",\"startlinecolor\":\"#2a3f5f\"},\"type\":\"carpet\"}],\"choropleth\":[{\"colorbar\":{\"outlinewidth\":0,\"ticks\":\"\"},\"type\":\"choropleth\"}],\"contour\":[{\"colorbar\":{\"outlinewidth\":0,\"ticks\":\"\"},\"colorscale\":[[0.0,\"#0d0887\"],[0.1111111111111111,\"#46039f\"],[0.2222222222222222,\"#7201a8\"],[0.3333333333333333,\"#9c179e\"],[0.4444444444444444,\"#bd3786\"],[0.5555555555555556,\"#d8576b\"],[0.6666666666666666,\"#ed7953\"],[0.7777777777777778,\"#fb9f3a\"],[0.8888888888888888,\"#fdca26\"],[1.0,\"#f0f921\"]],\"type\":\"contour\"}],\"contourcarpet\":[{\"colorbar\":{\"outlinewidth\":0,\"ticks\":\"\"},\"type\":\"contourcarpet\"}],\"heatmap\":[{\"colorbar\":{\"outlinewidth\":0,\"ticks\":\"\"},\"colorscale\":[[0.0,\"#0d0887\"],[0.1111111111111111,\"#46039f\"],[0.2222222222222222,\"#7201a8\"],[0.3333333333333333,\"#9c179e\"],[0.4444444444444444,\"#bd3786\"],[0.5555555555555556,\"#d8576b\"],[0.6666666666666666,\"#ed7953\"],[0.7777777777777778,\"#fb9f3a\"],[0.8888888888888888,\"#fdca26\"],[1.0,\"#f0f921\"]],\"type\":\"heatmap\"}],\"heatmapgl\":[{\"colorbar\":{\"outlinewidth\":0,\"ticks\":\"\"},\"colorscale\":[[0.0,\"#0d0887\"],[0.1111111111111111,\"#46039f\"],[0.2222222222222222,\"#7201a8\"],[0.3333333333333333,\"#9c179e\"],[0.4444444444444444,\"#bd3786\"],[0.5555555555555556,\"#d8576b\"],[0.6666666666666666,\"#ed7953\"],[0.7777777777777778,\"#fb9f3a\"],[0.8888888888888888,\"#fdca26\"],[1.0,\"#f0f921\"]],\"type\":\"heatmapgl\"}],\"histogram\":[{\"marker\":{\"pattern\":{\"fillmode\":\"overlay\",\"size\":10,\"solidity\":0.2}},\"type\":\"histogram\"}],\"histogram2d\":[{\"colorbar\":{\"outlinewidth\":0,\"ticks\":\"\"},\"colorscale\":[[0.0,\"#0d0887\"],[0.1111111111111111,\"#46039f\"],[0.2222222222222222,\"#7201a8\"],[0.3333333333333333,\"#9c179e\"],[0.4444444444444444,\"#bd3786\"],[0.5555555555555556,\"#d8576b\"],[0.6666666666666666,\"#ed7953\"],[0.7777777777777778,\"#fb9f3a\"],[0.8888888888888888,\"#fdca26\"],[1.0,\"#f0f921\"]],\"type\":\"histogram2d\"}],\"histogram2dcontour\":[{\"colorbar\":{\"outlinewidth\":0,\"ticks\":\"\"},\"colorscale\":[[0.0,\"#0d0887\"],[0.1111111111111111,\"#46039f\"],[0.2222222222222222,\"#7201a8\"],[0.3333333333333333,\"#9c179e\"],[0.4444444444444444,\"#bd3786\"],[0.5555555555555556,\"#d8576b\"],[0.6666666666666666,\"#ed7953\"],[0.7777777777777778,\"#fb9f3a\"],[0.8888888888888888,\"#fdca26\"],[1.0,\"#f0f921\"]],\"type\":\"histogram2dcontour\"}],\"mesh3d\":[{\"colorbar\":{\"outlinewidth\":0,\"ticks\":\"\"},\"type\":\"mesh3d\"}],\"parcoords\":[{\"line\":{\"colorbar\":{\"outlinewidth\":0,\"ticks\":\"\"}},\"type\":\"parcoords\"}],\"pie\":[{\"automargin\":true,\"type\":\"pie\"}],\"scatter\":[{\"marker\":{\"colorbar\":{\"outlinewidth\":0,\"ticks\":\"\"}},\"type\":\"scatter\"}],\"scatter3d\":[{\"line\":{\"colorbar\":{\"outlinewidth\":0,\"ticks\":\"\"}},\"marker\":{\"colorbar\":{\"outlinewidth\":0,\"ticks\":\"\"}},\"type\":\"scatter3d\"}],\"scattercarpet\":[{\"marker\":{\"colorbar\":{\"outlinewidth\":0,\"ticks\":\"\"}},\"type\":\"scattercarpet\"}],\"scattergeo\":[{\"marker\":{\"colorbar\":{\"outlinewidth\":0,\"ticks\":\"\"}},\"type\":\"scattergeo\"}],\"scattergl\":[{\"marker\":{\"colorbar\":{\"outlinewidth\":0,\"ticks\":\"\"}},\"type\":\"scattergl\"}],\"scattermapbox\":[{\"marker\":{\"colorbar\":{\"outlinewidth\":0,\"ticks\":\"\"}},\"type\":\"scattermapbox\"}],\"scatterpolar\":[{\"marker\":{\"colorbar\":{\"outlinewidth\":0,\"ticks\":\"\"}},\"type\":\"scatterpolar\"}],\"scatterpolargl\":[{\"marker\":{\"colorbar\":{\"outlinewidth\":0,\"ticks\":\"\"}},\"type\":\"scatterpolargl\"}],\"scatterternary\":[{\"marker\":{\"colorbar\":{\"outlinewidth\":0,\"ticks\":\"\"}},\"type\":\"scatterternary\"}],\"surface\":[{\"colorbar\":{\"outlinewidth\":0,\"ticks\":\"\"},\"colorscale\":[[0.0,\"#0d0887\"],[0.1111111111111111,\"#46039f\"],[0.2222222222222222,\"#7201a8\"],[0.3333333333333333,\"#9c179e\"],[0.4444444444444444,\"#bd3786\"],[0.5555555555555556,\"#d8576b\"],[0.6666666666666666,\"#ed7953\"],[0.7777777777777778,\"#fb9f3a\"],[0.8888888888888888,\"#fdca26\"],[1.0,\"#f0f921\"]],\"type\":\"surface\"}],\"table\":[{\"cells\":{\"fill\":{\"color\":\"#EBF0F8\"},\"line\":{\"color\":\"white\"}},\"header\":{\"fill\":{\"color\":\"#C8D4E3\"},\"line\":{\"color\":\"white\"}},\"type\":\"table\"}]},\"layout\":{\"annotationdefaults\":{\"arrowcolor\":\"#2a3f5f\",\"arrowhead\":0,\"arrowwidth\":1},\"autotypenumbers\":\"strict\",\"coloraxis\":{\"colorbar\":{\"outlinewidth\":0,\"ticks\":\"\"}},\"colorscale\":{\"diverging\":[[0,\"#8e0152\"],[0.1,\"#c51b7d\"],[0.2,\"#de77ae\"],[0.3,\"#f1b6da\"],[0.4,\"#fde0ef\"],[0.5,\"#f7f7f7\"],[0.6,\"#e6f5d0\"],[0.7,\"#b8e186\"],[0.8,\"#7fbc41\"],[0.9,\"#4d9221\"],[1,\"#276419\"]],\"sequential\":[[0.0,\"#0d0887\"],[0.1111111111111111,\"#46039f\"],[0.2222222222222222,\"#7201a8\"],[0.3333333333333333,\"#9c179e\"],[0.4444444444444444,\"#bd3786\"],[0.5555555555555556,\"#d8576b\"],[0.6666666666666666,\"#ed7953\"],[0.7777777777777778,\"#fb9f3a\"],[0.8888888888888888,\"#fdca26\"],[1.0,\"#f0f921\"]],\"sequentialminus\":[[0.0,\"#0d0887\"],[0.1111111111111111,\"#46039f\"],[0.2222222222222222,\"#7201a8\"],[0.3333333333333333,\"#9c179e\"],[0.4444444444444444,\"#bd3786\"],[0.5555555555555556,\"#d8576b\"],[0.6666666666666666,\"#ed7953\"],[0.7777777777777778,\"#fb9f3a\"],[0.8888888888888888,\"#fdca26\"],[1.0,\"#f0f921\"]]},\"colorway\":[\"#636efa\",\"#EF553B\",\"#00cc96\",\"#ab63fa\",\"#FFA15A\",\"#19d3f3\",\"#FF6692\",\"#B6E880\",\"#FF97FF\",\"#FECB52\"],\"font\":{\"color\":\"#2a3f5f\"},\"geo\":{\"bgcolor\":\"white\",\"lakecolor\":\"white\",\"landcolor\":\"#E5ECF6\",\"showlakes\":true,\"showland\":true,\"subunitcolor\":\"white\"},\"hoverlabel\":{\"align\":\"left\"},\"hovermode\":\"closest\",\"mapbox\":{\"style\":\"light\"},\"paper_bgcolor\":\"white\",\"plot_bgcolor\":\"#E5ECF6\",\"polar\":{\"angularaxis\":{\"gridcolor\":\"white\",\"linecolor\":\"white\",\"ticks\":\"\"},\"bgcolor\":\"#E5ECF6\",\"radialaxis\":{\"gridcolor\":\"white\",\"linecolor\":\"white\",\"ticks\":\"\"}},\"scene\":{\"xaxis\":{\"backgroundcolor\":\"#E5ECF6\",\"gridcolor\":\"white\",\"gridwidth\":2,\"linecolor\":\"white\",\"showbackground\":true,\"ticks\":\"\",\"zerolinecolor\":\"white\"},\"yaxis\":{\"backgroundcolor\":\"#E5ECF6\",\"gridcolor\":\"white\",\"gridwidth\":2,\"linecolor\":\"white\",\"showbackground\":true,\"ticks\":\"\",\"zerolinecolor\":\"white\"},\"zaxis\":{\"backgroundcolor\":\"#E5ECF6\",\"gridcolor\":\"white\",\"gridwidth\":2,\"linecolor\":\"white\",\"showbackground\":true,\"ticks\":\"\",\"zerolinecolor\":\"white\"}},\"shapedefaults\":{\"line\":{\"color\":\"#2a3f5f\"}},\"ternary\":{\"aaxis\":{\"gridcolor\":\"white\",\"linecolor\":\"white\",\"ticks\":\"\"},\"baxis\":{\"gridcolor\":\"white\",\"linecolor\":\"white\",\"ticks\":\"\"},\"bgcolor\":\"#E5ECF6\",\"caxis\":{\"gridcolor\":\"white\",\"linecolor\":\"white\",\"ticks\":\"\"}},\"title\":{\"x\":0.05},\"xaxis\":{\"automargin\":true,\"gridcolor\":\"white\",\"linecolor\":\"white\",\"ticks\":\"\",\"title\":{\"standoff\":15},\"zerolinecolor\":\"white\",\"zerolinewidth\":2},\"yaxis\":{\"automargin\":true,\"gridcolor\":\"white\",\"linecolor\":\"white\",\"ticks\":\"\",\"title\":{\"standoff\":15},\"zerolinecolor\":\"white\",\"zerolinewidth\":2}}},\"title\":{\"text\":\"FOOTING PLAN\"},\"width\":500,\"height\":500,\"showlegend\":true},                        {\"responsive\": true}                    ).then(function(){\n",
       "                            \n",
       "var gd = document.getElementById('976af40f-32ae-4658-afec-eecc69c97e34');\n",
       "var x = new MutationObserver(function (mutations, observer) {{\n",
       "        var display = window.getComputedStyle(gd).display;\n",
       "        if (!display || display === 'none') {{\n",
       "            console.log([gd, 'removed!']);\n",
       "            Plotly.purge(gd);\n",
       "            observer.disconnect();\n",
       "        }}\n",
       "}});\n",
       "\n",
       "// Listen for the removal of the full notebook cells\n",
       "var notebookContainer = gd.closest('#notebook-container');\n",
       "if (notebookContainer) {{\n",
       "    x.observe(notebookContainer, {childList: true});\n",
       "}}\n",
       "\n",
       "// Listen for the clearing of the current output cell\n",
       "var outputEl = gd.closest('.output');\n",
       "if (outputEl) {{\n",
       "    x.observe(outputEl, {childList: true});\n",
       "}}\n",
       "\n",
       "                        })                };                });            </script>        </div>"
      ]
     },
     "metadata": {},
     "output_type": "display_data"
    }
   ],
   "source": [
    "fdn.plot_base_pressures_sls()"
   ]
  },
  {
   "cell_type": "markdown",
   "metadata": {},
   "source": [
    "#### Since analysis of the pad foundation is satisfactory design can be done by calling the padfoundation design class"
   ]
  },
  {
   "cell_type": "markdown",
   "metadata": {},
   "source": [
    "#### Design of the pad foundation"
   ]
  },
  {
   "cell_type": "code",
   "execution_count": 9,
   "metadata": {},
   "outputs": [],
   "source": [
    "fdn_design = padFoundationDesign(\n",
    "    fdn, fck=30, fyk=500, concrete_cover=40, bar_diameterX=16, bar_diameterY=16\n",
    ")"
   ]
  },
  {
   "cell_type": "markdown",
   "metadata": {},
   "source": [
    "#### Plot the foundation loading diagram in x direction"
   ]
  },
  {
   "cell_type": "code",
   "execution_count": 10,
   "metadata": {},
   "outputs": [
    {
     "name": "stdout",
     "output_type": "stream",
     "text": [
      "layout.Title({\n",
      "    'font': {'size': 24}, 'text': 'Beam Schematic', 'x': 0.5\n",
      "})\n"
     ]
    },
    {
     "data": {
      "text/html": [
       "<div>                            <div id=\"d13888b5-cc6e-4961-884b-b1f17ecc0a5f\" class=\"plotly-graph-div\" style=\"height:350px; width:100%;\"></div>            <script type=\"text/javascript\">                require([\"plotly\"], function(Plotly) {                    window.PLOTLYENV=window.PLOTLYENV || {};                                    if (document.getElementById(\"d13888b5-cc6e-4961-884b-b1f17ecc0a5f\")) {                    Plotly.newPlot(                        \"d13888b5-cc6e-4961-884b-b1f17ecc0a5f\",                        [{\"hoverinfo\":\"skip\",\"hovertemplate\":\"%{x} %{meta[0]}\",\"line\":{\"color\":\"purple\",\"width\":2},\"meta\":[\"m\"],\"mode\":\"lines\",\"name\":\"Beam_\",\"x\":[0,2.5],\"y\":[0,0],\"type\":\"scatter\"},{\"hoverinfo\":\"skip\",\"hovertemplate\":\"x: %{x:.3f} %{meta[1]}<br>Fixed: %{meta[0]}\",\"marker\":{\"color\":\"blue\",\"size\":10,\"symbol\":\"triangle-up\"},\"meta\":[\"[1, 1, 1]\",\"m\"],\"mode\":\"markers\",\"name\":\"Support\",\"opacity\":0,\"showlegend\":false,\"x\":[1.25],\"y\":[0],\"type\":\"scatter\"},{\"fill\":\"tozeroy\",\"hoverinfo\":\"skip\",\"hovertemplate\":\"\",\"line\":{\"color\":\"mediumpurple\",\"width\":1},\"mode\":\"lines\",\"name\":\"Distributed<br>Load\",\"x\":[0.0,0.01,0.02,0.03,0.04,0.05,0.06,0.07,0.08,0.09,0.1,0.11,0.12,0.13,0.14,0.15,0.16,0.17,0.18,0.19,0.2,0.21,0.22,0.23,0.24,0.25,0.26,0.27,0.28,0.29,0.3,0.31,0.32,0.33,0.34,0.35000000000000003,0.36,0.37,0.38,0.39,0.4,0.41000000000000003,0.42,0.43,0.44,0.45,0.46,0.47000000000000003,0.48,0.49,0.5,0.51,0.52,0.53,0.54,0.55,0.56,0.5700000000000001,0.58,0.59,0.6,0.61,0.62,0.63,0.64,0.65,0.66,0.67,0.68,0.6900000000000001,0.7000000000000001,0.71,0.72,0.73,0.74,0.75,0.76,0.77,0.78,0.79,0.8,0.81,0.8200000000000001,0.8300000000000001,0.84,0.85,0.86,0.87,0.88,0.89,0.9,0.91,0.92,0.93,0.9400000000000001,0.9500000000000001,0.96,0.97,0.98,0.99,1.0,1.01,1.02,1.03,1.04,1.05,1.06,1.07,1.08,1.09,1.1,1.11,1.12,1.1300000000000001,1.1400000000000001,1.1500000000000001,1.16,1.17,1.18,1.19,1.2,1.21,1.22,1.23,1.24,1.25,1.26,1.27,1.28,1.29,1.3,1.31,1.32,1.33,1.34,1.35,1.36,1.37,1.3800000000000001,1.3900000000000001,1.4000000000000001,1.41,1.42,1.43,1.44,1.45,1.46,1.47,1.48,1.49,1.5,1.51,1.52,1.53,1.54,1.55,1.56,1.57,1.58,1.59,1.6,1.61,1.62,1.6300000000000001,1.6400000000000001,1.6500000000000001,1.6600000000000001,1.67,1.68,1.69,1.7,1.71,1.72,1.73,1.74,1.75,1.76,1.77,1.78,1.79,1.8,1.81,1.82,1.83,1.84,1.85,1.86,1.87,1.8800000000000001,1.8900000000000001,1.9000000000000001,1.9100000000000001,1.92,1.93,1.94,1.95,1.96,1.97,1.98,1.99,2.0,2.0100000000000002,2.02,2.0300000000000002,2.04,2.05,2.06,2.07,2.08,2.09,2.1,2.11,2.12,2.13,2.14,2.15,2.16,2.17,2.18,2.19,2.2,2.21,2.22,2.23,2.24,2.25,2.2600000000000002,2.27,2.2800000000000002,2.29,2.3000000000000003,2.31,2.32,2.33,2.34,2.35,2.36,2.37,2.38,2.39,2.4,2.41,2.42,2.43,2.44,2.45,2.46,2.47,2.48,2.49,2.5],\"y\":[-1.0,-1.0,-1.0,-1.0,-1.0,-1.0,-1.0,-1.0,-1.0,-1.0,-1.0,-1.0,-1.0,-1.0,-1.0,-1.0,-1.0,-1.0,-1.0,-1.0,-1.0,-1.0,-1.0,-1.0,-1.0,-1.0,-1.0,-1.0,-1.0,-1.0,-1.0,-1.0,-1.0,-1.0,-1.0,-1.0,-1.0,-1.0,-1.0,-1.0,-1.0,-1.0,-1.0,-1.0,-1.0,-1.0,-1.0,-1.0,-1.0,-1.0,-1.0,-1.0,-1.0,-1.0,-1.0,-1.0,-1.0,-1.0,-1.0,-1.0,-1.0,-1.0,-1.0,-1.0,-1.0,-1.0,-1.0,-1.0,-1.0,-1.0,-1.0,-1.0,-1.0,-1.0,-1.0,-1.0,-1.0,-1.0,-1.0,-1.0,-1.0,-1.0,-1.0,-1.0,-1.0,-1.0,-1.0,-1.0,-1.0,-1.0,-1.0,-1.0,-1.0,-1.0,-1.0,-1.0,-1.0,-1.0,-1.0,-1.0,-1.0,-1.0,-1.0,-1.0,-1.0,-1.0,-1.0,-1.0,-1.0,-1.0,-1.0,-1.0,-1.0,-1.0,-1.0,-1.0,-1.0,-1.0,-1.0,-1.0,-1.0,-1.0,-1.0,-1.0,-1.0,-1.0,-1.0,-1.0,-1.0,-1.0,-1.0,-1.0,-1.0,-1.0,-1.0,-1.0,-1.0,-1.0,-1.0,-1.0,-1.0,-1.0,-1.0,-1.0,-1.0,-1.0,-1.0,-1.0,-1.0,-1.0,-1.0,-1.0,-1.0,-1.0,-1.0,-1.0,-1.0,-1.0,-1.0,-1.0,-1.0,-1.0,-1.0,-1.0,-1.0,-1.0,-1.0,-1.0,-1.0,-1.0,-1.0,-1.0,-1.0,-1.0,-1.0,-1.0,-1.0,-1.0,-1.0,-1.0,-1.0,-1.0,-1.0,-1.0,-1.0,-1.0,-1.0,-1.0,-1.0,-1.0,-1.0,-1.0,-1.0,-1.0,-1.0,-1.0,-1.0,-1.0,-1.0,-1.0,-1.0,-1.0,-1.0,-1.0,-1.0,-1.0,-1.0,-1.0,-1.0,-1.0,-1.0,-1.0,-1.0,-1.0,-1.0,-1.0,-1.0,-1.0,-1.0,-1.0,-1.0,-1.0,-1.0,-1.0,-1.0,-1.0,-1.0,-1.0,-1.0,-1.0,-1.0,-1.0,-1.0,-1.0,-1.0,-1.0,-1.0,-1.0,-1.0,-1.0,-1.0,-1.0,-1.0,-1.0,-1.0,-1.0,-1.0,-1.0,-1.0,-1.0,-1.0],\"type\":\"scatter\"},{\"hoverinfo\":\"skip\",\"hovertemplate\":\"x: %{meta[0]:.3f} %{meta[3]}<br>Force: %{meta[1]:.3f} %{meta[4]}        <br>Angle: %{meta[2]:.3f} deg\",\"marker\":{\"color\":\"mediumpurple\",\"size\":10,\"symbol\":\"triangle-up\"},\"meta\":[0,664650.0,90,\"m\",\"N/m\"],\"mode\":\"markers\",\"name\":\"Distributed<br>Load\",\"opacity\":0,\"showlegend\":false,\"x\":[0],\"y\":[0],\"type\":\"scatter\"},{\"hoverinfo\":\"skip\",\"hovertemplate\":\"x: %{meta[0]:.3f} %{meta[3]}<br>Force: %{meta[1]:.3f} %{meta[4]}        <br>Angle: %{meta[2]:.3f} deg\",\"marker\":{\"color\":\"mediumpurple\",\"size\":10,\"symbol\":\"triangle-up\"},\"meta\":[2.5,664650.0,90,\"m\",\"N/m\"],\"mode\":\"markers\",\"name\":\"Distributed<br>Load\",\"opacity\":0,\"showlegend\":false,\"x\":[2.5],\"y\":[0],\"type\":\"scatter\"},{\"fill\":\"tozeroy\",\"hoverinfo\":\"skip\",\"hovertemplate\":\"\",\"line\":{\"color\":\"mediumpurple\",\"width\":1},\"mode\":\"lines\",\"name\":\"Distributed<br>Load\",\"x\":[0.0,0.01,0.02,0.03,0.04,0.05,0.06,0.07,0.08,0.09,0.1,0.11,0.12,0.13,0.14,0.15,0.16,0.17,0.18,0.19,0.2,0.21,0.22,0.23,0.24,0.25,0.26,0.27,0.28,0.29,0.3,0.31,0.32,0.33,0.34,0.35000000000000003,0.36,0.37,0.38,0.39,0.4,0.41000000000000003,0.42,0.43,0.44,0.45,0.46,0.47000000000000003,0.48,0.49,0.5,0.51,0.52,0.53,0.54,0.55,0.56,0.5700000000000001,0.58,0.59,0.6,0.61,0.62,0.63,0.64,0.65,0.66,0.67,0.68,0.6900000000000001,0.7000000000000001,0.71,0.72,0.73,0.74,0.75,0.76,0.77,0.78,0.79,0.8,0.81,0.8200000000000001,0.8300000000000001,0.84,0.85,0.86,0.87,0.88,0.89,0.9,0.91,0.92,0.93,0.9400000000000001,0.9500000000000001,0.96,0.97,0.98,0.99,1.0,1.01,1.02,1.03,1.04,1.05,1.06,1.07,1.08,1.09,1.1,1.11,1.12,1.1300000000000001,1.1400000000000001,1.1500000000000001,1.16,1.17,1.18,1.19,1.2,1.21,1.22,1.23,1.24,1.25,1.26,1.27,1.28,1.29,1.3,1.31,1.32,1.33,1.34,1.35,1.36,1.37,1.3800000000000001,1.3900000000000001,1.4000000000000001,1.41,1.42,1.43,1.44,1.45,1.46,1.47,1.48,1.49,1.5,1.51,1.52,1.53,1.54,1.55,1.56,1.57,1.58,1.59,1.6,1.61,1.62,1.6300000000000001,1.6400000000000001,1.6500000000000001,1.6600000000000001,1.67,1.68,1.69,1.7,1.71,1.72,1.73,1.74,1.75,1.76,1.77,1.78,1.79,1.8,1.81,1.82,1.83,1.84,1.85,1.86,1.87,1.8800000000000001,1.8900000000000001,1.9000000000000001,1.9100000000000001,1.92,1.93,1.94,1.95,1.96,1.97,1.98,1.99,2.0,2.0100000000000002,2.02,2.0300000000000002,2.04,2.05,2.06,2.07,2.08,2.09,2.1,2.11,2.12,2.13,2.14,2.15,2.16,2.17,2.18,2.19,2.2,2.21,2.22,2.23,2.24,2.25,2.2600000000000002,2.27,2.2800000000000002,2.29,2.3000000000000003,2.31,2.32,2.33,2.34,2.35,2.36,2.37,2.38,2.39,2.4,2.41,2.42,2.43,2.44,2.45,2.46,2.47,2.48,2.49,2.5],\"y\":[1.0,1.0,1.0,1.0,1.0,1.0,1.0,1.0,1.0,1.0,1.0,1.0,1.0,1.0,1.0,1.0,1.0,1.0,1.0,1.0,1.0,1.0,1.0,1.0,1.0,1.0,1.0,1.0,1.0,1.0,1.0,1.0,1.0,1.0,1.0,1.0,1.0,1.0,1.0,1.0,1.0,1.0,1.0,1.0,1.0,1.0,1.0,1.0,1.0,1.0,1.0,1.0,1.0,1.0,1.0,1.0,1.0,1.0,1.0,1.0,1.0,1.0,1.0,1.0,1.0,1.0,1.0,1.0,1.0,1.0,1.0,1.0,1.0,1.0,1.0,1.0,1.0,1.0,1.0,1.0,1.0,1.0,1.0,1.0,1.0,1.0,1.0,1.0,1.0,1.0,1.0,1.0,1.0,1.0,1.0,1.0,1.0,1.0,1.0,1.0,1.0,1.0,1.0,1.0,1.0,1.0,1.0,1.0,1.0,1.0,1.0,1.0,1.0,1.0,1.0,1.0,1.0,1.0,1.0,1.0,1.0,1.0,1.0,1.0,1.0,1.0,1.0,1.0,1.0,1.0,1.0,1.0,1.0,1.0,1.0,1.0,1.0,1.0,1.0,1.0,1.0,1.0,1.0,1.0,1.0,1.0,1.0,1.0,1.0,1.0,1.0,1.0,1.0,1.0,1.0,1.0,1.0,1.0,1.0,1.0,1.0,1.0,1.0,1.0,1.0,1.0,1.0,1.0,1.0,1.0,1.0,1.0,1.0,1.0,1.0,1.0,1.0,1.0,1.0,1.0,1.0,1.0,1.0,1.0,1.0,1.0,1.0,1.0,1.0,1.0,1.0,1.0,1.0,1.0,1.0,1.0,1.0,1.0,1.0,1.0,1.0,1.0,1.0,1.0,1.0,1.0,1.0,1.0,1.0,1.0,1.0,1.0,1.0,1.0,1.0,1.0,1.0,1.0,1.0,1.0,1.0,1.0,1.0,1.0,1.0,1.0,1.0,1.0,1.0,1.0,1.0,1.0,1.0,1.0,1.0,1.0,1.0,1.0,1.0,1.0,1.0,1.0,1.0,1.0,1.0,1.0,1.0,1.0,1.0,1.0,1.0],\"type\":\"scatter\"},{\"hoverinfo\":\"skip\",\"hovertemplate\":\"x: %{meta[0]:.3f} %{meta[3]}<br>Force: %{meta[1]:.3f} %{meta[4]}        <br>Angle: %{meta[2]:.3f} deg\",\"marker\":{\"color\":\"mediumpurple\",\"size\":10,\"symbol\":\"triangle-up\"},\"meta\":[0,-52650.0,90,\"m\",\"N/m\"],\"mode\":\"markers\",\"name\":\"Distributed<br>Load\",\"opacity\":0,\"showlegend\":false,\"x\":[0],\"y\":[0],\"type\":\"scatter\"},{\"hoverinfo\":\"skip\",\"hovertemplate\":\"x: %{meta[0]:.3f} %{meta[3]}<br>Force: %{meta[1]:.3f} %{meta[4]}        <br>Angle: %{meta[2]:.3f} deg\",\"marker\":{\"color\":\"mediumpurple\",\"size\":10,\"symbol\":\"triangle-up\"},\"meta\":[2.5,-52650.0,90,\"m\",\"N/m\"],\"mode\":\"markers\",\"name\":\"Distributed<br>Load\",\"opacity\":0,\"showlegend\":false,\"x\":[2.5],\"y\":[0],\"type\":\"scatter\"}],                        {\"template\":{\"data\":{\"bar\":[{\"error_x\":{\"color\":\"#2a3f5f\"},\"error_y\":{\"color\":\"#2a3f5f\"},\"marker\":{\"line\":{\"color\":\"#E5ECF6\",\"width\":0.5},\"pattern\":{\"fillmode\":\"overlay\",\"size\":10,\"solidity\":0.2}},\"type\":\"bar\"}],\"barpolar\":[{\"marker\":{\"line\":{\"color\":\"#E5ECF6\",\"width\":0.5},\"pattern\":{\"fillmode\":\"overlay\",\"size\":10,\"solidity\":0.2}},\"type\":\"barpolar\"}],\"carpet\":[{\"aaxis\":{\"endlinecolor\":\"#2a3f5f\",\"gridcolor\":\"white\",\"linecolor\":\"white\",\"minorgridcolor\":\"white\",\"startlinecolor\":\"#2a3f5f\"},\"baxis\":{\"endlinecolor\":\"#2a3f5f\",\"gridcolor\":\"white\",\"linecolor\":\"white\",\"minorgridcolor\":\"white\",\"startlinecolor\":\"#2a3f5f\"},\"type\":\"carpet\"}],\"choropleth\":[{\"colorbar\":{\"outlinewidth\":0,\"ticks\":\"\"},\"type\":\"choropleth\"}],\"contour\":[{\"colorbar\":{\"outlinewidth\":0,\"ticks\":\"\"},\"colorscale\":[[0.0,\"#0d0887\"],[0.1111111111111111,\"#46039f\"],[0.2222222222222222,\"#7201a8\"],[0.3333333333333333,\"#9c179e\"],[0.4444444444444444,\"#bd3786\"],[0.5555555555555556,\"#d8576b\"],[0.6666666666666666,\"#ed7953\"],[0.7777777777777778,\"#fb9f3a\"],[0.8888888888888888,\"#fdca26\"],[1.0,\"#f0f921\"]],\"type\":\"contour\"}],\"contourcarpet\":[{\"colorbar\":{\"outlinewidth\":0,\"ticks\":\"\"},\"type\":\"contourcarpet\"}],\"heatmap\":[{\"colorbar\":{\"outlinewidth\":0,\"ticks\":\"\"},\"colorscale\":[[0.0,\"#0d0887\"],[0.1111111111111111,\"#46039f\"],[0.2222222222222222,\"#7201a8\"],[0.3333333333333333,\"#9c179e\"],[0.4444444444444444,\"#bd3786\"],[0.5555555555555556,\"#d8576b\"],[0.6666666666666666,\"#ed7953\"],[0.7777777777777778,\"#fb9f3a\"],[0.8888888888888888,\"#fdca26\"],[1.0,\"#f0f921\"]],\"type\":\"heatmap\"}],\"heatmapgl\":[{\"colorbar\":{\"outlinewidth\":0,\"ticks\":\"\"},\"colorscale\":[[0.0,\"#0d0887\"],[0.1111111111111111,\"#46039f\"],[0.2222222222222222,\"#7201a8\"],[0.3333333333333333,\"#9c179e\"],[0.4444444444444444,\"#bd3786\"],[0.5555555555555556,\"#d8576b\"],[0.6666666666666666,\"#ed7953\"],[0.7777777777777778,\"#fb9f3a\"],[0.8888888888888888,\"#fdca26\"],[1.0,\"#f0f921\"]],\"type\":\"heatmapgl\"}],\"histogram\":[{\"marker\":{\"pattern\":{\"fillmode\":\"overlay\",\"size\":10,\"solidity\":0.2}},\"type\":\"histogram\"}],\"histogram2d\":[{\"colorbar\":{\"outlinewidth\":0,\"ticks\":\"\"},\"colorscale\":[[0.0,\"#0d0887\"],[0.1111111111111111,\"#46039f\"],[0.2222222222222222,\"#7201a8\"],[0.3333333333333333,\"#9c179e\"],[0.4444444444444444,\"#bd3786\"],[0.5555555555555556,\"#d8576b\"],[0.6666666666666666,\"#ed7953\"],[0.7777777777777778,\"#fb9f3a\"],[0.8888888888888888,\"#fdca26\"],[1.0,\"#f0f921\"]],\"type\":\"histogram2d\"}],\"histogram2dcontour\":[{\"colorbar\":{\"outlinewidth\":0,\"ticks\":\"\"},\"colorscale\":[[0.0,\"#0d0887\"],[0.1111111111111111,\"#46039f\"],[0.2222222222222222,\"#7201a8\"],[0.3333333333333333,\"#9c179e\"],[0.4444444444444444,\"#bd3786\"],[0.5555555555555556,\"#d8576b\"],[0.6666666666666666,\"#ed7953\"],[0.7777777777777778,\"#fb9f3a\"],[0.8888888888888888,\"#fdca26\"],[1.0,\"#f0f921\"]],\"type\":\"histogram2dcontour\"}],\"mesh3d\":[{\"colorbar\":{\"outlinewidth\":0,\"ticks\":\"\"},\"type\":\"mesh3d\"}],\"parcoords\":[{\"line\":{\"colorbar\":{\"outlinewidth\":0,\"ticks\":\"\"}},\"type\":\"parcoords\"}],\"pie\":[{\"automargin\":true,\"type\":\"pie\"}],\"scatter\":[{\"marker\":{\"colorbar\":{\"outlinewidth\":0,\"ticks\":\"\"}},\"type\":\"scatter\"}],\"scatter3d\":[{\"line\":{\"colorbar\":{\"outlinewidth\":0,\"ticks\":\"\"}},\"marker\":{\"colorbar\":{\"outlinewidth\":0,\"ticks\":\"\"}},\"type\":\"scatter3d\"}],\"scattercarpet\":[{\"marker\":{\"colorbar\":{\"outlinewidth\":0,\"ticks\":\"\"}},\"type\":\"scattercarpet\"}],\"scattergeo\":[{\"marker\":{\"colorbar\":{\"outlinewidth\":0,\"ticks\":\"\"}},\"type\":\"scattergeo\"}],\"scattergl\":[{\"marker\":{\"colorbar\":{\"outlinewidth\":0,\"ticks\":\"\"}},\"type\":\"scattergl\"}],\"scattermapbox\":[{\"marker\":{\"colorbar\":{\"outlinewidth\":0,\"ticks\":\"\"}},\"type\":\"scattermapbox\"}],\"scatterpolar\":[{\"marker\":{\"colorbar\":{\"outlinewidth\":0,\"ticks\":\"\"}},\"type\":\"scatterpolar\"}],\"scatterpolargl\":[{\"marker\":{\"colorbar\":{\"outlinewidth\":0,\"ticks\":\"\"}},\"type\":\"scatterpolargl\"}],\"scatterternary\":[{\"marker\":{\"colorbar\":{\"outlinewidth\":0,\"ticks\":\"\"}},\"type\":\"scatterternary\"}],\"surface\":[{\"colorbar\":{\"outlinewidth\":0,\"ticks\":\"\"},\"colorscale\":[[0.0,\"#0d0887\"],[0.1111111111111111,\"#46039f\"],[0.2222222222222222,\"#7201a8\"],[0.3333333333333333,\"#9c179e\"],[0.4444444444444444,\"#bd3786\"],[0.5555555555555556,\"#d8576b\"],[0.6666666666666666,\"#ed7953\"],[0.7777777777777778,\"#fb9f3a\"],[0.8888888888888888,\"#fdca26\"],[1.0,\"#f0f921\"]],\"type\":\"surface\"}],\"table\":[{\"cells\":{\"fill\":{\"color\":\"#EBF0F8\"},\"line\":{\"color\":\"white\"}},\"header\":{\"fill\":{\"color\":\"#C8D4E3\"},\"line\":{\"color\":\"white\"}},\"type\":\"table\"}]},\"layout\":{\"annotationdefaults\":{\"arrowcolor\":\"#2a3f5f\",\"arrowhead\":0,\"arrowwidth\":1},\"autotypenumbers\":\"strict\",\"coloraxis\":{\"colorbar\":{\"outlinewidth\":0,\"ticks\":\"\"}},\"colorscale\":{\"diverging\":[[0,\"#8e0152\"],[0.1,\"#c51b7d\"],[0.2,\"#de77ae\"],[0.3,\"#f1b6da\"],[0.4,\"#fde0ef\"],[0.5,\"#f7f7f7\"],[0.6,\"#e6f5d0\"],[0.7,\"#b8e186\"],[0.8,\"#7fbc41\"],[0.9,\"#4d9221\"],[1,\"#276419\"]],\"sequential\":[[0.0,\"#0d0887\"],[0.1111111111111111,\"#46039f\"],[0.2222222222222222,\"#7201a8\"],[0.3333333333333333,\"#9c179e\"],[0.4444444444444444,\"#bd3786\"],[0.5555555555555556,\"#d8576b\"],[0.6666666666666666,\"#ed7953\"],[0.7777777777777778,\"#fb9f3a\"],[0.8888888888888888,\"#fdca26\"],[1.0,\"#f0f921\"]],\"sequentialminus\":[[0.0,\"#0d0887\"],[0.1111111111111111,\"#46039f\"],[0.2222222222222222,\"#7201a8\"],[0.3333333333333333,\"#9c179e\"],[0.4444444444444444,\"#bd3786\"],[0.5555555555555556,\"#d8576b\"],[0.6666666666666666,\"#ed7953\"],[0.7777777777777778,\"#fb9f3a\"],[0.8888888888888888,\"#fdca26\"],[1.0,\"#f0f921\"]]},\"colorway\":[\"#636efa\",\"#EF553B\",\"#00cc96\",\"#ab63fa\",\"#FFA15A\",\"#19d3f3\",\"#FF6692\",\"#B6E880\",\"#FF97FF\",\"#FECB52\"],\"font\":{\"color\":\"#2a3f5f\"},\"geo\":{\"bgcolor\":\"white\",\"lakecolor\":\"white\",\"landcolor\":\"#E5ECF6\",\"showlakes\":true,\"showland\":true,\"subunitcolor\":\"white\"},\"hoverlabel\":{\"align\":\"left\"},\"hovermode\":\"closest\",\"mapbox\":{\"style\":\"light\"},\"paper_bgcolor\":\"white\",\"plot_bgcolor\":\"#E5ECF6\",\"polar\":{\"angularaxis\":{\"gridcolor\":\"white\",\"linecolor\":\"white\",\"ticks\":\"\"},\"bgcolor\":\"#E5ECF6\",\"radialaxis\":{\"gridcolor\":\"white\",\"linecolor\":\"white\",\"ticks\":\"\"}},\"scene\":{\"xaxis\":{\"backgroundcolor\":\"#E5ECF6\",\"gridcolor\":\"white\",\"gridwidth\":2,\"linecolor\":\"white\",\"showbackground\":true,\"ticks\":\"\",\"zerolinecolor\":\"white\"},\"yaxis\":{\"backgroundcolor\":\"#E5ECF6\",\"gridcolor\":\"white\",\"gridwidth\":2,\"linecolor\":\"white\",\"showbackground\":true,\"ticks\":\"\",\"zerolinecolor\":\"white\"},\"zaxis\":{\"backgroundcolor\":\"#E5ECF6\",\"gridcolor\":\"white\",\"gridwidth\":2,\"linecolor\":\"white\",\"showbackground\":true,\"ticks\":\"\",\"zerolinecolor\":\"white\"}},\"shapedefaults\":{\"line\":{\"color\":\"#2a3f5f\"}},\"ternary\":{\"aaxis\":{\"gridcolor\":\"white\",\"linecolor\":\"white\",\"ticks\":\"\"},\"baxis\":{\"gridcolor\":\"white\",\"linecolor\":\"white\",\"ticks\":\"\"},\"bgcolor\":\"#E5ECF6\",\"caxis\":{\"gridcolor\":\"white\",\"linecolor\":\"white\",\"ticks\":\"\"}},\"title\":{\"x\":0.05},\"xaxis\":{\"automargin\":true,\"gridcolor\":\"white\",\"linecolor\":\"white\",\"ticks\":\"\",\"title\":{\"standoff\":15},\"zerolinecolor\":\"white\",\"zerolinewidth\":2},\"yaxis\":{\"automargin\":true,\"gridcolor\":\"white\",\"linecolor\":\"white\",\"ticks\":\"\",\"title\":{\"standoff\":15},\"zerolinecolor\":\"white\",\"zerolinewidth\":2}}},\"title\":{\"font\":{\"size\":24},\"text\":\"Beam Schematic\",\"x\":0.5},\"height\":350,\"showlegend\":false,\"hovermode\":\"x\",\"xaxis\":{\"title\":{\"text\":\"Beam Length (m)\"}},\"yaxis\":{\"visible\":false,\"range\":[-3,3],\"fixedrange\":true},\"shapes\":[{\"fillcolor\":\"blue\",\"line\":{\"color\":\"blue\",\"width\":4},\"type\":\"rect\",\"x0\":-2,\"x1\":-2,\"xanchor\":1.25,\"xref\":\"x\",\"xsizemode\":\"pixel\",\"y0\":-5,\"y1\":5,\"yanchor\":0,\"yref\":\"y\",\"ysizemode\":\"pixel\"},{\"line\":{\"color\":\"mediumpurple\",\"width\":2},\"type\":\"line\",\"x0\":0,\"x1\":3,\"xanchor\":0.0,\"xref\":\"x\",\"xsizemode\":\"pixel\",\"y0\":0,\"y1\":-3,\"yanchor\":0,\"yref\":\"y\",\"ysizemode\":\"pixel\"},{\"line\":{\"color\":\"mediumpurple\",\"width\":2},\"type\":\"line\",\"x0\":0,\"x1\":-3,\"xanchor\":0.0,\"xref\":\"x\",\"xsizemode\":\"pixel\",\"y0\":0,\"y1\":-3,\"yanchor\":0,\"yref\":\"y\",\"ysizemode\":\"pixel\"},{\"line\":{\"color\":\"mediumpurple\",\"width\":2},\"type\":\"line\",\"x0\":0,\"x1\":0,\"xanchor\":0.0,\"xref\":\"x\",\"xsizemode\":\"pixel\",\"y0\":0,\"y1\":-30,\"yanchor\":0,\"yref\":\"y\",\"ysizemode\":\"pixel\"},{\"line\":{\"color\":\"mediumpurple\",\"width\":2},\"type\":\"line\",\"x0\":0,\"x1\":3,\"xanchor\":2.5,\"xref\":\"x\",\"xsizemode\":\"pixel\",\"y0\":0,\"y1\":-3,\"yanchor\":0,\"yref\":\"y\",\"ysizemode\":\"pixel\"},{\"line\":{\"color\":\"mediumpurple\",\"width\":2},\"type\":\"line\",\"x0\":0,\"x1\":-3,\"xanchor\":2.5,\"xref\":\"x\",\"xsizemode\":\"pixel\",\"y0\":0,\"y1\":-3,\"yanchor\":0,\"yref\":\"y\",\"ysizemode\":\"pixel\"},{\"line\":{\"color\":\"mediumpurple\",\"width\":2},\"type\":\"line\",\"x0\":0,\"x1\":0,\"xanchor\":2.5,\"xref\":\"x\",\"xsizemode\":\"pixel\",\"y0\":0,\"y1\":-30,\"yanchor\":0,\"yref\":\"y\",\"ysizemode\":\"pixel\"},{\"line\":{\"color\":\"mediumpurple\",\"width\":2},\"type\":\"line\",\"x0\":0,\"x1\":-3,\"xanchor\":0.0,\"xref\":\"x\",\"xsizemode\":\"pixel\",\"y0\":0,\"y1\":3,\"yanchor\":0,\"yref\":\"y\",\"ysizemode\":\"pixel\"},{\"line\":{\"color\":\"mediumpurple\",\"width\":2},\"type\":\"line\",\"x0\":0,\"x1\":3,\"xanchor\":0.0,\"xref\":\"x\",\"xsizemode\":\"pixel\",\"y0\":0,\"y1\":3,\"yanchor\":0,\"yref\":\"y\",\"ysizemode\":\"pixel\"},{\"line\":{\"color\":\"mediumpurple\",\"width\":2},\"type\":\"line\",\"x0\":0,\"x1\":0,\"xanchor\":0.0,\"xref\":\"x\",\"xsizemode\":\"pixel\",\"y0\":0,\"y1\":30,\"yanchor\":0,\"yref\":\"y\",\"ysizemode\":\"pixel\"},{\"line\":{\"color\":\"mediumpurple\",\"width\":2},\"type\":\"line\",\"x0\":0,\"x1\":-3,\"xanchor\":2.5,\"xref\":\"x\",\"xsizemode\":\"pixel\",\"y0\":0,\"y1\":3,\"yanchor\":0,\"yref\":\"y\",\"ysizemode\":\"pixel\"},{\"line\":{\"color\":\"mediumpurple\",\"width\":2},\"type\":\"line\",\"x0\":0,\"x1\":3,\"xanchor\":2.5,\"xref\":\"x\",\"xsizemode\":\"pixel\",\"y0\":0,\"y1\":3,\"yanchor\":0,\"yref\":\"y\",\"ysizemode\":\"pixel\"},{\"line\":{\"color\":\"mediumpurple\",\"width\":2},\"type\":\"line\",\"x0\":0,\"x1\":0,\"xanchor\":2.5,\"xref\":\"x\",\"xsizemode\":\"pixel\",\"y0\":0,\"y1\":30,\"yanchor\":0,\"yref\":\"y\",\"ysizemode\":\"pixel\"}],\"annotations\":[{\"font\":{\"color\":\"mediumpurple\"},\"showarrow\":false,\"text\":\"664650.000 N/m\",\"x\":0.0,\"xref\":\"x\",\"xshift\":0.0,\"y\":0,\"yref\":\"y\",\"yshift\":-39.0},{\"font\":{\"color\":\"mediumpurple\"},\"showarrow\":false,\"text\":\"664650.000 N/m\",\"x\":2.5,\"xref\":\"x\",\"xshift\":0.0,\"y\":0,\"yref\":\"y\",\"yshift\":-39.0},{\"font\":{\"color\":\"mediumpurple\"},\"showarrow\":false,\"text\":\"-52650.000 N/m\",\"x\":0.0,\"xref\":\"x\",\"xshift\":0.0,\"y\":0,\"yref\":\"y\",\"yshift\":39.0},{\"font\":{\"color\":\"mediumpurple\"},\"showarrow\":false,\"text\":\"-52650.000 N/m\",\"x\":2.5,\"xref\":\"x\",\"xshift\":0.0,\"y\":0,\"yref\":\"y\",\"yshift\":39.0}]},                        {\"responsive\": true}                    ).then(function(){\n",
       "                            \n",
       "var gd = document.getElementById('d13888b5-cc6e-4961-884b-b1f17ecc0a5f');\n",
       "var x = new MutationObserver(function (mutations, observer) {{\n",
       "        var display = window.getComputedStyle(gd).display;\n",
       "        if (!display || display === 'none') {{\n",
       "            console.log([gd, 'removed!']);\n",
       "            Plotly.purge(gd);\n",
       "            observer.disconnect();\n",
       "        }}\n",
       "}});\n",
       "\n",
       "// Listen for the removal of the full notebook cells\n",
       "var notebookContainer = gd.closest('#notebook-container');\n",
       "if (notebookContainer) {{\n",
       "    x.observe(notebookContainer, {childList: true});\n",
       "}}\n",
       "\n",
       "// Listen for the clearing of the current output cell\n",
       "var outputEl = gd.closest('.output');\n",
       "if (outputEl) {{\n",
       "    x.observe(outputEl, {childList: true});\n",
       "}}\n",
       "\n",
       "                        })                };                });            </script>        </div>"
      ]
     },
     "metadata": {},
     "output_type": "display_data"
    }
   ],
   "source": [
    "fdn_design.plot_foundation_loading_X()\n",
    "#This shows the loadings that the foundation is subjected to"
   ]
  },
  {
   "cell_type": "markdown",
   "metadata": {},
   "source": [
    "#### Plot the foundation loading diagram in x direction"
   ]
  },
  {
   "cell_type": "code",
   "execution_count": 11,
   "metadata": {},
   "outputs": [
    {
     "data": {
      "text/html": [
       "<div>                            <div id=\"ab9c3810-9d80-4df1-aa18-0fb2ba13820c\" class=\"plotly-graph-div\" style=\"height:350px; width:100%;\"></div>            <script type=\"text/javascript\">                require([\"plotly\"], function(Plotly) {                    window.PLOTLYENV=window.PLOTLYENV || {};                                    if (document.getElementById(\"ab9c3810-9d80-4df1-aa18-0fb2ba13820c\")) {                    Plotly.newPlot(                        \"ab9c3810-9d80-4df1-aa18-0fb2ba13820c\",                        [{\"hoverinfo\":\"skip\",\"hovertemplate\":\"%{x} %{meta[0]}\",\"line\":{\"color\":\"purple\",\"width\":2},\"meta\":[\"m\"],\"mode\":\"lines\",\"name\":\"Beam_\",\"x\":[0,2.5],\"y\":[0,0],\"type\":\"scatter\"},{\"hoverinfo\":\"skip\",\"hovertemplate\":\"x: %{x:.3f} %{meta[1]}<br>Fixed: %{meta[0]}\",\"marker\":{\"color\":\"blue\",\"size\":10,\"symbol\":\"triangle-up\"},\"meta\":[\"[1, 1, 1]\",\"m\"],\"mode\":\"markers\",\"name\":\"Support\",\"opacity\":0,\"showlegend\":false,\"x\":[1.25],\"y\":[0],\"type\":\"scatter\"},{\"fill\":\"tozeroy\",\"hoverinfo\":\"skip\",\"hovertemplate\":\"\",\"line\":{\"color\":\"mediumpurple\",\"width\":1},\"mode\":\"lines\",\"name\":\"Distributed<br>Load\",\"x\":[0.0,0.01,0.02,0.03,0.04,0.05,0.06,0.07,0.08,0.09,0.1,0.11,0.12,0.13,0.14,0.15,0.16,0.17,0.18,0.19,0.2,0.21,0.22,0.23,0.24,0.25,0.26,0.27,0.28,0.29,0.3,0.31,0.32,0.33,0.34,0.35000000000000003,0.36,0.37,0.38,0.39,0.4,0.41000000000000003,0.42,0.43,0.44,0.45,0.46,0.47000000000000003,0.48,0.49,0.5,0.51,0.52,0.53,0.54,0.55,0.56,0.5700000000000001,0.58,0.59,0.6,0.61,0.62,0.63,0.64,0.65,0.66,0.67,0.68,0.6900000000000001,0.7000000000000001,0.71,0.72,0.73,0.74,0.75,0.76,0.77,0.78,0.79,0.8,0.81,0.8200000000000001,0.8300000000000001,0.84,0.85,0.86,0.87,0.88,0.89,0.9,0.91,0.92,0.93,0.9400000000000001,0.9500000000000001,0.96,0.97,0.98,0.99,1.0,1.01,1.02,1.03,1.04,1.05,1.06,1.07,1.08,1.09,1.1,1.11,1.12,1.1300000000000001,1.1400000000000001,1.1500000000000001,1.16,1.17,1.18,1.19,1.2,1.21,1.22,1.23,1.24,1.25,1.26,1.27,1.28,1.29,1.3,1.31,1.32,1.33,1.34,1.35,1.36,1.37,1.3800000000000001,1.3900000000000001,1.4000000000000001,1.41,1.42,1.43,1.44,1.45,1.46,1.47,1.48,1.49,1.5,1.51,1.52,1.53,1.54,1.55,1.56,1.57,1.58,1.59,1.6,1.61,1.62,1.6300000000000001,1.6400000000000001,1.6500000000000001,1.6600000000000001,1.67,1.68,1.69,1.7,1.71,1.72,1.73,1.74,1.75,1.76,1.77,1.78,1.79,1.8,1.81,1.82,1.83,1.84,1.85,1.86,1.87,1.8800000000000001,1.8900000000000001,1.9000000000000001,1.9100000000000001,1.92,1.93,1.94,1.95,1.96,1.97,1.98,1.99,2.0,2.0100000000000002,2.02,2.0300000000000002,2.04,2.05,2.06,2.07,2.08,2.09,2.1,2.11,2.12,2.13,2.14,2.15,2.16,2.17,2.18,2.19,2.2,2.21,2.22,2.23,2.24,2.25,2.2600000000000002,2.27,2.2800000000000002,2.29,2.3000000000000003,2.31,2.32,2.33,2.34,2.35,2.36,2.37,2.38,2.39,2.4,2.41,2.42,2.43,2.44,2.45,2.46,2.47,2.48,2.49,2.5],\"y\":[-1.0,-1.0,-1.0,-1.0,-1.0,-1.0,-1.0,-1.0,-1.0,-1.0,-1.0,-1.0,-1.0,-1.0,-1.0,-1.0,-1.0,-1.0,-1.0,-1.0,-1.0,-1.0,-1.0,-1.0,-1.0,-1.0,-1.0,-1.0,-1.0,-1.0,-1.0,-1.0,-1.0,-1.0,-1.0,-1.0,-1.0,-1.0,-1.0,-1.0,-1.0,-1.0,-1.0,-1.0,-1.0,-1.0,-1.0,-1.0,-1.0,-1.0,-1.0,-1.0,-1.0,-1.0,-1.0,-1.0,-1.0,-1.0,-1.0,-1.0,-1.0,-1.0,-1.0,-1.0,-1.0,-1.0,-1.0,-1.0,-1.0,-1.0,-1.0,-1.0,-1.0,-1.0,-1.0,-1.0,-1.0,-1.0,-1.0,-1.0,-1.0,-1.0,-1.0,-1.0,-1.0,-1.0,-1.0,-1.0,-1.0,-1.0,-1.0,-1.0,-1.0,-1.0,-1.0,-1.0,-1.0,-1.0,-1.0,-1.0,-1.0,-1.0,-1.0,-1.0,-1.0,-1.0,-1.0,-1.0,-1.0,-1.0,-1.0,-1.0,-1.0,-1.0,-1.0,-1.0,-1.0,-1.0,-1.0,-1.0,-1.0,-1.0,-1.0,-1.0,-1.0,-1.0,-1.0,-1.0,-1.0,-1.0,-1.0,-1.0,-1.0,-1.0,-1.0,-1.0,-1.0,-1.0,-1.0,-1.0,-1.0,-1.0,-1.0,-1.0,-1.0,-1.0,-1.0,-1.0,-1.0,-1.0,-1.0,-1.0,-1.0,-1.0,-1.0,-1.0,-1.0,-1.0,-1.0,-1.0,-1.0,-1.0,-1.0,-1.0,-1.0,-1.0,-1.0,-1.0,-1.0,-1.0,-1.0,-1.0,-1.0,-1.0,-1.0,-1.0,-1.0,-1.0,-1.0,-1.0,-1.0,-1.0,-1.0,-1.0,-1.0,-1.0,-1.0,-1.0,-1.0,-1.0,-1.0,-1.0,-1.0,-1.0,-1.0,-1.0,-1.0,-1.0,-1.0,-1.0,-1.0,-1.0,-1.0,-1.0,-1.0,-1.0,-1.0,-1.0,-1.0,-1.0,-1.0,-1.0,-1.0,-1.0,-1.0,-1.0,-1.0,-1.0,-1.0,-1.0,-1.0,-1.0,-1.0,-1.0,-1.0,-1.0,-1.0,-1.0,-1.0,-1.0,-1.0,-1.0,-1.0,-1.0,-1.0,-1.0,-1.0,-1.0,-1.0,-1.0,-1.0,-1.0,-1.0,-1.0,-1.0,-1.0,-1.0,-1.0,-1.0,-1.0,-1.0],\"type\":\"scatter\"},{\"hoverinfo\":\"skip\",\"hovertemplate\":\"x: %{meta[0]:.3f} %{meta[3]}<br>Force: %{meta[1]:.3f} %{meta[4]}        <br>Angle: %{meta[2]:.3f} deg\",\"marker\":{\"color\":\"mediumpurple\",\"size\":10,\"symbol\":\"triangle-up\"},\"meta\":[0,664650.0,90,\"m\",\"N/m\"],\"mode\":\"markers\",\"name\":\"Distributed<br>Load\",\"opacity\":0,\"showlegend\":false,\"x\":[0],\"y\":[0],\"type\":\"scatter\"},{\"hoverinfo\":\"skip\",\"hovertemplate\":\"x: %{meta[0]:.3f} %{meta[3]}<br>Force: %{meta[1]:.3f} %{meta[4]}        <br>Angle: %{meta[2]:.3f} deg\",\"marker\":{\"color\":\"mediumpurple\",\"size\":10,\"symbol\":\"triangle-up\"},\"meta\":[2.5,664650.0,90,\"m\",\"N/m\"],\"mode\":\"markers\",\"name\":\"Distributed<br>Load\",\"opacity\":0,\"showlegend\":false,\"x\":[2.5],\"y\":[0],\"type\":\"scatter\"},{\"fill\":\"tozeroy\",\"hoverinfo\":\"skip\",\"hovertemplate\":\"\",\"line\":{\"color\":\"mediumpurple\",\"width\":1},\"mode\":\"lines\",\"name\":\"Distributed<br>Load\",\"x\":[0.0,0.01,0.02,0.03,0.04,0.05,0.06,0.07,0.08,0.09,0.1,0.11,0.12,0.13,0.14,0.15,0.16,0.17,0.18,0.19,0.2,0.21,0.22,0.23,0.24,0.25,0.26,0.27,0.28,0.29,0.3,0.31,0.32,0.33,0.34,0.35000000000000003,0.36,0.37,0.38,0.39,0.4,0.41000000000000003,0.42,0.43,0.44,0.45,0.46,0.47000000000000003,0.48,0.49,0.5,0.51,0.52,0.53,0.54,0.55,0.56,0.5700000000000001,0.58,0.59,0.6,0.61,0.62,0.63,0.64,0.65,0.66,0.67,0.68,0.6900000000000001,0.7000000000000001,0.71,0.72,0.73,0.74,0.75,0.76,0.77,0.78,0.79,0.8,0.81,0.8200000000000001,0.8300000000000001,0.84,0.85,0.86,0.87,0.88,0.89,0.9,0.91,0.92,0.93,0.9400000000000001,0.9500000000000001,0.96,0.97,0.98,0.99,1.0,1.01,1.02,1.03,1.04,1.05,1.06,1.07,1.08,1.09,1.1,1.11,1.12,1.1300000000000001,1.1400000000000001,1.1500000000000001,1.16,1.17,1.18,1.19,1.2,1.21,1.22,1.23,1.24,1.25,1.26,1.27,1.28,1.29,1.3,1.31,1.32,1.33,1.34,1.35,1.36,1.37,1.3800000000000001,1.3900000000000001,1.4000000000000001,1.41,1.42,1.43,1.44,1.45,1.46,1.47,1.48,1.49,1.5,1.51,1.52,1.53,1.54,1.55,1.56,1.57,1.58,1.59,1.6,1.61,1.62,1.6300000000000001,1.6400000000000001,1.6500000000000001,1.6600000000000001,1.67,1.68,1.69,1.7,1.71,1.72,1.73,1.74,1.75,1.76,1.77,1.78,1.79,1.8,1.81,1.82,1.83,1.84,1.85,1.86,1.87,1.8800000000000001,1.8900000000000001,1.9000000000000001,1.9100000000000001,1.92,1.93,1.94,1.95,1.96,1.97,1.98,1.99,2.0,2.0100000000000002,2.02,2.0300000000000002,2.04,2.05,2.06,2.07,2.08,2.09,2.1,2.11,2.12,2.13,2.14,2.15,2.16,2.17,2.18,2.19,2.2,2.21,2.22,2.23,2.24,2.25,2.2600000000000002,2.27,2.2800000000000002,2.29,2.3000000000000003,2.31,2.32,2.33,2.34,2.35,2.36,2.37,2.38,2.39,2.4,2.41,2.42,2.43,2.44,2.45,2.46,2.47,2.48,2.49,2.5],\"y\":[1.0,1.0,1.0,1.0,1.0,1.0,1.0,1.0,1.0,1.0,1.0,1.0,1.0,1.0,1.0,1.0,1.0,1.0,1.0,1.0,1.0,1.0,1.0,1.0,1.0,1.0,1.0,1.0,1.0,1.0,1.0,1.0,1.0,1.0,1.0,1.0,1.0,1.0,1.0,1.0,1.0,1.0,1.0,1.0,1.0,1.0,1.0,1.0,1.0,1.0,1.0,1.0,1.0,1.0,1.0,1.0,1.0,1.0,1.0,1.0,1.0,1.0,1.0,1.0,1.0,1.0,1.0,1.0,1.0,1.0,1.0,1.0,1.0,1.0,1.0,1.0,1.0,1.0,1.0,1.0,1.0,1.0,1.0,1.0,1.0,1.0,1.0,1.0,1.0,1.0,1.0,1.0,1.0,1.0,1.0,1.0,1.0,1.0,1.0,1.0,1.0,1.0,1.0,1.0,1.0,1.0,1.0,1.0,1.0,1.0,1.0,1.0,1.0,1.0,1.0,1.0,1.0,1.0,1.0,1.0,1.0,1.0,1.0,1.0,1.0,1.0,1.0,1.0,1.0,1.0,1.0,1.0,1.0,1.0,1.0,1.0,1.0,1.0,1.0,1.0,1.0,1.0,1.0,1.0,1.0,1.0,1.0,1.0,1.0,1.0,1.0,1.0,1.0,1.0,1.0,1.0,1.0,1.0,1.0,1.0,1.0,1.0,1.0,1.0,1.0,1.0,1.0,1.0,1.0,1.0,1.0,1.0,1.0,1.0,1.0,1.0,1.0,1.0,1.0,1.0,1.0,1.0,1.0,1.0,1.0,1.0,1.0,1.0,1.0,1.0,1.0,1.0,1.0,1.0,1.0,1.0,1.0,1.0,1.0,1.0,1.0,1.0,1.0,1.0,1.0,1.0,1.0,1.0,1.0,1.0,1.0,1.0,1.0,1.0,1.0,1.0,1.0,1.0,1.0,1.0,1.0,1.0,1.0,1.0,1.0,1.0,1.0,1.0,1.0,1.0,1.0,1.0,1.0,1.0,1.0,1.0,1.0,1.0,1.0,1.0,1.0,1.0,1.0,1.0,1.0,1.0,1.0,1.0,1.0,1.0,1.0],\"type\":\"scatter\"},{\"hoverinfo\":\"skip\",\"hovertemplate\":\"x: %{meta[0]:.3f} %{meta[3]}<br>Force: %{meta[1]:.3f} %{meta[4]}        <br>Angle: %{meta[2]:.3f} deg\",\"marker\":{\"color\":\"mediumpurple\",\"size\":10,\"symbol\":\"triangle-up\"},\"meta\":[0,-52650.0,90,\"m\",\"N/m\"],\"mode\":\"markers\",\"name\":\"Distributed<br>Load\",\"opacity\":0,\"showlegend\":false,\"x\":[0],\"y\":[0],\"type\":\"scatter\"},{\"hoverinfo\":\"skip\",\"hovertemplate\":\"x: %{meta[0]:.3f} %{meta[3]}<br>Force: %{meta[1]:.3f} %{meta[4]}        <br>Angle: %{meta[2]:.3f} deg\",\"marker\":{\"color\":\"mediumpurple\",\"size\":10,\"symbol\":\"triangle-up\"},\"meta\":[2.5,-52650.0,90,\"m\",\"N/m\"],\"mode\":\"markers\",\"name\":\"Distributed<br>Load\",\"opacity\":0,\"showlegend\":false,\"x\":[2.5],\"y\":[0],\"type\":\"scatter\"}],                        {\"template\":{\"data\":{\"bar\":[{\"error_x\":{\"color\":\"#2a3f5f\"},\"error_y\":{\"color\":\"#2a3f5f\"},\"marker\":{\"line\":{\"color\":\"#E5ECF6\",\"width\":0.5},\"pattern\":{\"fillmode\":\"overlay\",\"size\":10,\"solidity\":0.2}},\"type\":\"bar\"}],\"barpolar\":[{\"marker\":{\"line\":{\"color\":\"#E5ECF6\",\"width\":0.5},\"pattern\":{\"fillmode\":\"overlay\",\"size\":10,\"solidity\":0.2}},\"type\":\"barpolar\"}],\"carpet\":[{\"aaxis\":{\"endlinecolor\":\"#2a3f5f\",\"gridcolor\":\"white\",\"linecolor\":\"white\",\"minorgridcolor\":\"white\",\"startlinecolor\":\"#2a3f5f\"},\"baxis\":{\"endlinecolor\":\"#2a3f5f\",\"gridcolor\":\"white\",\"linecolor\":\"white\",\"minorgridcolor\":\"white\",\"startlinecolor\":\"#2a3f5f\"},\"type\":\"carpet\"}],\"choropleth\":[{\"colorbar\":{\"outlinewidth\":0,\"ticks\":\"\"},\"type\":\"choropleth\"}],\"contour\":[{\"colorbar\":{\"outlinewidth\":0,\"ticks\":\"\"},\"colorscale\":[[0.0,\"#0d0887\"],[0.1111111111111111,\"#46039f\"],[0.2222222222222222,\"#7201a8\"],[0.3333333333333333,\"#9c179e\"],[0.4444444444444444,\"#bd3786\"],[0.5555555555555556,\"#d8576b\"],[0.6666666666666666,\"#ed7953\"],[0.7777777777777778,\"#fb9f3a\"],[0.8888888888888888,\"#fdca26\"],[1.0,\"#f0f921\"]],\"type\":\"contour\"}],\"contourcarpet\":[{\"colorbar\":{\"outlinewidth\":0,\"ticks\":\"\"},\"type\":\"contourcarpet\"}],\"heatmap\":[{\"colorbar\":{\"outlinewidth\":0,\"ticks\":\"\"},\"colorscale\":[[0.0,\"#0d0887\"],[0.1111111111111111,\"#46039f\"],[0.2222222222222222,\"#7201a8\"],[0.3333333333333333,\"#9c179e\"],[0.4444444444444444,\"#bd3786\"],[0.5555555555555556,\"#d8576b\"],[0.6666666666666666,\"#ed7953\"],[0.7777777777777778,\"#fb9f3a\"],[0.8888888888888888,\"#fdca26\"],[1.0,\"#f0f921\"]],\"type\":\"heatmap\"}],\"heatmapgl\":[{\"colorbar\":{\"outlinewidth\":0,\"ticks\":\"\"},\"colorscale\":[[0.0,\"#0d0887\"],[0.1111111111111111,\"#46039f\"],[0.2222222222222222,\"#7201a8\"],[0.3333333333333333,\"#9c179e\"],[0.4444444444444444,\"#bd3786\"],[0.5555555555555556,\"#d8576b\"],[0.6666666666666666,\"#ed7953\"],[0.7777777777777778,\"#fb9f3a\"],[0.8888888888888888,\"#fdca26\"],[1.0,\"#f0f921\"]],\"type\":\"heatmapgl\"}],\"histogram\":[{\"marker\":{\"pattern\":{\"fillmode\":\"overlay\",\"size\":10,\"solidity\":0.2}},\"type\":\"histogram\"}],\"histogram2d\":[{\"colorbar\":{\"outlinewidth\":0,\"ticks\":\"\"},\"colorscale\":[[0.0,\"#0d0887\"],[0.1111111111111111,\"#46039f\"],[0.2222222222222222,\"#7201a8\"],[0.3333333333333333,\"#9c179e\"],[0.4444444444444444,\"#bd3786\"],[0.5555555555555556,\"#d8576b\"],[0.6666666666666666,\"#ed7953\"],[0.7777777777777778,\"#fb9f3a\"],[0.8888888888888888,\"#fdca26\"],[1.0,\"#f0f921\"]],\"type\":\"histogram2d\"}],\"histogram2dcontour\":[{\"colorbar\":{\"outlinewidth\":0,\"ticks\":\"\"},\"colorscale\":[[0.0,\"#0d0887\"],[0.1111111111111111,\"#46039f\"],[0.2222222222222222,\"#7201a8\"],[0.3333333333333333,\"#9c179e\"],[0.4444444444444444,\"#bd3786\"],[0.5555555555555556,\"#d8576b\"],[0.6666666666666666,\"#ed7953\"],[0.7777777777777778,\"#fb9f3a\"],[0.8888888888888888,\"#fdca26\"],[1.0,\"#f0f921\"]],\"type\":\"histogram2dcontour\"}],\"mesh3d\":[{\"colorbar\":{\"outlinewidth\":0,\"ticks\":\"\"},\"type\":\"mesh3d\"}],\"parcoords\":[{\"line\":{\"colorbar\":{\"outlinewidth\":0,\"ticks\":\"\"}},\"type\":\"parcoords\"}],\"pie\":[{\"automargin\":true,\"type\":\"pie\"}],\"scatter\":[{\"marker\":{\"colorbar\":{\"outlinewidth\":0,\"ticks\":\"\"}},\"type\":\"scatter\"}],\"scatter3d\":[{\"line\":{\"colorbar\":{\"outlinewidth\":0,\"ticks\":\"\"}},\"marker\":{\"colorbar\":{\"outlinewidth\":0,\"ticks\":\"\"}},\"type\":\"scatter3d\"}],\"scattercarpet\":[{\"marker\":{\"colorbar\":{\"outlinewidth\":0,\"ticks\":\"\"}},\"type\":\"scattercarpet\"}],\"scattergeo\":[{\"marker\":{\"colorbar\":{\"outlinewidth\":0,\"ticks\":\"\"}},\"type\":\"scattergeo\"}],\"scattergl\":[{\"marker\":{\"colorbar\":{\"outlinewidth\":0,\"ticks\":\"\"}},\"type\":\"scattergl\"}],\"scattermapbox\":[{\"marker\":{\"colorbar\":{\"outlinewidth\":0,\"ticks\":\"\"}},\"type\":\"scattermapbox\"}],\"scatterpolar\":[{\"marker\":{\"colorbar\":{\"outlinewidth\":0,\"ticks\":\"\"}},\"type\":\"scatterpolar\"}],\"scatterpolargl\":[{\"marker\":{\"colorbar\":{\"outlinewidth\":0,\"ticks\":\"\"}},\"type\":\"scatterpolargl\"}],\"scatterternary\":[{\"marker\":{\"colorbar\":{\"outlinewidth\":0,\"ticks\":\"\"}},\"type\":\"scatterternary\"}],\"surface\":[{\"colorbar\":{\"outlinewidth\":0,\"ticks\":\"\"},\"colorscale\":[[0.0,\"#0d0887\"],[0.1111111111111111,\"#46039f\"],[0.2222222222222222,\"#7201a8\"],[0.3333333333333333,\"#9c179e\"],[0.4444444444444444,\"#bd3786\"],[0.5555555555555556,\"#d8576b\"],[0.6666666666666666,\"#ed7953\"],[0.7777777777777778,\"#fb9f3a\"],[0.8888888888888888,\"#fdca26\"],[1.0,\"#f0f921\"]],\"type\":\"surface\"}],\"table\":[{\"cells\":{\"fill\":{\"color\":\"#EBF0F8\"},\"line\":{\"color\":\"white\"}},\"header\":{\"fill\":{\"color\":\"#C8D4E3\"},\"line\":{\"color\":\"white\"}},\"type\":\"table\"}]},\"layout\":{\"annotationdefaults\":{\"arrowcolor\":\"#2a3f5f\",\"arrowhead\":0,\"arrowwidth\":1},\"autotypenumbers\":\"strict\",\"coloraxis\":{\"colorbar\":{\"outlinewidth\":0,\"ticks\":\"\"}},\"colorscale\":{\"diverging\":[[0,\"#8e0152\"],[0.1,\"#c51b7d\"],[0.2,\"#de77ae\"],[0.3,\"#f1b6da\"],[0.4,\"#fde0ef\"],[0.5,\"#f7f7f7\"],[0.6,\"#e6f5d0\"],[0.7,\"#b8e186\"],[0.8,\"#7fbc41\"],[0.9,\"#4d9221\"],[1,\"#276419\"]],\"sequential\":[[0.0,\"#0d0887\"],[0.1111111111111111,\"#46039f\"],[0.2222222222222222,\"#7201a8\"],[0.3333333333333333,\"#9c179e\"],[0.4444444444444444,\"#bd3786\"],[0.5555555555555556,\"#d8576b\"],[0.6666666666666666,\"#ed7953\"],[0.7777777777777778,\"#fb9f3a\"],[0.8888888888888888,\"#fdca26\"],[1.0,\"#f0f921\"]],\"sequentialminus\":[[0.0,\"#0d0887\"],[0.1111111111111111,\"#46039f\"],[0.2222222222222222,\"#7201a8\"],[0.3333333333333333,\"#9c179e\"],[0.4444444444444444,\"#bd3786\"],[0.5555555555555556,\"#d8576b\"],[0.6666666666666666,\"#ed7953\"],[0.7777777777777778,\"#fb9f3a\"],[0.8888888888888888,\"#fdca26\"],[1.0,\"#f0f921\"]]},\"colorway\":[\"#636efa\",\"#EF553B\",\"#00cc96\",\"#ab63fa\",\"#FFA15A\",\"#19d3f3\",\"#FF6692\",\"#B6E880\",\"#FF97FF\",\"#FECB52\"],\"font\":{\"color\":\"#2a3f5f\"},\"geo\":{\"bgcolor\":\"white\",\"lakecolor\":\"white\",\"landcolor\":\"#E5ECF6\",\"showlakes\":true,\"showland\":true,\"subunitcolor\":\"white\"},\"hoverlabel\":{\"align\":\"left\"},\"hovermode\":\"closest\",\"mapbox\":{\"style\":\"light\"},\"paper_bgcolor\":\"white\",\"plot_bgcolor\":\"#E5ECF6\",\"polar\":{\"angularaxis\":{\"gridcolor\":\"white\",\"linecolor\":\"white\",\"ticks\":\"\"},\"bgcolor\":\"#E5ECF6\",\"radialaxis\":{\"gridcolor\":\"white\",\"linecolor\":\"white\",\"ticks\":\"\"}},\"scene\":{\"xaxis\":{\"backgroundcolor\":\"#E5ECF6\",\"gridcolor\":\"white\",\"gridwidth\":2,\"linecolor\":\"white\",\"showbackground\":true,\"ticks\":\"\",\"zerolinecolor\":\"white\"},\"yaxis\":{\"backgroundcolor\":\"#E5ECF6\",\"gridcolor\":\"white\",\"gridwidth\":2,\"linecolor\":\"white\",\"showbackground\":true,\"ticks\":\"\",\"zerolinecolor\":\"white\"},\"zaxis\":{\"backgroundcolor\":\"#E5ECF6\",\"gridcolor\":\"white\",\"gridwidth\":2,\"linecolor\":\"white\",\"showbackground\":true,\"ticks\":\"\",\"zerolinecolor\":\"white\"}},\"shapedefaults\":{\"line\":{\"color\":\"#2a3f5f\"}},\"ternary\":{\"aaxis\":{\"gridcolor\":\"white\",\"linecolor\":\"white\",\"ticks\":\"\"},\"baxis\":{\"gridcolor\":\"white\",\"linecolor\":\"white\",\"ticks\":\"\"},\"bgcolor\":\"#E5ECF6\",\"caxis\":{\"gridcolor\":\"white\",\"linecolor\":\"white\",\"ticks\":\"\"}},\"title\":{\"x\":0.05},\"xaxis\":{\"automargin\":true,\"gridcolor\":\"white\",\"linecolor\":\"white\",\"ticks\":\"\",\"title\":{\"standoff\":15},\"zerolinecolor\":\"white\",\"zerolinewidth\":2},\"yaxis\":{\"automargin\":true,\"gridcolor\":\"white\",\"linecolor\":\"white\",\"ticks\":\"\",\"title\":{\"standoff\":15},\"zerolinecolor\":\"white\",\"zerolinewidth\":2}}},\"title\":{\"font\":{\"size\":24},\"text\":\"Beam Schematic\",\"x\":0.5},\"height\":350,\"showlegend\":false,\"hovermode\":\"x\",\"xaxis\":{\"title\":{\"text\":\"Beam Length (m)\"}},\"yaxis\":{\"visible\":false,\"range\":[-3,3],\"fixedrange\":true},\"shapes\":[{\"fillcolor\":\"blue\",\"line\":{\"color\":\"blue\",\"width\":4},\"type\":\"rect\",\"x0\":-2,\"x1\":-2,\"xanchor\":1.25,\"xref\":\"x\",\"xsizemode\":\"pixel\",\"y0\":-5,\"y1\":5,\"yanchor\":0,\"yref\":\"y\",\"ysizemode\":\"pixel\"},{\"line\":{\"color\":\"mediumpurple\",\"width\":2},\"type\":\"line\",\"x0\":0,\"x1\":3,\"xanchor\":0.0,\"xref\":\"x\",\"xsizemode\":\"pixel\",\"y0\":0,\"y1\":-3,\"yanchor\":0,\"yref\":\"y\",\"ysizemode\":\"pixel\"},{\"line\":{\"color\":\"mediumpurple\",\"width\":2},\"type\":\"line\",\"x0\":0,\"x1\":-3,\"xanchor\":0.0,\"xref\":\"x\",\"xsizemode\":\"pixel\",\"y0\":0,\"y1\":-3,\"yanchor\":0,\"yref\":\"y\",\"ysizemode\":\"pixel\"},{\"line\":{\"color\":\"mediumpurple\",\"width\":2},\"type\":\"line\",\"x0\":0,\"x1\":0,\"xanchor\":0.0,\"xref\":\"x\",\"xsizemode\":\"pixel\",\"y0\":0,\"y1\":-30,\"yanchor\":0,\"yref\":\"y\",\"ysizemode\":\"pixel\"},{\"line\":{\"color\":\"mediumpurple\",\"width\":2},\"type\":\"line\",\"x0\":0,\"x1\":3,\"xanchor\":2.5,\"xref\":\"x\",\"xsizemode\":\"pixel\",\"y0\":0,\"y1\":-3,\"yanchor\":0,\"yref\":\"y\",\"ysizemode\":\"pixel\"},{\"line\":{\"color\":\"mediumpurple\",\"width\":2},\"type\":\"line\",\"x0\":0,\"x1\":-3,\"xanchor\":2.5,\"xref\":\"x\",\"xsizemode\":\"pixel\",\"y0\":0,\"y1\":-3,\"yanchor\":0,\"yref\":\"y\",\"ysizemode\":\"pixel\"},{\"line\":{\"color\":\"mediumpurple\",\"width\":2},\"type\":\"line\",\"x0\":0,\"x1\":0,\"xanchor\":2.5,\"xref\":\"x\",\"xsizemode\":\"pixel\",\"y0\":0,\"y1\":-30,\"yanchor\":0,\"yref\":\"y\",\"ysizemode\":\"pixel\"},{\"line\":{\"color\":\"mediumpurple\",\"width\":2},\"type\":\"line\",\"x0\":0,\"x1\":-3,\"xanchor\":0.0,\"xref\":\"x\",\"xsizemode\":\"pixel\",\"y0\":0,\"y1\":3,\"yanchor\":0,\"yref\":\"y\",\"ysizemode\":\"pixel\"},{\"line\":{\"color\":\"mediumpurple\",\"width\":2},\"type\":\"line\",\"x0\":0,\"x1\":3,\"xanchor\":0.0,\"xref\":\"x\",\"xsizemode\":\"pixel\",\"y0\":0,\"y1\":3,\"yanchor\":0,\"yref\":\"y\",\"ysizemode\":\"pixel\"},{\"line\":{\"color\":\"mediumpurple\",\"width\":2},\"type\":\"line\",\"x0\":0,\"x1\":0,\"xanchor\":0.0,\"xref\":\"x\",\"xsizemode\":\"pixel\",\"y0\":0,\"y1\":30,\"yanchor\":0,\"yref\":\"y\",\"ysizemode\":\"pixel\"},{\"line\":{\"color\":\"mediumpurple\",\"width\":2},\"type\":\"line\",\"x0\":0,\"x1\":-3,\"xanchor\":2.5,\"xref\":\"x\",\"xsizemode\":\"pixel\",\"y0\":0,\"y1\":3,\"yanchor\":0,\"yref\":\"y\",\"ysizemode\":\"pixel\"},{\"line\":{\"color\":\"mediumpurple\",\"width\":2},\"type\":\"line\",\"x0\":0,\"x1\":3,\"xanchor\":2.5,\"xref\":\"x\",\"xsizemode\":\"pixel\",\"y0\":0,\"y1\":3,\"yanchor\":0,\"yref\":\"y\",\"ysizemode\":\"pixel\"},{\"line\":{\"color\":\"mediumpurple\",\"width\":2},\"type\":\"line\",\"x0\":0,\"x1\":0,\"xanchor\":2.5,\"xref\":\"x\",\"xsizemode\":\"pixel\",\"y0\":0,\"y1\":30,\"yanchor\":0,\"yref\":\"y\",\"ysizemode\":\"pixel\"}],\"annotations\":[{\"font\":{\"color\":\"mediumpurple\"},\"showarrow\":false,\"text\":\"664650.000 N/m\",\"x\":0.0,\"xref\":\"x\",\"xshift\":0.0,\"y\":0,\"yref\":\"y\",\"yshift\":-39.0},{\"font\":{\"color\":\"mediumpurple\"},\"showarrow\":false,\"text\":\"664650.000 N/m\",\"x\":2.5,\"xref\":\"x\",\"xshift\":0.0,\"y\":0,\"yref\":\"y\",\"yshift\":-39.0},{\"font\":{\"color\":\"mediumpurple\"},\"showarrow\":false,\"text\":\"-52650.000 N/m\",\"x\":0.0,\"xref\":\"x\",\"xshift\":0.0,\"y\":0,\"yref\":\"y\",\"yshift\":39.0},{\"font\":{\"color\":\"mediumpurple\"},\"showarrow\":false,\"text\":\"-52650.000 N/m\",\"x\":2.5,\"xref\":\"x\",\"xshift\":0.0,\"y\":0,\"yref\":\"y\",\"yshift\":39.0}]},                        {\"responsive\": true}                    ).then(function(){\n",
       "                            \n",
       "var gd = document.getElementById('ab9c3810-9d80-4df1-aa18-0fb2ba13820c');\n",
       "var x = new MutationObserver(function (mutations, observer) {{\n",
       "        var display = window.getComputedStyle(gd).display;\n",
       "        if (!display || display === 'none') {{\n",
       "            console.log([gd, 'removed!']);\n",
       "            Plotly.purge(gd);\n",
       "            observer.disconnect();\n",
       "        }}\n",
       "}});\n",
       "\n",
       "// Listen for the removal of the full notebook cells\n",
       "var notebookContainer = gd.closest('#notebook-container');\n",
       "if (notebookContainer) {{\n",
       "    x.observe(notebookContainer, {childList: true});\n",
       "}}\n",
       "\n",
       "// Listen for the clearing of the current output cell\n",
       "var outputEl = gd.closest('.output');\n",
       "if (outputEl) {{\n",
       "    x.observe(outputEl, {childList: true});\n",
       "}}\n",
       "\n",
       "                        })                };                });            </script>        </div>"
      ]
     },
     "metadata": {},
     "output_type": "display_data"
    }
   ],
   "source": [
    "fdn_design.plot_foundation_loading_Y()\n",
    "#This shows the loadings that the foundation is subjected to"
   ]
  },
  {
   "cell_type": "markdown",
   "metadata": {},
   "source": [
    "#### Show the bending moment diagram in x direction showing the design bending moment"
   ]
  },
  {
   "cell_type": "code",
   "execution_count": 12,
   "metadata": {},
   "outputs": [
    {
     "data": {
      "text/html": [
       "<div>                            <div id=\"e6877555-fccf-4f15-a151-315d933aa20f\" class=\"plotly-graph-div\" style=\"height:525px; width:100%;\"></div>            <script type=\"text/javascript\">                require([\"plotly\"], function(Plotly) {                    window.PLOTLYENV=window.PLOTLYENV || {};                                    if (document.getElementById(\"e6877555-fccf-4f15-a151-315d933aa20f\")) {                    Plotly.newPlot(                        \"e6877555-fccf-4f15-a151-315d933aa20f\",                        [{\"fill\":\"tozeroy\",\"hovertemplate\":\"x: %{x:.3f} %{meta[0]}<br>f(x): %{y:.3f} %{meta[1]}\",\"line\":{\"color\":\"lightgreen\",\"width\":1},\"meta\":[\"m\",\"N.m\"],\"mode\":\"lines\",\"name\":\"Bending Moment\",\"x\":[0.0,1e-07,0.01256281407035176,0.02512562814070352,0.03768844221105528,0.05025125628140704,0.0628140703517588,0.07537688442211056,0.08793969849246232,0.10050251256281408,0.11306532663316583,0.1256281407035176,0.13819095477386936,0.15075376884422112,0.16331658291457288,0.17587939698492464,0.1884422110552764,0.20100502512562815,0.2135678391959799,0.22613065326633167,0.23869346733668342,0.2512562814070352,0.26381909547738697,0.2763819095477387,0.2889447236180905,0.30150753768844224,0.314070351758794,0.32663316582914576,0.3391959798994975,0.35175879396984927,0.36432160804020103,0.3768844221105528,0.38944723618090454,0.4020100502512563,0.41457286432160806,0.4271356783919598,0.4396984924623116,0.45226130653266333,0.4648241206030151,0.47738693467336685,0.4899497487437186,0.5025125628140704,0.5150753768844222,0.5276381909547739,0.5402010050251257,0.5527638190954774,0.5653266331658292,0.577889447236181,0.5904522613065327,0.6030150753768845,0.6155778894472362,0.628140703517588,0.6407035175879398,0.6532663316582915,0.6658291457286433,0.678391959798995,0.6909547738693468,0.7035175879396985,0.7160804020100503,0.7286432160804021,0.7412060301507538,0.7537688442211056,0.7663316582914573,0.7788944723618091,0.7914572864321608,0.8040201005025126,0.8165829145728644,0.8291457286432161,0.8417085427135679,0.8542713567839196,0.8668341708542714,0.8793969849246231,0.8919597989949749,0.9045226130653267,0.9170854271356784,0.9296482412060302,0.9422110552763819,0.9547738693467337,0.9673366834170855,0.9798994974874372,0.992462311557789,1.0050251256281408,1.0175879396984926,1.0301507537688444,1.042713567839196,1.0552763819095479,1.0678391959798996,1.0804020100502514,1.0929648241206031,1.105527638190955,1.1180904522613067,1.1306532663316584,1.1432160804020102,1.155778894472362,1.1683417085427137,1.1809045226130654,1.1934673366834172,1.206030150753769,1.2185929648241207,1.2311557788944725,1.2437185929648242,1.2499999,1.2500001,1.256281407035176,1.2688442211055277,1.2814070351758795,1.2939698492462313,1.306532663316583,1.3190954773869348,1.3316582914572865,1.3442211055276383,1.35678391959799,1.3693467336683418,1.3819095477386936,1.3944723618090453,1.407035175879397,1.4195979899497488,1.4321608040201006,1.4447236180904524,1.4572864321608041,1.4698492462311559,1.4824120603015076,1.4949748743718594,1.5075376884422111,1.520100502512563,1.5326633165829147,1.5452261306532664,1.5577889447236182,1.57035175879397,1.5829145728643217,1.5954773869346734,1.6080402010050252,1.620603015075377,1.6331658291457287,1.6457286432160805,1.6582914572864322,1.670854271356784,1.6834170854271358,1.6959798994974875,1.7085427135678393,1.721105527638191,1.7336683417085428,1.7462311557788945,1.7587939698492463,1.771356783919598,1.7839195979899498,1.7964824120603016,1.8090452261306533,1.821608040201005,1.8341708542713568,1.8467336683417086,1.8592964824120604,1.8718592964824121,1.8844221105527639,1.8969849246231156,1.9095477386934674,1.9221105527638191,1.934673366834171,1.9472361809045227,1.9597989949748744,1.9723618090452262,1.984924623115578,1.9974874371859297,2.0100502512562817,2.022613065326633,2.035175879396985,2.0477386934673367,2.0603015075376887,2.0728643216080402,2.085427135678392,2.0979899497487438,2.1105527638190957,2.1231155778894473,2.1356783919597992,2.148241206030151,2.1608040201005028,2.1733668341708543,2.1859296482412063,2.198492462311558,2.21105527638191,2.2236180904522613,2.2361809045226133,2.248743718592965,2.261306532663317,2.2738693467336684,2.2864321608040203,2.298994974874372,2.311557788944724,2.3241206030150754,2.3366834170854274,2.349246231155779,2.361809045226131,2.3743718592964824,2.3869346733668344,2.399497487437186,2.412060301507538,2.4246231155778895,2.4371859296482414,2.449748743718593,2.462311557788945,2.4748743718592965,2.4874371859296485,2.4999999,2.5],\"y\":[0.0,3.0599999999999994e-09,48.29423499406581,193.17693997626324,434.64811494659233,772.707759905053,1207.3558748516455,1738.5924597863693,2366.4175147092246,3090.831039620212,3911.8330345193303,4829.423499406582,5843.602434281964,6954.369839145477,8161.7257139971225,9465.670058836899,10866.202873664808,12363.324158480847,13957.033913285019,15647.332138077321,17434.218832857758,19317.693997626327,21297.757632383025,23374.409737127855,25547.65031186082,27817.47935658191,30183.896871291137,32646.90285598849,35206.49731067398,37862.680235347594,40615.451630009346,43464.81149465923,46410.75982929725,49453.29663392339,52592.42190853767,55828.135653140074,59160.437867730616,62589.328552309285,66114.80770687609,69736.87533143103,73455.5314259741,77270.77599050531,81182.60902502463,85191.0305295321,89296.04050402771,93497.63894851142,97795.82586298327,102190.60124744328,106681.96510189139,111269.91742632764,115954.45822075203,120735.58748516455,125613.30521956518,130587.61142395396,135658.50609833086,140825.9892426959,146090.0608570491,151450.72094139038,156907.96949571982,162461.80652003738,168112.23201434308,173859.24597863693,179702.84841291886,185643.039317189,191679.8186914472,197813.18653569356,204043.14284992806,210369.68763415067,216792.8208883614,223312.5426125603,229928.8528067473,236641.75147092246,243451.23860508573,250357.31420923714,257359.9782833767,264459.23082750436,271655.0718416202,278947.5013257241,286336.5192798162,293822.1257038964,301404.3205979647,309083.10396202124,316858.4757960659,324730.43610009854,332698.9848741194,340764.1221181284,348925.84783212555,357184.16201611084,365539.0646700842,373990.5557940457,382538.63538799534,391183.3034519331,399924.559985859,408762.4049897731,417696.83846367523,426727.86040756555,435855.470821444,445079.66970531055,454400.45705916523,463817.8328830081,473331.797176839,478124.92350000306,478124.923500003,473331.7971768389,463817.8328830079,454400.4570591651,445079.66970531037,435855.4708214438,426727.8604075654,417696.83846367506,408762.40498977294,399924.55998585885,391183.3034519329,382538.6353879953,373990.55579404556,365539.0646700839,357184.1620161106,348925.8478321254,340764.1221181283,332698.9848741192,324730.43610009854,316858.47579606564,309083.1039620211,301404.3205979647,293822.1257038963,286336.519279816,278947.501325724,271655.07184162014,264459.23082750425,257359.9782833766,250357.3142092371,243451.23860508564,236641.75147092238,229928.8528067473,223312.54261256033,216792.8208883613,210369.6876341506,204043.14284992788,197813.18653569347,191679.81869144714,185643.0393171889,179702.84841291874,173859.2459786369,168112.23201434303,162461.80652003735,156907.96949571976,151450.72094139038,146090.06085704896,140825.98924269585,135658.50609833084,130587.6114239539,125613.30521956505,120735.58748516452,115954.45822075207,111269.91742632759,106681.96510189143,102190.60124744312,97795.82586298324,93497.63894851133,89296.04050402762,85191.03052953212,81182.60902502458,77270.77599050524,73455.5314259741,69736.87533143093,66114.80770687619,62589.32855230919,59160.43786773039,55828.13565314002,52592.42190853739,49453.296633923426,46410.759829297196,43464.811494658934,40615.45163000934,37862.68023534771,35206.49731067405,32646.90285598836,30183.896871291334,27817.47935658181,25547.65031186072,23374.409737128066,21297.757632382913,19317.693997626426,17434.218832857674,15647.332138077123,13957.033913285006,12363.32415848109,10866.202873664908,9465.670058836928,8161.725713997148,6954.369839145336,5843.602434281958,4829.423499406315,3911.833034519339,3090.8310396203306,2366.4175147090573,1738.5924597862177,1207.3558748515788,772.707759904908,434.64811494667083,193.17693997640163,48.294234993867576,3.026798367500305e-09,0.0],\"type\":\"scatter\"}],                        {\"template\":{\"data\":{\"bar\":[{\"error_x\":{\"color\":\"#2a3f5f\"},\"error_y\":{\"color\":\"#2a3f5f\"},\"marker\":{\"line\":{\"color\":\"#E5ECF6\",\"width\":0.5},\"pattern\":{\"fillmode\":\"overlay\",\"size\":10,\"solidity\":0.2}},\"type\":\"bar\"}],\"barpolar\":[{\"marker\":{\"line\":{\"color\":\"#E5ECF6\",\"width\":0.5},\"pattern\":{\"fillmode\":\"overlay\",\"size\":10,\"solidity\":0.2}},\"type\":\"barpolar\"}],\"carpet\":[{\"aaxis\":{\"endlinecolor\":\"#2a3f5f\",\"gridcolor\":\"white\",\"linecolor\":\"white\",\"minorgridcolor\":\"white\",\"startlinecolor\":\"#2a3f5f\"},\"baxis\":{\"endlinecolor\":\"#2a3f5f\",\"gridcolor\":\"white\",\"linecolor\":\"white\",\"minorgridcolor\":\"white\",\"startlinecolor\":\"#2a3f5f\"},\"type\":\"carpet\"}],\"choropleth\":[{\"colorbar\":{\"outlinewidth\":0,\"ticks\":\"\"},\"type\":\"choropleth\"}],\"contour\":[{\"colorbar\":{\"outlinewidth\":0,\"ticks\":\"\"},\"colorscale\":[[0.0,\"#0d0887\"],[0.1111111111111111,\"#46039f\"],[0.2222222222222222,\"#7201a8\"],[0.3333333333333333,\"#9c179e\"],[0.4444444444444444,\"#bd3786\"],[0.5555555555555556,\"#d8576b\"],[0.6666666666666666,\"#ed7953\"],[0.7777777777777778,\"#fb9f3a\"],[0.8888888888888888,\"#fdca26\"],[1.0,\"#f0f921\"]],\"type\":\"contour\"}],\"contourcarpet\":[{\"colorbar\":{\"outlinewidth\":0,\"ticks\":\"\"},\"type\":\"contourcarpet\"}],\"heatmap\":[{\"colorbar\":{\"outlinewidth\":0,\"ticks\":\"\"},\"colorscale\":[[0.0,\"#0d0887\"],[0.1111111111111111,\"#46039f\"],[0.2222222222222222,\"#7201a8\"],[0.3333333333333333,\"#9c179e\"],[0.4444444444444444,\"#bd3786\"],[0.5555555555555556,\"#d8576b\"],[0.6666666666666666,\"#ed7953\"],[0.7777777777777778,\"#fb9f3a\"],[0.8888888888888888,\"#fdca26\"],[1.0,\"#f0f921\"]],\"type\":\"heatmap\"}],\"heatmapgl\":[{\"colorbar\":{\"outlinewidth\":0,\"ticks\":\"\"},\"colorscale\":[[0.0,\"#0d0887\"],[0.1111111111111111,\"#46039f\"],[0.2222222222222222,\"#7201a8\"],[0.3333333333333333,\"#9c179e\"],[0.4444444444444444,\"#bd3786\"],[0.5555555555555556,\"#d8576b\"],[0.6666666666666666,\"#ed7953\"],[0.7777777777777778,\"#fb9f3a\"],[0.8888888888888888,\"#fdca26\"],[1.0,\"#f0f921\"]],\"type\":\"heatmapgl\"}],\"histogram\":[{\"marker\":{\"pattern\":{\"fillmode\":\"overlay\",\"size\":10,\"solidity\":0.2}},\"type\":\"histogram\"}],\"histogram2d\":[{\"colorbar\":{\"outlinewidth\":0,\"ticks\":\"\"},\"colorscale\":[[0.0,\"#0d0887\"],[0.1111111111111111,\"#46039f\"],[0.2222222222222222,\"#7201a8\"],[0.3333333333333333,\"#9c179e\"],[0.4444444444444444,\"#bd3786\"],[0.5555555555555556,\"#d8576b\"],[0.6666666666666666,\"#ed7953\"],[0.7777777777777778,\"#fb9f3a\"],[0.8888888888888888,\"#fdca26\"],[1.0,\"#f0f921\"]],\"type\":\"histogram2d\"}],\"histogram2dcontour\":[{\"colorbar\":{\"outlinewidth\":0,\"ticks\":\"\"},\"colorscale\":[[0.0,\"#0d0887\"],[0.1111111111111111,\"#46039f\"],[0.2222222222222222,\"#7201a8\"],[0.3333333333333333,\"#9c179e\"],[0.4444444444444444,\"#bd3786\"],[0.5555555555555556,\"#d8576b\"],[0.6666666666666666,\"#ed7953\"],[0.7777777777777778,\"#fb9f3a\"],[0.8888888888888888,\"#fdca26\"],[1.0,\"#f0f921\"]],\"type\":\"histogram2dcontour\"}],\"mesh3d\":[{\"colorbar\":{\"outlinewidth\":0,\"ticks\":\"\"},\"type\":\"mesh3d\"}],\"parcoords\":[{\"line\":{\"colorbar\":{\"outlinewidth\":0,\"ticks\":\"\"}},\"type\":\"parcoords\"}],\"pie\":[{\"automargin\":true,\"type\":\"pie\"}],\"scatter\":[{\"marker\":{\"colorbar\":{\"outlinewidth\":0,\"ticks\":\"\"}},\"type\":\"scatter\"}],\"scatter3d\":[{\"line\":{\"colorbar\":{\"outlinewidth\":0,\"ticks\":\"\"}},\"marker\":{\"colorbar\":{\"outlinewidth\":0,\"ticks\":\"\"}},\"type\":\"scatter3d\"}],\"scattercarpet\":[{\"marker\":{\"colorbar\":{\"outlinewidth\":0,\"ticks\":\"\"}},\"type\":\"scattercarpet\"}],\"scattergeo\":[{\"marker\":{\"colorbar\":{\"outlinewidth\":0,\"ticks\":\"\"}},\"type\":\"scattergeo\"}],\"scattergl\":[{\"marker\":{\"colorbar\":{\"outlinewidth\":0,\"ticks\":\"\"}},\"type\":\"scattergl\"}],\"scattermapbox\":[{\"marker\":{\"colorbar\":{\"outlinewidth\":0,\"ticks\":\"\"}},\"type\":\"scattermapbox\"}],\"scatterpolar\":[{\"marker\":{\"colorbar\":{\"outlinewidth\":0,\"ticks\":\"\"}},\"type\":\"scatterpolar\"}],\"scatterpolargl\":[{\"marker\":{\"colorbar\":{\"outlinewidth\":0,\"ticks\":\"\"}},\"type\":\"scatterpolargl\"}],\"scatterternary\":[{\"marker\":{\"colorbar\":{\"outlinewidth\":0,\"ticks\":\"\"}},\"type\":\"scatterternary\"}],\"surface\":[{\"colorbar\":{\"outlinewidth\":0,\"ticks\":\"\"},\"colorscale\":[[0.0,\"#0d0887\"],[0.1111111111111111,\"#46039f\"],[0.2222222222222222,\"#7201a8\"],[0.3333333333333333,\"#9c179e\"],[0.4444444444444444,\"#bd3786\"],[0.5555555555555556,\"#d8576b\"],[0.6666666666666666,\"#ed7953\"],[0.7777777777777778,\"#fb9f3a\"],[0.8888888888888888,\"#fdca26\"],[1.0,\"#f0f921\"]],\"type\":\"surface\"}],\"table\":[{\"cells\":{\"fill\":{\"color\":\"#EBF0F8\"},\"line\":{\"color\":\"white\"}},\"header\":{\"fill\":{\"color\":\"#C8D4E3\"},\"line\":{\"color\":\"white\"}},\"type\":\"table\"}]},\"layout\":{\"annotationdefaults\":{\"arrowcolor\":\"#2a3f5f\",\"arrowhead\":0,\"arrowwidth\":1},\"autotypenumbers\":\"strict\",\"coloraxis\":{\"colorbar\":{\"outlinewidth\":0,\"ticks\":\"\"}},\"colorscale\":{\"diverging\":[[0,\"#8e0152\"],[0.1,\"#c51b7d\"],[0.2,\"#de77ae\"],[0.3,\"#f1b6da\"],[0.4,\"#fde0ef\"],[0.5,\"#f7f7f7\"],[0.6,\"#e6f5d0\"],[0.7,\"#b8e186\"],[0.8,\"#7fbc41\"],[0.9,\"#4d9221\"],[1,\"#276419\"]],\"sequential\":[[0.0,\"#0d0887\"],[0.1111111111111111,\"#46039f\"],[0.2222222222222222,\"#7201a8\"],[0.3333333333333333,\"#9c179e\"],[0.4444444444444444,\"#bd3786\"],[0.5555555555555556,\"#d8576b\"],[0.6666666666666666,\"#ed7953\"],[0.7777777777777778,\"#fb9f3a\"],[0.8888888888888888,\"#fdca26\"],[1.0,\"#f0f921\"]],\"sequentialminus\":[[0.0,\"#0d0887\"],[0.1111111111111111,\"#46039f\"],[0.2222222222222222,\"#7201a8\"],[0.3333333333333333,\"#9c179e\"],[0.4444444444444444,\"#bd3786\"],[0.5555555555555556,\"#d8576b\"],[0.6666666666666666,\"#ed7953\"],[0.7777777777777778,\"#fb9f3a\"],[0.8888888888888888,\"#fdca26\"],[1.0,\"#f0f921\"]]},\"colorway\":[\"#636efa\",\"#EF553B\",\"#00cc96\",\"#ab63fa\",\"#FFA15A\",\"#19d3f3\",\"#FF6692\",\"#B6E880\",\"#FF97FF\",\"#FECB52\"],\"font\":{\"color\":\"#2a3f5f\"},\"geo\":{\"bgcolor\":\"white\",\"lakecolor\":\"white\",\"landcolor\":\"#E5ECF6\",\"showlakes\":true,\"showland\":true,\"subunitcolor\":\"white\"},\"hoverlabel\":{\"align\":\"left\"},\"hovermode\":\"closest\",\"mapbox\":{\"style\":\"light\"},\"paper_bgcolor\":\"white\",\"plot_bgcolor\":\"#E5ECF6\",\"polar\":{\"angularaxis\":{\"gridcolor\":\"white\",\"linecolor\":\"white\",\"ticks\":\"\"},\"bgcolor\":\"#E5ECF6\",\"radialaxis\":{\"gridcolor\":\"white\",\"linecolor\":\"white\",\"ticks\":\"\"}},\"scene\":{\"xaxis\":{\"backgroundcolor\":\"#E5ECF6\",\"gridcolor\":\"white\",\"gridwidth\":2,\"linecolor\":\"white\",\"showbackground\":true,\"ticks\":\"\",\"zerolinecolor\":\"white\"},\"yaxis\":{\"backgroundcolor\":\"#E5ECF6\",\"gridcolor\":\"white\",\"gridwidth\":2,\"linecolor\":\"white\",\"showbackground\":true,\"ticks\":\"\",\"zerolinecolor\":\"white\"},\"zaxis\":{\"backgroundcolor\":\"#E5ECF6\",\"gridcolor\":\"white\",\"gridwidth\":2,\"linecolor\":\"white\",\"showbackground\":true,\"ticks\":\"\",\"zerolinecolor\":\"white\"}},\"shapedefaults\":{\"line\":{\"color\":\"#2a3f5f\"}},\"ternary\":{\"aaxis\":{\"gridcolor\":\"white\",\"linecolor\":\"white\",\"ticks\":\"\"},\"baxis\":{\"gridcolor\":\"white\",\"linecolor\":\"white\",\"ticks\":\"\"},\"bgcolor\":\"#E5ECF6\",\"caxis\":{\"gridcolor\":\"white\",\"linecolor\":\"white\",\"ticks\":\"\"}},\"title\":{\"x\":0.05},\"xaxis\":{\"automargin\":true,\"gridcolor\":\"white\",\"linecolor\":\"white\",\"ticks\":\"\",\"title\":{\"standoff\":15},\"zerolinecolor\":\"white\",\"zerolinewidth\":2},\"yaxis\":{\"automargin\":true,\"gridcolor\":\"white\",\"linecolor\":\"white\",\"ticks\":\"\",\"title\":{\"standoff\":15},\"zerolinecolor\":\"white\",\"zerolinewidth\":2}}},\"title\":{\"font\":{\"size\":30},\"text\":\"Bending Moment Plot\"},\"xaxis\":{\"title\":{\"text\":\"Beam Length (m)\"}},\"yaxis\":{\"title\":{\"text\":\"Bending Moment (N.m)\"}},\"annotations\":[{\"arrowhead\":1,\"ax\":0,\"ay\":-40,\"showarrow\":true,\"text\":\"1.450 m<br>337365.064 N.m\",\"x\":1.45,\"xref\":\"x\",\"y\":337365.0642600032,\"yref\":\"y\"}]},                        {\"responsive\": true}                    ).then(function(){\n",
       "                            \n",
       "var gd = document.getElementById('e6877555-fccf-4f15-a151-315d933aa20f');\n",
       "var x = new MutationObserver(function (mutations, observer) {{\n",
       "        var display = window.getComputedStyle(gd).display;\n",
       "        if (!display || display === 'none') {{\n",
       "            console.log([gd, 'removed!']);\n",
       "            Plotly.purge(gd);\n",
       "            observer.disconnect();\n",
       "        }}\n",
       "}});\n",
       "\n",
       "// Listen for the removal of the full notebook cells\n",
       "var notebookContainer = gd.closest('#notebook-container');\n",
       "if (notebookContainer) {{\n",
       "    x.observe(notebookContainer, {childList: true});\n",
       "}}\n",
       "\n",
       "// Listen for the clearing of the current output cell\n",
       "var outputEl = gd.closest('.output');\n",
       "if (outputEl) {{\n",
       "    x.observe(outputEl, {childList: true});\n",
       "}}\n",
       "\n",
       "                        })                };                });            </script>        </div>"
      ]
     },
     "metadata": {},
     "output_type": "display_data"
    }
   ],
   "source": [
    "fdn_design.plot_bending_moment_X()"
   ]
  },
  {
   "cell_type": "markdown",
   "metadata": {},
   "source": [
    "#### Show the bending moment diagram in y direction showing the design bending moment"
   ]
  },
  {
   "cell_type": "code",
   "execution_count": 13,
   "metadata": {},
   "outputs": [
    {
     "data": {
      "text/html": [
       "<div>                            <div id=\"4894f0ff-b6d1-4bd2-9a55-7cce4001c65e\" class=\"plotly-graph-div\" style=\"height:525px; width:100%;\"></div>            <script type=\"text/javascript\">                require([\"plotly\"], function(Plotly) {                    window.PLOTLYENV=window.PLOTLYENV || {};                                    if (document.getElementById(\"4894f0ff-b6d1-4bd2-9a55-7cce4001c65e\")) {                    Plotly.newPlot(                        \"4894f0ff-b6d1-4bd2-9a55-7cce4001c65e\",                        [{\"fill\":\"tozeroy\",\"hovertemplate\":\"x: %{x:.3f} %{meta[0]}<br>f(x): %{y:.3f} %{meta[1]}\",\"line\":{\"color\":\"lightgreen\",\"width\":1},\"meta\":[\"m\",\"N.m\"],\"mode\":\"lines\",\"name\":\"Bending Moment\",\"x\":[0.0,1e-07,0.01256281407035176,0.02512562814070352,0.03768844221105528,0.05025125628140704,0.0628140703517588,0.07537688442211056,0.08793969849246232,0.10050251256281408,0.11306532663316583,0.1256281407035176,0.13819095477386936,0.15075376884422112,0.16331658291457288,0.17587939698492464,0.1884422110552764,0.20100502512562815,0.2135678391959799,0.22613065326633167,0.23869346733668342,0.2512562814070352,0.26381909547738697,0.2763819095477387,0.2889447236180905,0.30150753768844224,0.314070351758794,0.32663316582914576,0.3391959798994975,0.35175879396984927,0.36432160804020103,0.3768844221105528,0.38944723618090454,0.4020100502512563,0.41457286432160806,0.4271356783919598,0.4396984924623116,0.45226130653266333,0.4648241206030151,0.47738693467336685,0.4899497487437186,0.5025125628140704,0.5150753768844222,0.5276381909547739,0.5402010050251257,0.5527638190954774,0.5653266331658292,0.577889447236181,0.5904522613065327,0.6030150753768845,0.6155778894472362,0.628140703517588,0.6407035175879398,0.6532663316582915,0.6658291457286433,0.678391959798995,0.6909547738693468,0.7035175879396985,0.7160804020100503,0.7286432160804021,0.7412060301507538,0.7537688442211056,0.7663316582914573,0.7788944723618091,0.7914572864321608,0.8040201005025126,0.8165829145728644,0.8291457286432161,0.8417085427135679,0.8542713567839196,0.8668341708542714,0.8793969849246231,0.8919597989949749,0.9045226130653267,0.9170854271356784,0.9296482412060302,0.9422110552763819,0.9547738693467337,0.9673366834170855,0.9798994974874372,0.992462311557789,1.0050251256281408,1.0175879396984926,1.0301507537688444,1.042713567839196,1.0552763819095479,1.0678391959798996,1.0804020100502514,1.0929648241206031,1.105527638190955,1.1180904522613067,1.1306532663316584,1.1432160804020102,1.155778894472362,1.1683417085427137,1.1809045226130654,1.1934673366834172,1.206030150753769,1.2185929648241207,1.2311557788944725,1.2437185929648242,1.2499999,1.2500001,1.256281407035176,1.2688442211055277,1.2814070351758795,1.2939698492462313,1.306532663316583,1.3190954773869348,1.3316582914572865,1.3442211055276383,1.35678391959799,1.3693467336683418,1.3819095477386936,1.3944723618090453,1.407035175879397,1.4195979899497488,1.4321608040201006,1.4447236180904524,1.4572864321608041,1.4698492462311559,1.4824120603015076,1.4949748743718594,1.5075376884422111,1.520100502512563,1.5326633165829147,1.5452261306532664,1.5577889447236182,1.57035175879397,1.5829145728643217,1.5954773869346734,1.6080402010050252,1.620603015075377,1.6331658291457287,1.6457286432160805,1.6582914572864322,1.670854271356784,1.6834170854271358,1.6959798994974875,1.7085427135678393,1.721105527638191,1.7336683417085428,1.7462311557788945,1.7587939698492463,1.771356783919598,1.7839195979899498,1.7964824120603016,1.8090452261306533,1.821608040201005,1.8341708542713568,1.8467336683417086,1.8592964824120604,1.8718592964824121,1.8844221105527639,1.8969849246231156,1.9095477386934674,1.9221105527638191,1.934673366834171,1.9472361809045227,1.9597989949748744,1.9723618090452262,1.984924623115578,1.9974874371859297,2.0100502512562817,2.022613065326633,2.035175879396985,2.0477386934673367,2.0603015075376887,2.0728643216080402,2.085427135678392,2.0979899497487438,2.1105527638190957,2.1231155778894473,2.1356783919597992,2.148241206030151,2.1608040201005028,2.1733668341708543,2.1859296482412063,2.198492462311558,2.21105527638191,2.2236180904522613,2.2361809045226133,2.248743718592965,2.261306532663317,2.2738693467336684,2.2864321608040203,2.298994974874372,2.311557788944724,2.3241206030150754,2.3366834170854274,2.349246231155779,2.361809045226131,2.3743718592964824,2.3869346733668344,2.399497487437186,2.412060301507538,2.4246231155778895,2.4371859296482414,2.449748743718593,2.462311557788945,2.4748743718592965,2.4874371859296485,2.4999999,2.5],\"y\":[0.0,3.0599999999999994e-09,48.29423499406581,193.17693997626324,434.64811494659233,772.707759905053,1207.3558748516455,1738.5924597863693,2366.4175147092246,3090.831039620212,3911.8330345193303,4829.423499406582,5843.602434281964,6954.369839145477,8161.7257139971225,9465.670058836899,10866.202873664808,12363.324158480847,13957.033913285019,15647.332138077321,17434.218832857758,19317.693997626327,21297.757632383025,23374.409737127855,25547.65031186082,27817.47935658191,30183.896871291137,32646.90285598849,35206.49731067398,37862.680235347594,40615.451630009346,43464.81149465923,46410.75982929725,49453.29663392339,52592.42190853767,55828.135653140074,59160.437867730616,62589.328552309285,66114.80770687609,69736.87533143103,73455.5314259741,77270.77599050531,81182.60902502463,85191.0305295321,89296.04050402771,93497.63894851142,97795.82586298327,102190.60124744328,106681.96510189139,111269.91742632764,115954.45822075203,120735.58748516455,125613.30521956518,130587.61142395396,135658.50609833086,140825.9892426959,146090.0608570491,151450.72094139038,156907.96949571982,162461.80652003738,168112.23201434308,173859.24597863693,179702.84841291886,185643.039317189,191679.8186914472,197813.18653569356,204043.14284992806,210369.68763415067,216792.8208883614,223312.5426125603,229928.8528067473,236641.75147092246,243451.23860508573,250357.31420923714,257359.9782833767,264459.23082750436,271655.0718416202,278947.5013257241,286336.5192798162,293822.1257038964,301404.3205979647,309083.10396202124,316858.4757960659,324730.43610009854,332698.9848741194,340764.1221181284,348925.84783212555,357184.16201611084,365539.0646700842,373990.5557940457,382538.63538799534,391183.3034519331,399924.559985859,408762.4049897731,417696.83846367523,426727.86040756555,435855.470821444,445079.66970531055,454400.45705916523,463817.8328830081,473331.797176839,478124.92350000306,478124.923500003,473331.7971768389,463817.8328830079,454400.4570591651,445079.66970531037,435855.4708214438,426727.8604075654,417696.83846367506,408762.40498977294,399924.55998585885,391183.3034519329,382538.6353879953,373990.55579404556,365539.0646700839,357184.1620161106,348925.8478321254,340764.1221181283,332698.9848741192,324730.43610009854,316858.47579606564,309083.1039620211,301404.3205979647,293822.1257038963,286336.519279816,278947.501325724,271655.07184162014,264459.23082750425,257359.9782833766,250357.3142092371,243451.23860508564,236641.75147092238,229928.8528067473,223312.54261256033,216792.8208883613,210369.6876341506,204043.14284992788,197813.18653569347,191679.81869144714,185643.0393171889,179702.84841291874,173859.2459786369,168112.23201434303,162461.80652003735,156907.96949571976,151450.72094139038,146090.06085704896,140825.98924269585,135658.50609833084,130587.6114239539,125613.30521956505,120735.58748516452,115954.45822075207,111269.91742632759,106681.96510189143,102190.60124744312,97795.82586298324,93497.63894851133,89296.04050402762,85191.03052953212,81182.60902502458,77270.77599050524,73455.5314259741,69736.87533143093,66114.80770687619,62589.32855230919,59160.43786773039,55828.13565314002,52592.42190853739,49453.296633923426,46410.759829297196,43464.811494658934,40615.45163000934,37862.68023534771,35206.49731067405,32646.90285598836,30183.896871291334,27817.47935658181,25547.65031186072,23374.409737128066,21297.757632382913,19317.693997626426,17434.218832857674,15647.332138077123,13957.033913285006,12363.32415848109,10866.202873664908,9465.670058836928,8161.725713997148,6954.369839145336,5843.602434281958,4829.423499406315,3911.833034519339,3090.8310396203306,2366.4175147090573,1738.5924597862177,1207.3558748515788,772.707759904908,434.64811494667083,193.17693997640163,48.294234993867576,3.026798367500305e-09,0.0],\"type\":\"scatter\"}],                        {\"template\":{\"data\":{\"bar\":[{\"error_x\":{\"color\":\"#2a3f5f\"},\"error_y\":{\"color\":\"#2a3f5f\"},\"marker\":{\"line\":{\"color\":\"#E5ECF6\",\"width\":0.5},\"pattern\":{\"fillmode\":\"overlay\",\"size\":10,\"solidity\":0.2}},\"type\":\"bar\"}],\"barpolar\":[{\"marker\":{\"line\":{\"color\":\"#E5ECF6\",\"width\":0.5},\"pattern\":{\"fillmode\":\"overlay\",\"size\":10,\"solidity\":0.2}},\"type\":\"barpolar\"}],\"carpet\":[{\"aaxis\":{\"endlinecolor\":\"#2a3f5f\",\"gridcolor\":\"white\",\"linecolor\":\"white\",\"minorgridcolor\":\"white\",\"startlinecolor\":\"#2a3f5f\"},\"baxis\":{\"endlinecolor\":\"#2a3f5f\",\"gridcolor\":\"white\",\"linecolor\":\"white\",\"minorgridcolor\":\"white\",\"startlinecolor\":\"#2a3f5f\"},\"type\":\"carpet\"}],\"choropleth\":[{\"colorbar\":{\"outlinewidth\":0,\"ticks\":\"\"},\"type\":\"choropleth\"}],\"contour\":[{\"colorbar\":{\"outlinewidth\":0,\"ticks\":\"\"},\"colorscale\":[[0.0,\"#0d0887\"],[0.1111111111111111,\"#46039f\"],[0.2222222222222222,\"#7201a8\"],[0.3333333333333333,\"#9c179e\"],[0.4444444444444444,\"#bd3786\"],[0.5555555555555556,\"#d8576b\"],[0.6666666666666666,\"#ed7953\"],[0.7777777777777778,\"#fb9f3a\"],[0.8888888888888888,\"#fdca26\"],[1.0,\"#f0f921\"]],\"type\":\"contour\"}],\"contourcarpet\":[{\"colorbar\":{\"outlinewidth\":0,\"ticks\":\"\"},\"type\":\"contourcarpet\"}],\"heatmap\":[{\"colorbar\":{\"outlinewidth\":0,\"ticks\":\"\"},\"colorscale\":[[0.0,\"#0d0887\"],[0.1111111111111111,\"#46039f\"],[0.2222222222222222,\"#7201a8\"],[0.3333333333333333,\"#9c179e\"],[0.4444444444444444,\"#bd3786\"],[0.5555555555555556,\"#d8576b\"],[0.6666666666666666,\"#ed7953\"],[0.7777777777777778,\"#fb9f3a\"],[0.8888888888888888,\"#fdca26\"],[1.0,\"#f0f921\"]],\"type\":\"heatmap\"}],\"heatmapgl\":[{\"colorbar\":{\"outlinewidth\":0,\"ticks\":\"\"},\"colorscale\":[[0.0,\"#0d0887\"],[0.1111111111111111,\"#46039f\"],[0.2222222222222222,\"#7201a8\"],[0.3333333333333333,\"#9c179e\"],[0.4444444444444444,\"#bd3786\"],[0.5555555555555556,\"#d8576b\"],[0.6666666666666666,\"#ed7953\"],[0.7777777777777778,\"#fb9f3a\"],[0.8888888888888888,\"#fdca26\"],[1.0,\"#f0f921\"]],\"type\":\"heatmapgl\"}],\"histogram\":[{\"marker\":{\"pattern\":{\"fillmode\":\"overlay\",\"size\":10,\"solidity\":0.2}},\"type\":\"histogram\"}],\"histogram2d\":[{\"colorbar\":{\"outlinewidth\":0,\"ticks\":\"\"},\"colorscale\":[[0.0,\"#0d0887\"],[0.1111111111111111,\"#46039f\"],[0.2222222222222222,\"#7201a8\"],[0.3333333333333333,\"#9c179e\"],[0.4444444444444444,\"#bd3786\"],[0.5555555555555556,\"#d8576b\"],[0.6666666666666666,\"#ed7953\"],[0.7777777777777778,\"#fb9f3a\"],[0.8888888888888888,\"#fdca26\"],[1.0,\"#f0f921\"]],\"type\":\"histogram2d\"}],\"histogram2dcontour\":[{\"colorbar\":{\"outlinewidth\":0,\"ticks\":\"\"},\"colorscale\":[[0.0,\"#0d0887\"],[0.1111111111111111,\"#46039f\"],[0.2222222222222222,\"#7201a8\"],[0.3333333333333333,\"#9c179e\"],[0.4444444444444444,\"#bd3786\"],[0.5555555555555556,\"#d8576b\"],[0.6666666666666666,\"#ed7953\"],[0.7777777777777778,\"#fb9f3a\"],[0.8888888888888888,\"#fdca26\"],[1.0,\"#f0f921\"]],\"type\":\"histogram2dcontour\"}],\"mesh3d\":[{\"colorbar\":{\"outlinewidth\":0,\"ticks\":\"\"},\"type\":\"mesh3d\"}],\"parcoords\":[{\"line\":{\"colorbar\":{\"outlinewidth\":0,\"ticks\":\"\"}},\"type\":\"parcoords\"}],\"pie\":[{\"automargin\":true,\"type\":\"pie\"}],\"scatter\":[{\"marker\":{\"colorbar\":{\"outlinewidth\":0,\"ticks\":\"\"}},\"type\":\"scatter\"}],\"scatter3d\":[{\"line\":{\"colorbar\":{\"outlinewidth\":0,\"ticks\":\"\"}},\"marker\":{\"colorbar\":{\"outlinewidth\":0,\"ticks\":\"\"}},\"type\":\"scatter3d\"}],\"scattercarpet\":[{\"marker\":{\"colorbar\":{\"outlinewidth\":0,\"ticks\":\"\"}},\"type\":\"scattercarpet\"}],\"scattergeo\":[{\"marker\":{\"colorbar\":{\"outlinewidth\":0,\"ticks\":\"\"}},\"type\":\"scattergeo\"}],\"scattergl\":[{\"marker\":{\"colorbar\":{\"outlinewidth\":0,\"ticks\":\"\"}},\"type\":\"scattergl\"}],\"scattermapbox\":[{\"marker\":{\"colorbar\":{\"outlinewidth\":0,\"ticks\":\"\"}},\"type\":\"scattermapbox\"}],\"scatterpolar\":[{\"marker\":{\"colorbar\":{\"outlinewidth\":0,\"ticks\":\"\"}},\"type\":\"scatterpolar\"}],\"scatterpolargl\":[{\"marker\":{\"colorbar\":{\"outlinewidth\":0,\"ticks\":\"\"}},\"type\":\"scatterpolargl\"}],\"scatterternary\":[{\"marker\":{\"colorbar\":{\"outlinewidth\":0,\"ticks\":\"\"}},\"type\":\"scatterternary\"}],\"surface\":[{\"colorbar\":{\"outlinewidth\":0,\"ticks\":\"\"},\"colorscale\":[[0.0,\"#0d0887\"],[0.1111111111111111,\"#46039f\"],[0.2222222222222222,\"#7201a8\"],[0.3333333333333333,\"#9c179e\"],[0.4444444444444444,\"#bd3786\"],[0.5555555555555556,\"#d8576b\"],[0.6666666666666666,\"#ed7953\"],[0.7777777777777778,\"#fb9f3a\"],[0.8888888888888888,\"#fdca26\"],[1.0,\"#f0f921\"]],\"type\":\"surface\"}],\"table\":[{\"cells\":{\"fill\":{\"color\":\"#EBF0F8\"},\"line\":{\"color\":\"white\"}},\"header\":{\"fill\":{\"color\":\"#C8D4E3\"},\"line\":{\"color\":\"white\"}},\"type\":\"table\"}]},\"layout\":{\"annotationdefaults\":{\"arrowcolor\":\"#2a3f5f\",\"arrowhead\":0,\"arrowwidth\":1},\"autotypenumbers\":\"strict\",\"coloraxis\":{\"colorbar\":{\"outlinewidth\":0,\"ticks\":\"\"}},\"colorscale\":{\"diverging\":[[0,\"#8e0152\"],[0.1,\"#c51b7d\"],[0.2,\"#de77ae\"],[0.3,\"#f1b6da\"],[0.4,\"#fde0ef\"],[0.5,\"#f7f7f7\"],[0.6,\"#e6f5d0\"],[0.7,\"#b8e186\"],[0.8,\"#7fbc41\"],[0.9,\"#4d9221\"],[1,\"#276419\"]],\"sequential\":[[0.0,\"#0d0887\"],[0.1111111111111111,\"#46039f\"],[0.2222222222222222,\"#7201a8\"],[0.3333333333333333,\"#9c179e\"],[0.4444444444444444,\"#bd3786\"],[0.5555555555555556,\"#d8576b\"],[0.6666666666666666,\"#ed7953\"],[0.7777777777777778,\"#fb9f3a\"],[0.8888888888888888,\"#fdca26\"],[1.0,\"#f0f921\"]],\"sequentialminus\":[[0.0,\"#0d0887\"],[0.1111111111111111,\"#46039f\"],[0.2222222222222222,\"#7201a8\"],[0.3333333333333333,\"#9c179e\"],[0.4444444444444444,\"#bd3786\"],[0.5555555555555556,\"#d8576b\"],[0.6666666666666666,\"#ed7953\"],[0.7777777777777778,\"#fb9f3a\"],[0.8888888888888888,\"#fdca26\"],[1.0,\"#f0f921\"]]},\"colorway\":[\"#636efa\",\"#EF553B\",\"#00cc96\",\"#ab63fa\",\"#FFA15A\",\"#19d3f3\",\"#FF6692\",\"#B6E880\",\"#FF97FF\",\"#FECB52\"],\"font\":{\"color\":\"#2a3f5f\"},\"geo\":{\"bgcolor\":\"white\",\"lakecolor\":\"white\",\"landcolor\":\"#E5ECF6\",\"showlakes\":true,\"showland\":true,\"subunitcolor\":\"white\"},\"hoverlabel\":{\"align\":\"left\"},\"hovermode\":\"closest\",\"mapbox\":{\"style\":\"light\"},\"paper_bgcolor\":\"white\",\"plot_bgcolor\":\"#E5ECF6\",\"polar\":{\"angularaxis\":{\"gridcolor\":\"white\",\"linecolor\":\"white\",\"ticks\":\"\"},\"bgcolor\":\"#E5ECF6\",\"radialaxis\":{\"gridcolor\":\"white\",\"linecolor\":\"white\",\"ticks\":\"\"}},\"scene\":{\"xaxis\":{\"backgroundcolor\":\"#E5ECF6\",\"gridcolor\":\"white\",\"gridwidth\":2,\"linecolor\":\"white\",\"showbackground\":true,\"ticks\":\"\",\"zerolinecolor\":\"white\"},\"yaxis\":{\"backgroundcolor\":\"#E5ECF6\",\"gridcolor\":\"white\",\"gridwidth\":2,\"linecolor\":\"white\",\"showbackground\":true,\"ticks\":\"\",\"zerolinecolor\":\"white\"},\"zaxis\":{\"backgroundcolor\":\"#E5ECF6\",\"gridcolor\":\"white\",\"gridwidth\":2,\"linecolor\":\"white\",\"showbackground\":true,\"ticks\":\"\",\"zerolinecolor\":\"white\"}},\"shapedefaults\":{\"line\":{\"color\":\"#2a3f5f\"}},\"ternary\":{\"aaxis\":{\"gridcolor\":\"white\",\"linecolor\":\"white\",\"ticks\":\"\"},\"baxis\":{\"gridcolor\":\"white\",\"linecolor\":\"white\",\"ticks\":\"\"},\"bgcolor\":\"#E5ECF6\",\"caxis\":{\"gridcolor\":\"white\",\"linecolor\":\"white\",\"ticks\":\"\"}},\"title\":{\"x\":0.05},\"xaxis\":{\"automargin\":true,\"gridcolor\":\"white\",\"linecolor\":\"white\",\"ticks\":\"\",\"title\":{\"standoff\":15},\"zerolinecolor\":\"white\",\"zerolinewidth\":2},\"yaxis\":{\"automargin\":true,\"gridcolor\":\"white\",\"linecolor\":\"white\",\"ticks\":\"\",\"title\":{\"standoff\":15},\"zerolinecolor\":\"white\",\"zerolinewidth\":2}}},\"title\":{\"font\":{\"size\":30},\"text\":\"Bending Moment Plot\"},\"xaxis\":{\"title\":{\"text\":\"Beam Length (m)\"}},\"yaxis\":{\"title\":{\"text\":\"Bending Moment (N.m)\"}},\"annotations\":[{\"arrowhead\":1,\"ax\":0,\"ay\":-40,\"showarrow\":true,\"text\":\"1.450 m<br>337365.064 N.m\",\"x\":1.45,\"xref\":\"x\",\"y\":337365.0642600032,\"yref\":\"y\"}]},                        {\"responsive\": true}                    ).then(function(){\n",
       "                            \n",
       "var gd = document.getElementById('4894f0ff-b6d1-4bd2-9a55-7cce4001c65e');\n",
       "var x = new MutationObserver(function (mutations, observer) {{\n",
       "        var display = window.getComputedStyle(gd).display;\n",
       "        if (!display || display === 'none') {{\n",
       "            console.log([gd, 'removed!']);\n",
       "            Plotly.purge(gd);\n",
       "            observer.disconnect();\n",
       "        }}\n",
       "}});\n",
       "\n",
       "// Listen for the removal of the full notebook cells\n",
       "var notebookContainer = gd.closest('#notebook-container');\n",
       "if (notebookContainer) {{\n",
       "    x.observe(notebookContainer, {childList: true});\n",
       "}}\n",
       "\n",
       "// Listen for the clearing of the current output cell\n",
       "var outputEl = gd.closest('.output');\n",
       "if (outputEl) {{\n",
       "    x.observe(outputEl, {childList: true});\n",
       "}}\n",
       "\n",
       "                        })                };                });            </script>        </div>"
      ]
     },
     "metadata": {},
     "output_type": "display_data"
    }
   ],
   "source": [
    "fdn_design.plot_bending_moment_Y()"
   ]
  },
  {
   "cell_type": "markdown",
   "metadata": {},
   "source": [
    "#### Show the shear force diagram in x direction showing the design shear forces"
   ]
  },
  {
   "cell_type": "code",
   "execution_count": 14,
   "metadata": {},
   "outputs": [
    {
     "data": {
      "text/html": [
       "<div>                            <div id=\"11f846c8-9197-4338-9e86-c5d6c27ed86f\" class=\"plotly-graph-div\" style=\"height:525px; width:100%;\"></div>            <script type=\"text/javascript\">                require([\"plotly\"], function(Plotly) {                    window.PLOTLYENV=window.PLOTLYENV || {};                                    if (document.getElementById(\"11f846c8-9197-4338-9e86-c5d6c27ed86f\")) {                    Plotly.newPlot(                        \"11f846c8-9197-4338-9e86-c5d6c27ed86f\",                        [{\"fill\":\"tozeroy\",\"hovertemplate\":\"x: %{x:.3f} %{meta[0]}<br>f(x): %{y:.3f} %{meta[1]}\",\"line\":{\"color\":\"aqua\",\"width\":1},\"meta\":[\"m\",\"N\"],\"mode\":\"lines\",\"name\":\"Shear Force\",\"x\":[0.0,1e-07,0.01256281407035176,0.02512562814070352,0.03768844221105528,0.05025125628140704,0.0628140703517588,0.07537688442211056,0.08793969849246232,0.10050251256281408,0.11306532663316583,0.1256281407035176,0.13819095477386936,0.15075376884422112,0.16331658291457288,0.17587939698492464,0.1884422110552764,0.20100502512562815,0.2135678391959799,0.22613065326633167,0.23869346733668342,0.2512562814070352,0.26381909547738697,0.2763819095477387,0.2889447236180905,0.30150753768844224,0.314070351758794,0.32663316582914576,0.3391959798994975,0.35175879396984927,0.36432160804020103,0.3768844221105528,0.38944723618090454,0.4020100502512563,0.41457286432160806,0.4271356783919598,0.4396984924623116,0.45226130653266333,0.4648241206030151,0.47738693467336685,0.4899497487437186,0.5025125628140704,0.5150753768844222,0.5276381909547739,0.5402010050251257,0.5527638190954774,0.5653266331658292,0.577889447236181,0.5904522613065327,0.6030150753768845,0.6155778894472362,0.628140703517588,0.6407035175879398,0.6532663316582915,0.6658291457286433,0.678391959798995,0.6909547738693468,0.7035175879396985,0.7160804020100503,0.7286432160804021,0.7412060301507538,0.7537688442211056,0.7663316582914573,0.7788944723618091,0.7914572864321608,0.8040201005025126,0.8165829145728644,0.8291457286432161,0.8417085427135679,0.8542713567839196,0.8668341708542714,0.8793969849246231,0.8919597989949749,0.9045226130653267,0.9170854271356784,0.9296482412060302,0.9422110552763819,0.9547738693467337,0.9673366834170855,0.9798994974874372,0.992462311557789,1.0050251256281408,1.0175879396984926,1.0301507537688444,1.042713567839196,1.0552763819095479,1.0678391959798996,1.0804020100502514,1.0929648241206031,1.105527638190955,1.1180904522613067,1.1306532663316584,1.1432160804020102,1.155778894472362,1.1683417085427137,1.1809045226130654,1.1934673366834172,1.206030150753769,1.2185929648241207,1.2311557788944725,1.2437185929648242,1.2499999,1.2500001,1.256281407035176,1.2688442211055277,1.2814070351758795,1.2939698492462313,1.306532663316583,1.3190954773869348,1.3316582914572865,1.3442211055276383,1.35678391959799,1.3693467336683418,1.3819095477386936,1.3944723618090453,1.407035175879397,1.4195979899497488,1.4321608040201006,1.4447236180904524,1.4572864321608041,1.4698492462311559,1.4824120603015076,1.4949748743718594,1.5075376884422111,1.520100502512563,1.5326633165829147,1.5452261306532664,1.5577889447236182,1.57035175879397,1.5829145728643217,1.5954773869346734,1.6080402010050252,1.620603015075377,1.6331658291457287,1.6457286432160805,1.6582914572864322,1.670854271356784,1.6834170854271358,1.6959798994974875,1.7085427135678393,1.721105527638191,1.7336683417085428,1.7462311557788945,1.7587939698492463,1.771356783919598,1.7839195979899498,1.7964824120603016,1.8090452261306533,1.821608040201005,1.8341708542713568,1.8467336683417086,1.8592964824120604,1.8718592964824121,1.8844221105527639,1.8969849246231156,1.9095477386934674,1.9221105527638191,1.934673366834171,1.9472361809045227,1.9597989949748744,1.9723618090452262,1.984924623115578,1.9974874371859297,2.0100502512562817,2.022613065326633,2.035175879396985,2.0477386934673367,2.0603015075376887,2.0728643216080402,2.085427135678392,2.0979899497487438,2.1105527638190957,2.1231155778894473,2.1356783919597992,2.148241206030151,2.1608040201005028,2.1733668341708543,2.1859296482412063,2.198492462311558,2.21105527638191,2.2236180904522613,2.2361809045226133,2.248743718592965,2.261306532663317,2.2738693467336684,2.2864321608040203,2.298994974874372,2.311557788944724,2.3241206030150754,2.3366834170854274,2.349246231155779,2.361809045226131,2.3743718592964824,2.3869346733668344,2.399497487437186,2.412060301507538,2.4246231155778895,2.4371859296482414,2.449748743718593,2.462311557788945,2.4748743718592965,2.4874371859296485,2.4999999,2.5],\"y\":[0.0,0.0612,7688.442211055278,15376.884422110556,23065.32663316583,30753.76884422111,38442.211055276384,46130.65326633166,53819.09547738694,61507.53768844222,69195.97989949748,76884.42211055277,84572.86432160805,92261.30653266332,99949.7487437186,107638.19095477388,115326.63316582916,123015.07537688444,130703.5175879397,138391.95979899497,146080.40201005025,153768.84422110554,161457.28643216082,169145.7286432161,176834.17085427136,184522.61306532664,192211.05527638193,199899.4974874372,207587.93969849247,215276.38190954775,222964.82412060304,230653.26633165832,238341.70854271358,246030.1507537689,253718.5929648241,261407.0351758794,269095.4773869347,276783.91959798994,284472.36180904525,292160.8040201005,299849.2462311558,307537.6884422111,315226.1306532664,322914.57286432164,330603.01507537696,338291.4572864322,345979.89949748747,353668.3417085427,361356.78391959803,369045.2261306533,376733.6683417086,384422.11055276386,392110.5527638191,399798.9949748744,407487.4371859296,415175.87939698494,422864.32160804025,430552.7638190955,438241.20603015076,445929.6482412061,453618.0904522613,461306.53266331664,468994.97487437184,476683.41708542715,484371.8592964824,492060.3015075378,499748.743718593,507437.1859296482,515125.62814070354,522814.0703517588,530502.5125628142,538190.9547738694,545879.3969849247,553567.8391959799,561256.2814070352,568944.7236180905,576633.1658291457,584321.608040201,592010.0502512563,599698.4924623116,607386.9346733668,615075.3768844221,622763.8190954775,630452.2613065328,638140.703517588,645829.1457286433,653517.5879396985,661206.0301507539,668894.4723618091,676582.9145728644,684271.3567839196,691959.7989949749,699648.2412060302,707336.6834170854,715025.1256281408,722713.5678391961,730402.0100502514,738090.4522613066,745778.8944723619,753467.3366834172,761155.7788944724,764999.9388,-764999.9388,-761155.7788944723,-753467.3366834171,-745778.8944723618,-738090.4522613066,-730402.0100502513,-722713.5678391958,-715025.1256281406,-707336.6834170853,-699648.2412060301,-691959.7989949748,-684271.3567839196,-676582.9145728643,-668894.4723618089,-661206.0301507536,-653517.5879396984,-645829.1457286432,-638140.7035175879,-630452.2613065327,-622763.8190954773,-615075.3768844221,-607386.9346733668,-599698.4924623114,-592010.0502512562,-584321.6080402009,-576633.1658291457,-568944.7236180904,-561256.2814070352,-553567.83919598,-545879.3969849246,-538190.9547738691,-530502.5125628139,-522814.07035175874,-515125.62814070354,-507437.1859296481,-499748.7437185929,-492060.3015075377,-484371.8592964825,-476683.4170854273,-468994.97487437166,-461306.53266331647,-453618.09045226127,-445929.6482412061,-438241.20603015064,-430552.76381909545,-422864.32160804025,-415175.8793969848,-407487.4371859296,-399798.9949748742,-392110.552763819,-384422.1105527638,-376733.6683417086,-369045.2261306532,-361356.783919598,-353668.3417085428,-345979.89949748735,-338291.45728643215,-330603.0150753767,-322914.5728643215,-315226.13065326633,-307537.68844221113,-299849.2462311557,-292160.8040201005,-284472.36180904484,-276783.9195979899,-269095.47738693445,-261407.03517587925,-253718.59296482406,-246030.15075376886,-238341.70854271343,-230653.26633165847,-222964.82412060304,-215276.3819095476,-207587.93969849218,-199899.4974874372,-192211.05527638178,-184522.6130653266,-176834.17085427116,-169145.7286432162,-161457.28643216076,-153768.84422110533,-146080.40201005014,-138391.95979899494,-130703.51758793951,-123015.07537688431,-115326.63316582912,-107638.19095477392,-99949.74874371849,-92261.3065326633,-84572.86432160786,-76884.42211055267,-69195.97989949724,-61507.53768844227,-53819.09547738684,-46130.65326633165,-38442.21105527622,-30753.76884422102,-23065.32663316559,-15376.884422110394,-7688.442211055197,-0.06119999988004565,0.0],\"type\":\"scatter\"}],                        {\"template\":{\"data\":{\"bar\":[{\"error_x\":{\"color\":\"#2a3f5f\"},\"error_y\":{\"color\":\"#2a3f5f\"},\"marker\":{\"line\":{\"color\":\"#E5ECF6\",\"width\":0.5},\"pattern\":{\"fillmode\":\"overlay\",\"size\":10,\"solidity\":0.2}},\"type\":\"bar\"}],\"barpolar\":[{\"marker\":{\"line\":{\"color\":\"#E5ECF6\",\"width\":0.5},\"pattern\":{\"fillmode\":\"overlay\",\"size\":10,\"solidity\":0.2}},\"type\":\"barpolar\"}],\"carpet\":[{\"aaxis\":{\"endlinecolor\":\"#2a3f5f\",\"gridcolor\":\"white\",\"linecolor\":\"white\",\"minorgridcolor\":\"white\",\"startlinecolor\":\"#2a3f5f\"},\"baxis\":{\"endlinecolor\":\"#2a3f5f\",\"gridcolor\":\"white\",\"linecolor\":\"white\",\"minorgridcolor\":\"white\",\"startlinecolor\":\"#2a3f5f\"},\"type\":\"carpet\"}],\"choropleth\":[{\"colorbar\":{\"outlinewidth\":0,\"ticks\":\"\"},\"type\":\"choropleth\"}],\"contour\":[{\"colorbar\":{\"outlinewidth\":0,\"ticks\":\"\"},\"colorscale\":[[0.0,\"#0d0887\"],[0.1111111111111111,\"#46039f\"],[0.2222222222222222,\"#7201a8\"],[0.3333333333333333,\"#9c179e\"],[0.4444444444444444,\"#bd3786\"],[0.5555555555555556,\"#d8576b\"],[0.6666666666666666,\"#ed7953\"],[0.7777777777777778,\"#fb9f3a\"],[0.8888888888888888,\"#fdca26\"],[1.0,\"#f0f921\"]],\"type\":\"contour\"}],\"contourcarpet\":[{\"colorbar\":{\"outlinewidth\":0,\"ticks\":\"\"},\"type\":\"contourcarpet\"}],\"heatmap\":[{\"colorbar\":{\"outlinewidth\":0,\"ticks\":\"\"},\"colorscale\":[[0.0,\"#0d0887\"],[0.1111111111111111,\"#46039f\"],[0.2222222222222222,\"#7201a8\"],[0.3333333333333333,\"#9c179e\"],[0.4444444444444444,\"#bd3786\"],[0.5555555555555556,\"#d8576b\"],[0.6666666666666666,\"#ed7953\"],[0.7777777777777778,\"#fb9f3a\"],[0.8888888888888888,\"#fdca26\"],[1.0,\"#f0f921\"]],\"type\":\"heatmap\"}],\"heatmapgl\":[{\"colorbar\":{\"outlinewidth\":0,\"ticks\":\"\"},\"colorscale\":[[0.0,\"#0d0887\"],[0.1111111111111111,\"#46039f\"],[0.2222222222222222,\"#7201a8\"],[0.3333333333333333,\"#9c179e\"],[0.4444444444444444,\"#bd3786\"],[0.5555555555555556,\"#d8576b\"],[0.6666666666666666,\"#ed7953\"],[0.7777777777777778,\"#fb9f3a\"],[0.8888888888888888,\"#fdca26\"],[1.0,\"#f0f921\"]],\"type\":\"heatmapgl\"}],\"histogram\":[{\"marker\":{\"pattern\":{\"fillmode\":\"overlay\",\"size\":10,\"solidity\":0.2}},\"type\":\"histogram\"}],\"histogram2d\":[{\"colorbar\":{\"outlinewidth\":0,\"ticks\":\"\"},\"colorscale\":[[0.0,\"#0d0887\"],[0.1111111111111111,\"#46039f\"],[0.2222222222222222,\"#7201a8\"],[0.3333333333333333,\"#9c179e\"],[0.4444444444444444,\"#bd3786\"],[0.5555555555555556,\"#d8576b\"],[0.6666666666666666,\"#ed7953\"],[0.7777777777777778,\"#fb9f3a\"],[0.8888888888888888,\"#fdca26\"],[1.0,\"#f0f921\"]],\"type\":\"histogram2d\"}],\"histogram2dcontour\":[{\"colorbar\":{\"outlinewidth\":0,\"ticks\":\"\"},\"colorscale\":[[0.0,\"#0d0887\"],[0.1111111111111111,\"#46039f\"],[0.2222222222222222,\"#7201a8\"],[0.3333333333333333,\"#9c179e\"],[0.4444444444444444,\"#bd3786\"],[0.5555555555555556,\"#d8576b\"],[0.6666666666666666,\"#ed7953\"],[0.7777777777777778,\"#fb9f3a\"],[0.8888888888888888,\"#fdca26\"],[1.0,\"#f0f921\"]],\"type\":\"histogram2dcontour\"}],\"mesh3d\":[{\"colorbar\":{\"outlinewidth\":0,\"ticks\":\"\"},\"type\":\"mesh3d\"}],\"parcoords\":[{\"line\":{\"colorbar\":{\"outlinewidth\":0,\"ticks\":\"\"}},\"type\":\"parcoords\"}],\"pie\":[{\"automargin\":true,\"type\":\"pie\"}],\"scatter\":[{\"marker\":{\"colorbar\":{\"outlinewidth\":0,\"ticks\":\"\"}},\"type\":\"scatter\"}],\"scatter3d\":[{\"line\":{\"colorbar\":{\"outlinewidth\":0,\"ticks\":\"\"}},\"marker\":{\"colorbar\":{\"outlinewidth\":0,\"ticks\":\"\"}},\"type\":\"scatter3d\"}],\"scattercarpet\":[{\"marker\":{\"colorbar\":{\"outlinewidth\":0,\"ticks\":\"\"}},\"type\":\"scattercarpet\"}],\"scattergeo\":[{\"marker\":{\"colorbar\":{\"outlinewidth\":0,\"ticks\":\"\"}},\"type\":\"scattergeo\"}],\"scattergl\":[{\"marker\":{\"colorbar\":{\"outlinewidth\":0,\"ticks\":\"\"}},\"type\":\"scattergl\"}],\"scattermapbox\":[{\"marker\":{\"colorbar\":{\"outlinewidth\":0,\"ticks\":\"\"}},\"type\":\"scattermapbox\"}],\"scatterpolar\":[{\"marker\":{\"colorbar\":{\"outlinewidth\":0,\"ticks\":\"\"}},\"type\":\"scatterpolar\"}],\"scatterpolargl\":[{\"marker\":{\"colorbar\":{\"outlinewidth\":0,\"ticks\":\"\"}},\"type\":\"scatterpolargl\"}],\"scatterternary\":[{\"marker\":{\"colorbar\":{\"outlinewidth\":0,\"ticks\":\"\"}},\"type\":\"scatterternary\"}],\"surface\":[{\"colorbar\":{\"outlinewidth\":0,\"ticks\":\"\"},\"colorscale\":[[0.0,\"#0d0887\"],[0.1111111111111111,\"#46039f\"],[0.2222222222222222,\"#7201a8\"],[0.3333333333333333,\"#9c179e\"],[0.4444444444444444,\"#bd3786\"],[0.5555555555555556,\"#d8576b\"],[0.6666666666666666,\"#ed7953\"],[0.7777777777777778,\"#fb9f3a\"],[0.8888888888888888,\"#fdca26\"],[1.0,\"#f0f921\"]],\"type\":\"surface\"}],\"table\":[{\"cells\":{\"fill\":{\"color\":\"#EBF0F8\"},\"line\":{\"color\":\"white\"}},\"header\":{\"fill\":{\"color\":\"#C8D4E3\"},\"line\":{\"color\":\"white\"}},\"type\":\"table\"}]},\"layout\":{\"annotationdefaults\":{\"arrowcolor\":\"#2a3f5f\",\"arrowhead\":0,\"arrowwidth\":1},\"autotypenumbers\":\"strict\",\"coloraxis\":{\"colorbar\":{\"outlinewidth\":0,\"ticks\":\"\"}},\"colorscale\":{\"diverging\":[[0,\"#8e0152\"],[0.1,\"#c51b7d\"],[0.2,\"#de77ae\"],[0.3,\"#f1b6da\"],[0.4,\"#fde0ef\"],[0.5,\"#f7f7f7\"],[0.6,\"#e6f5d0\"],[0.7,\"#b8e186\"],[0.8,\"#7fbc41\"],[0.9,\"#4d9221\"],[1,\"#276419\"]],\"sequential\":[[0.0,\"#0d0887\"],[0.1111111111111111,\"#46039f\"],[0.2222222222222222,\"#7201a8\"],[0.3333333333333333,\"#9c179e\"],[0.4444444444444444,\"#bd3786\"],[0.5555555555555556,\"#d8576b\"],[0.6666666666666666,\"#ed7953\"],[0.7777777777777778,\"#fb9f3a\"],[0.8888888888888888,\"#fdca26\"],[1.0,\"#f0f921\"]],\"sequentialminus\":[[0.0,\"#0d0887\"],[0.1111111111111111,\"#46039f\"],[0.2222222222222222,\"#7201a8\"],[0.3333333333333333,\"#9c179e\"],[0.4444444444444444,\"#bd3786\"],[0.5555555555555556,\"#d8576b\"],[0.6666666666666666,\"#ed7953\"],[0.7777777777777778,\"#fb9f3a\"],[0.8888888888888888,\"#fdca26\"],[1.0,\"#f0f921\"]]},\"colorway\":[\"#636efa\",\"#EF553B\",\"#00cc96\",\"#ab63fa\",\"#FFA15A\",\"#19d3f3\",\"#FF6692\",\"#B6E880\",\"#FF97FF\",\"#FECB52\"],\"font\":{\"color\":\"#2a3f5f\"},\"geo\":{\"bgcolor\":\"white\",\"lakecolor\":\"white\",\"landcolor\":\"#E5ECF6\",\"showlakes\":true,\"showland\":true,\"subunitcolor\":\"white\"},\"hoverlabel\":{\"align\":\"left\"},\"hovermode\":\"closest\",\"mapbox\":{\"style\":\"light\"},\"paper_bgcolor\":\"white\",\"plot_bgcolor\":\"#E5ECF6\",\"polar\":{\"angularaxis\":{\"gridcolor\":\"white\",\"linecolor\":\"white\",\"ticks\":\"\"},\"bgcolor\":\"#E5ECF6\",\"radialaxis\":{\"gridcolor\":\"white\",\"linecolor\":\"white\",\"ticks\":\"\"}},\"scene\":{\"xaxis\":{\"backgroundcolor\":\"#E5ECF6\",\"gridcolor\":\"white\",\"gridwidth\":2,\"linecolor\":\"white\",\"showbackground\":true,\"ticks\":\"\",\"zerolinecolor\":\"white\"},\"yaxis\":{\"backgroundcolor\":\"#E5ECF6\",\"gridcolor\":\"white\",\"gridwidth\":2,\"linecolor\":\"white\",\"showbackground\":true,\"ticks\":\"\",\"zerolinecolor\":\"white\"},\"zaxis\":{\"backgroundcolor\":\"#E5ECF6\",\"gridcolor\":\"white\",\"gridwidth\":2,\"linecolor\":\"white\",\"showbackground\":true,\"ticks\":\"\",\"zerolinecolor\":\"white\"}},\"shapedefaults\":{\"line\":{\"color\":\"#2a3f5f\"}},\"ternary\":{\"aaxis\":{\"gridcolor\":\"white\",\"linecolor\":\"white\",\"ticks\":\"\"},\"baxis\":{\"gridcolor\":\"white\",\"linecolor\":\"white\",\"ticks\":\"\"},\"bgcolor\":\"#E5ECF6\",\"caxis\":{\"gridcolor\":\"white\",\"linecolor\":\"white\",\"ticks\":\"\"}},\"title\":{\"x\":0.05},\"xaxis\":{\"automargin\":true,\"gridcolor\":\"white\",\"linecolor\":\"white\",\"ticks\":\"\",\"title\":{\"standoff\":15},\"zerolinecolor\":\"white\",\"zerolinewidth\":2},\"yaxis\":{\"automargin\":true,\"gridcolor\":\"white\",\"linecolor\":\"white\",\"ticks\":\"\",\"title\":{\"standoff\":15},\"zerolinecolor\":\"white\",\"zerolinewidth\":2}}},\"title\":{\"font\":{\"size\":30},\"text\":\"Shear Force Plot\"},\"xaxis\":{\"title\":{\"text\":\"Beam Length (m)\"}},\"yaxis\":{\"title\":{\"text\":\"Shear Force (N)\"}},\"annotations\":[{\"arrowhead\":1,\"ax\":0,\"ay\":-40,\"showarrow\":true,\"text\":\"0.448 m<br>274176.061 N\",\"x\":0.44799999999999995,\"xref\":\"x\",\"y\":274176.0612,\"yref\":\"y\"},{\"arrowhead\":1,\"ax\":0,\"ay\":40,\"showarrow\":true,\"text\":\"2.052 m<br>-274176.061 N\",\"x\":2.052,\"xref\":\"x\",\"y\":-274176.0611999999,\"yref\":\"y\"}]},                        {\"responsive\": true}                    ).then(function(){\n",
       "                            \n",
       "var gd = document.getElementById('11f846c8-9197-4338-9e86-c5d6c27ed86f');\n",
       "var x = new MutationObserver(function (mutations, observer) {{\n",
       "        var display = window.getComputedStyle(gd).display;\n",
       "        if (!display || display === 'none') {{\n",
       "            console.log([gd, 'removed!']);\n",
       "            Plotly.purge(gd);\n",
       "            observer.disconnect();\n",
       "        }}\n",
       "}});\n",
       "\n",
       "// Listen for the removal of the full notebook cells\n",
       "var notebookContainer = gd.closest('#notebook-container');\n",
       "if (notebookContainer) {{\n",
       "    x.observe(notebookContainer, {childList: true});\n",
       "}}\n",
       "\n",
       "// Listen for the clearing of the current output cell\n",
       "var outputEl = gd.closest('.output');\n",
       "if (outputEl) {{\n",
       "    x.observe(outputEl, {childList: true});\n",
       "}}\n",
       "\n",
       "                        })                };                });            </script>        </div>"
      ]
     },
     "metadata": {},
     "output_type": "display_data"
    }
   ],
   "source": [
    "fdn_design.plot_shear_force_X()"
   ]
  },
  {
   "cell_type": "markdown",
   "metadata": {},
   "source": [
    "#### Show the shear force diagram in y direction showing the design shear forces"
   ]
  },
  {
   "cell_type": "code",
   "execution_count": 15,
   "metadata": {},
   "outputs": [
    {
     "data": {
      "text/html": [
       "<div>                            <div id=\"2ef3edee-b4d6-4df2-ae68-4687bca0f81c\" class=\"plotly-graph-div\" style=\"height:525px; width:100%;\"></div>            <script type=\"text/javascript\">                require([\"plotly\"], function(Plotly) {                    window.PLOTLYENV=window.PLOTLYENV || {};                                    if (document.getElementById(\"2ef3edee-b4d6-4df2-ae68-4687bca0f81c\")) {                    Plotly.newPlot(                        \"2ef3edee-b4d6-4df2-ae68-4687bca0f81c\",                        [{\"fill\":\"tozeroy\",\"hovertemplate\":\"x: %{x:.3f} %{meta[0]}<br>f(x): %{y:.3f} %{meta[1]}\",\"line\":{\"color\":\"aqua\",\"width\":1},\"meta\":[\"m\",\"N\"],\"mode\":\"lines\",\"name\":\"Shear Force\",\"x\":[0.0,1e-07,0.01256281407035176,0.02512562814070352,0.03768844221105528,0.05025125628140704,0.0628140703517588,0.07537688442211056,0.08793969849246232,0.10050251256281408,0.11306532663316583,0.1256281407035176,0.13819095477386936,0.15075376884422112,0.16331658291457288,0.17587939698492464,0.1884422110552764,0.20100502512562815,0.2135678391959799,0.22613065326633167,0.23869346733668342,0.2512562814070352,0.26381909547738697,0.2763819095477387,0.2889447236180905,0.30150753768844224,0.314070351758794,0.32663316582914576,0.3391959798994975,0.35175879396984927,0.36432160804020103,0.3768844221105528,0.38944723618090454,0.4020100502512563,0.41457286432160806,0.4271356783919598,0.4396984924623116,0.45226130653266333,0.4648241206030151,0.47738693467336685,0.4899497487437186,0.5025125628140704,0.5150753768844222,0.5276381909547739,0.5402010050251257,0.5527638190954774,0.5653266331658292,0.577889447236181,0.5904522613065327,0.6030150753768845,0.6155778894472362,0.628140703517588,0.6407035175879398,0.6532663316582915,0.6658291457286433,0.678391959798995,0.6909547738693468,0.7035175879396985,0.7160804020100503,0.7286432160804021,0.7412060301507538,0.7537688442211056,0.7663316582914573,0.7788944723618091,0.7914572864321608,0.8040201005025126,0.8165829145728644,0.8291457286432161,0.8417085427135679,0.8542713567839196,0.8668341708542714,0.8793969849246231,0.8919597989949749,0.9045226130653267,0.9170854271356784,0.9296482412060302,0.9422110552763819,0.9547738693467337,0.9673366834170855,0.9798994974874372,0.992462311557789,1.0050251256281408,1.0175879396984926,1.0301507537688444,1.042713567839196,1.0552763819095479,1.0678391959798996,1.0804020100502514,1.0929648241206031,1.105527638190955,1.1180904522613067,1.1306532663316584,1.1432160804020102,1.155778894472362,1.1683417085427137,1.1809045226130654,1.1934673366834172,1.206030150753769,1.2185929648241207,1.2311557788944725,1.2437185929648242,1.2499999,1.2500001,1.256281407035176,1.2688442211055277,1.2814070351758795,1.2939698492462313,1.306532663316583,1.3190954773869348,1.3316582914572865,1.3442211055276383,1.35678391959799,1.3693467336683418,1.3819095477386936,1.3944723618090453,1.407035175879397,1.4195979899497488,1.4321608040201006,1.4447236180904524,1.4572864321608041,1.4698492462311559,1.4824120603015076,1.4949748743718594,1.5075376884422111,1.520100502512563,1.5326633165829147,1.5452261306532664,1.5577889447236182,1.57035175879397,1.5829145728643217,1.5954773869346734,1.6080402010050252,1.620603015075377,1.6331658291457287,1.6457286432160805,1.6582914572864322,1.670854271356784,1.6834170854271358,1.6959798994974875,1.7085427135678393,1.721105527638191,1.7336683417085428,1.7462311557788945,1.7587939698492463,1.771356783919598,1.7839195979899498,1.7964824120603016,1.8090452261306533,1.821608040201005,1.8341708542713568,1.8467336683417086,1.8592964824120604,1.8718592964824121,1.8844221105527639,1.8969849246231156,1.9095477386934674,1.9221105527638191,1.934673366834171,1.9472361809045227,1.9597989949748744,1.9723618090452262,1.984924623115578,1.9974874371859297,2.0100502512562817,2.022613065326633,2.035175879396985,2.0477386934673367,2.0603015075376887,2.0728643216080402,2.085427135678392,2.0979899497487438,2.1105527638190957,2.1231155778894473,2.1356783919597992,2.148241206030151,2.1608040201005028,2.1733668341708543,2.1859296482412063,2.198492462311558,2.21105527638191,2.2236180904522613,2.2361809045226133,2.248743718592965,2.261306532663317,2.2738693467336684,2.2864321608040203,2.298994974874372,2.311557788944724,2.3241206030150754,2.3366834170854274,2.349246231155779,2.361809045226131,2.3743718592964824,2.3869346733668344,2.399497487437186,2.412060301507538,2.4246231155778895,2.4371859296482414,2.449748743718593,2.462311557788945,2.4748743718592965,2.4874371859296485,2.4999999,2.5],\"y\":[0.0,0.0612,7688.442211055278,15376.884422110556,23065.32663316583,30753.76884422111,38442.211055276384,46130.65326633166,53819.09547738694,61507.53768844222,69195.97989949748,76884.42211055277,84572.86432160805,92261.30653266332,99949.7487437186,107638.19095477388,115326.63316582916,123015.07537688444,130703.5175879397,138391.95979899497,146080.40201005025,153768.84422110554,161457.28643216082,169145.7286432161,176834.17085427136,184522.61306532664,192211.05527638193,199899.4974874372,207587.93969849247,215276.38190954775,222964.82412060304,230653.26633165832,238341.70854271358,246030.1507537689,253718.5929648241,261407.0351758794,269095.4773869347,276783.91959798994,284472.36180904525,292160.8040201005,299849.2462311558,307537.6884422111,315226.1306532664,322914.57286432164,330603.01507537696,338291.4572864322,345979.89949748747,353668.3417085427,361356.78391959803,369045.2261306533,376733.6683417086,384422.11055276386,392110.5527638191,399798.9949748744,407487.4371859296,415175.87939698494,422864.32160804025,430552.7638190955,438241.20603015076,445929.6482412061,453618.0904522613,461306.53266331664,468994.97487437184,476683.41708542715,484371.8592964824,492060.3015075378,499748.743718593,507437.1859296482,515125.62814070354,522814.0703517588,530502.5125628142,538190.9547738694,545879.3969849247,553567.8391959799,561256.2814070352,568944.7236180905,576633.1658291457,584321.608040201,592010.0502512563,599698.4924623116,607386.9346733668,615075.3768844221,622763.8190954775,630452.2613065328,638140.703517588,645829.1457286433,653517.5879396985,661206.0301507539,668894.4723618091,676582.9145728644,684271.3567839196,691959.7989949749,699648.2412060302,707336.6834170854,715025.1256281408,722713.5678391961,730402.0100502514,738090.4522613066,745778.8944723619,753467.3366834172,761155.7788944724,764999.9388,-764999.9388,-761155.7788944723,-753467.3366834171,-745778.8944723618,-738090.4522613066,-730402.0100502513,-722713.5678391958,-715025.1256281406,-707336.6834170853,-699648.2412060301,-691959.7989949748,-684271.3567839196,-676582.9145728643,-668894.4723618089,-661206.0301507536,-653517.5879396984,-645829.1457286432,-638140.7035175879,-630452.2613065327,-622763.8190954773,-615075.3768844221,-607386.9346733668,-599698.4924623114,-592010.0502512562,-584321.6080402009,-576633.1658291457,-568944.7236180904,-561256.2814070352,-553567.83919598,-545879.3969849246,-538190.9547738691,-530502.5125628139,-522814.07035175874,-515125.62814070354,-507437.1859296481,-499748.7437185929,-492060.3015075377,-484371.8592964825,-476683.4170854273,-468994.97487437166,-461306.53266331647,-453618.09045226127,-445929.6482412061,-438241.20603015064,-430552.76381909545,-422864.32160804025,-415175.8793969848,-407487.4371859296,-399798.9949748742,-392110.552763819,-384422.1105527638,-376733.6683417086,-369045.2261306532,-361356.783919598,-353668.3417085428,-345979.89949748735,-338291.45728643215,-330603.0150753767,-322914.5728643215,-315226.13065326633,-307537.68844221113,-299849.2462311557,-292160.8040201005,-284472.36180904484,-276783.9195979899,-269095.47738693445,-261407.03517587925,-253718.59296482406,-246030.15075376886,-238341.70854271343,-230653.26633165847,-222964.82412060304,-215276.3819095476,-207587.93969849218,-199899.4974874372,-192211.05527638178,-184522.6130653266,-176834.17085427116,-169145.7286432162,-161457.28643216076,-153768.84422110533,-146080.40201005014,-138391.95979899494,-130703.51758793951,-123015.07537688431,-115326.63316582912,-107638.19095477392,-99949.74874371849,-92261.3065326633,-84572.86432160786,-76884.42211055267,-69195.97989949724,-61507.53768844227,-53819.09547738684,-46130.65326633165,-38442.21105527622,-30753.76884422102,-23065.32663316559,-15376.884422110394,-7688.442211055197,-0.06119999988004565,0.0],\"type\":\"scatter\"}],                        {\"template\":{\"data\":{\"bar\":[{\"error_x\":{\"color\":\"#2a3f5f\"},\"error_y\":{\"color\":\"#2a3f5f\"},\"marker\":{\"line\":{\"color\":\"#E5ECF6\",\"width\":0.5},\"pattern\":{\"fillmode\":\"overlay\",\"size\":10,\"solidity\":0.2}},\"type\":\"bar\"}],\"barpolar\":[{\"marker\":{\"line\":{\"color\":\"#E5ECF6\",\"width\":0.5},\"pattern\":{\"fillmode\":\"overlay\",\"size\":10,\"solidity\":0.2}},\"type\":\"barpolar\"}],\"carpet\":[{\"aaxis\":{\"endlinecolor\":\"#2a3f5f\",\"gridcolor\":\"white\",\"linecolor\":\"white\",\"minorgridcolor\":\"white\",\"startlinecolor\":\"#2a3f5f\"},\"baxis\":{\"endlinecolor\":\"#2a3f5f\",\"gridcolor\":\"white\",\"linecolor\":\"white\",\"minorgridcolor\":\"white\",\"startlinecolor\":\"#2a3f5f\"},\"type\":\"carpet\"}],\"choropleth\":[{\"colorbar\":{\"outlinewidth\":0,\"ticks\":\"\"},\"type\":\"choropleth\"}],\"contour\":[{\"colorbar\":{\"outlinewidth\":0,\"ticks\":\"\"},\"colorscale\":[[0.0,\"#0d0887\"],[0.1111111111111111,\"#46039f\"],[0.2222222222222222,\"#7201a8\"],[0.3333333333333333,\"#9c179e\"],[0.4444444444444444,\"#bd3786\"],[0.5555555555555556,\"#d8576b\"],[0.6666666666666666,\"#ed7953\"],[0.7777777777777778,\"#fb9f3a\"],[0.8888888888888888,\"#fdca26\"],[1.0,\"#f0f921\"]],\"type\":\"contour\"}],\"contourcarpet\":[{\"colorbar\":{\"outlinewidth\":0,\"ticks\":\"\"},\"type\":\"contourcarpet\"}],\"heatmap\":[{\"colorbar\":{\"outlinewidth\":0,\"ticks\":\"\"},\"colorscale\":[[0.0,\"#0d0887\"],[0.1111111111111111,\"#46039f\"],[0.2222222222222222,\"#7201a8\"],[0.3333333333333333,\"#9c179e\"],[0.4444444444444444,\"#bd3786\"],[0.5555555555555556,\"#d8576b\"],[0.6666666666666666,\"#ed7953\"],[0.7777777777777778,\"#fb9f3a\"],[0.8888888888888888,\"#fdca26\"],[1.0,\"#f0f921\"]],\"type\":\"heatmap\"}],\"heatmapgl\":[{\"colorbar\":{\"outlinewidth\":0,\"ticks\":\"\"},\"colorscale\":[[0.0,\"#0d0887\"],[0.1111111111111111,\"#46039f\"],[0.2222222222222222,\"#7201a8\"],[0.3333333333333333,\"#9c179e\"],[0.4444444444444444,\"#bd3786\"],[0.5555555555555556,\"#d8576b\"],[0.6666666666666666,\"#ed7953\"],[0.7777777777777778,\"#fb9f3a\"],[0.8888888888888888,\"#fdca26\"],[1.0,\"#f0f921\"]],\"type\":\"heatmapgl\"}],\"histogram\":[{\"marker\":{\"pattern\":{\"fillmode\":\"overlay\",\"size\":10,\"solidity\":0.2}},\"type\":\"histogram\"}],\"histogram2d\":[{\"colorbar\":{\"outlinewidth\":0,\"ticks\":\"\"},\"colorscale\":[[0.0,\"#0d0887\"],[0.1111111111111111,\"#46039f\"],[0.2222222222222222,\"#7201a8\"],[0.3333333333333333,\"#9c179e\"],[0.4444444444444444,\"#bd3786\"],[0.5555555555555556,\"#d8576b\"],[0.6666666666666666,\"#ed7953\"],[0.7777777777777778,\"#fb9f3a\"],[0.8888888888888888,\"#fdca26\"],[1.0,\"#f0f921\"]],\"type\":\"histogram2d\"}],\"histogram2dcontour\":[{\"colorbar\":{\"outlinewidth\":0,\"ticks\":\"\"},\"colorscale\":[[0.0,\"#0d0887\"],[0.1111111111111111,\"#46039f\"],[0.2222222222222222,\"#7201a8\"],[0.3333333333333333,\"#9c179e\"],[0.4444444444444444,\"#bd3786\"],[0.5555555555555556,\"#d8576b\"],[0.6666666666666666,\"#ed7953\"],[0.7777777777777778,\"#fb9f3a\"],[0.8888888888888888,\"#fdca26\"],[1.0,\"#f0f921\"]],\"type\":\"histogram2dcontour\"}],\"mesh3d\":[{\"colorbar\":{\"outlinewidth\":0,\"ticks\":\"\"},\"type\":\"mesh3d\"}],\"parcoords\":[{\"line\":{\"colorbar\":{\"outlinewidth\":0,\"ticks\":\"\"}},\"type\":\"parcoords\"}],\"pie\":[{\"automargin\":true,\"type\":\"pie\"}],\"scatter\":[{\"marker\":{\"colorbar\":{\"outlinewidth\":0,\"ticks\":\"\"}},\"type\":\"scatter\"}],\"scatter3d\":[{\"line\":{\"colorbar\":{\"outlinewidth\":0,\"ticks\":\"\"}},\"marker\":{\"colorbar\":{\"outlinewidth\":0,\"ticks\":\"\"}},\"type\":\"scatter3d\"}],\"scattercarpet\":[{\"marker\":{\"colorbar\":{\"outlinewidth\":0,\"ticks\":\"\"}},\"type\":\"scattercarpet\"}],\"scattergeo\":[{\"marker\":{\"colorbar\":{\"outlinewidth\":0,\"ticks\":\"\"}},\"type\":\"scattergeo\"}],\"scattergl\":[{\"marker\":{\"colorbar\":{\"outlinewidth\":0,\"ticks\":\"\"}},\"type\":\"scattergl\"}],\"scattermapbox\":[{\"marker\":{\"colorbar\":{\"outlinewidth\":0,\"ticks\":\"\"}},\"type\":\"scattermapbox\"}],\"scatterpolar\":[{\"marker\":{\"colorbar\":{\"outlinewidth\":0,\"ticks\":\"\"}},\"type\":\"scatterpolar\"}],\"scatterpolargl\":[{\"marker\":{\"colorbar\":{\"outlinewidth\":0,\"ticks\":\"\"}},\"type\":\"scatterpolargl\"}],\"scatterternary\":[{\"marker\":{\"colorbar\":{\"outlinewidth\":0,\"ticks\":\"\"}},\"type\":\"scatterternary\"}],\"surface\":[{\"colorbar\":{\"outlinewidth\":0,\"ticks\":\"\"},\"colorscale\":[[0.0,\"#0d0887\"],[0.1111111111111111,\"#46039f\"],[0.2222222222222222,\"#7201a8\"],[0.3333333333333333,\"#9c179e\"],[0.4444444444444444,\"#bd3786\"],[0.5555555555555556,\"#d8576b\"],[0.6666666666666666,\"#ed7953\"],[0.7777777777777778,\"#fb9f3a\"],[0.8888888888888888,\"#fdca26\"],[1.0,\"#f0f921\"]],\"type\":\"surface\"}],\"table\":[{\"cells\":{\"fill\":{\"color\":\"#EBF0F8\"},\"line\":{\"color\":\"white\"}},\"header\":{\"fill\":{\"color\":\"#C8D4E3\"},\"line\":{\"color\":\"white\"}},\"type\":\"table\"}]},\"layout\":{\"annotationdefaults\":{\"arrowcolor\":\"#2a3f5f\",\"arrowhead\":0,\"arrowwidth\":1},\"autotypenumbers\":\"strict\",\"coloraxis\":{\"colorbar\":{\"outlinewidth\":0,\"ticks\":\"\"}},\"colorscale\":{\"diverging\":[[0,\"#8e0152\"],[0.1,\"#c51b7d\"],[0.2,\"#de77ae\"],[0.3,\"#f1b6da\"],[0.4,\"#fde0ef\"],[0.5,\"#f7f7f7\"],[0.6,\"#e6f5d0\"],[0.7,\"#b8e186\"],[0.8,\"#7fbc41\"],[0.9,\"#4d9221\"],[1,\"#276419\"]],\"sequential\":[[0.0,\"#0d0887\"],[0.1111111111111111,\"#46039f\"],[0.2222222222222222,\"#7201a8\"],[0.3333333333333333,\"#9c179e\"],[0.4444444444444444,\"#bd3786\"],[0.5555555555555556,\"#d8576b\"],[0.6666666666666666,\"#ed7953\"],[0.7777777777777778,\"#fb9f3a\"],[0.8888888888888888,\"#fdca26\"],[1.0,\"#f0f921\"]],\"sequentialminus\":[[0.0,\"#0d0887\"],[0.1111111111111111,\"#46039f\"],[0.2222222222222222,\"#7201a8\"],[0.3333333333333333,\"#9c179e\"],[0.4444444444444444,\"#bd3786\"],[0.5555555555555556,\"#d8576b\"],[0.6666666666666666,\"#ed7953\"],[0.7777777777777778,\"#fb9f3a\"],[0.8888888888888888,\"#fdca26\"],[1.0,\"#f0f921\"]]},\"colorway\":[\"#636efa\",\"#EF553B\",\"#00cc96\",\"#ab63fa\",\"#FFA15A\",\"#19d3f3\",\"#FF6692\",\"#B6E880\",\"#FF97FF\",\"#FECB52\"],\"font\":{\"color\":\"#2a3f5f\"},\"geo\":{\"bgcolor\":\"white\",\"lakecolor\":\"white\",\"landcolor\":\"#E5ECF6\",\"showlakes\":true,\"showland\":true,\"subunitcolor\":\"white\"},\"hoverlabel\":{\"align\":\"left\"},\"hovermode\":\"closest\",\"mapbox\":{\"style\":\"light\"},\"paper_bgcolor\":\"white\",\"plot_bgcolor\":\"#E5ECF6\",\"polar\":{\"angularaxis\":{\"gridcolor\":\"white\",\"linecolor\":\"white\",\"ticks\":\"\"},\"bgcolor\":\"#E5ECF6\",\"radialaxis\":{\"gridcolor\":\"white\",\"linecolor\":\"white\",\"ticks\":\"\"}},\"scene\":{\"xaxis\":{\"backgroundcolor\":\"#E5ECF6\",\"gridcolor\":\"white\",\"gridwidth\":2,\"linecolor\":\"white\",\"showbackground\":true,\"ticks\":\"\",\"zerolinecolor\":\"white\"},\"yaxis\":{\"backgroundcolor\":\"#E5ECF6\",\"gridcolor\":\"white\",\"gridwidth\":2,\"linecolor\":\"white\",\"showbackground\":true,\"ticks\":\"\",\"zerolinecolor\":\"white\"},\"zaxis\":{\"backgroundcolor\":\"#E5ECF6\",\"gridcolor\":\"white\",\"gridwidth\":2,\"linecolor\":\"white\",\"showbackground\":true,\"ticks\":\"\",\"zerolinecolor\":\"white\"}},\"shapedefaults\":{\"line\":{\"color\":\"#2a3f5f\"}},\"ternary\":{\"aaxis\":{\"gridcolor\":\"white\",\"linecolor\":\"white\",\"ticks\":\"\"},\"baxis\":{\"gridcolor\":\"white\",\"linecolor\":\"white\",\"ticks\":\"\"},\"bgcolor\":\"#E5ECF6\",\"caxis\":{\"gridcolor\":\"white\",\"linecolor\":\"white\",\"ticks\":\"\"}},\"title\":{\"x\":0.05},\"xaxis\":{\"automargin\":true,\"gridcolor\":\"white\",\"linecolor\":\"white\",\"ticks\":\"\",\"title\":{\"standoff\":15},\"zerolinecolor\":\"white\",\"zerolinewidth\":2},\"yaxis\":{\"automargin\":true,\"gridcolor\":\"white\",\"linecolor\":\"white\",\"ticks\":\"\",\"title\":{\"standoff\":15},\"zerolinecolor\":\"white\",\"zerolinewidth\":2}}},\"title\":{\"font\":{\"size\":30},\"text\":\"Shear Force Plot\"},\"xaxis\":{\"title\":{\"text\":\"Beam Length (m)\"}},\"yaxis\":{\"title\":{\"text\":\"Shear Force (N)\"}},\"annotations\":[{\"arrowhead\":1,\"ax\":0,\"ay\":-40,\"showarrow\":true,\"text\":\"0.464 m<br>283968.061 N\",\"x\":0.46399999999999997,\"xref\":\"x\",\"y\":283968.0611999999,\"yref\":\"y\"},{\"arrowhead\":1,\"ax\":0,\"ay\":40,\"showarrow\":true,\"text\":\"2.036 m<br>-283968.061 N\",\"x\":2.036,\"xref\":\"x\",\"y\":-283968.0611999999,\"yref\":\"y\"}]},                        {\"responsive\": true}                    ).then(function(){\n",
       "                            \n",
       "var gd = document.getElementById('2ef3edee-b4d6-4df2-ae68-4687bca0f81c');\n",
       "var x = new MutationObserver(function (mutations, observer) {{\n",
       "        var display = window.getComputedStyle(gd).display;\n",
       "        if (!display || display === 'none') {{\n",
       "            console.log([gd, 'removed!']);\n",
       "            Plotly.purge(gd);\n",
       "            observer.disconnect();\n",
       "        }}\n",
       "}});\n",
       "\n",
       "// Listen for the removal of the full notebook cells\n",
       "var notebookContainer = gd.closest('#notebook-container');\n",
       "if (notebookContainer) {{\n",
       "    x.observe(notebookContainer, {childList: true});\n",
       "}}\n",
       "\n",
       "// Listen for the clearing of the current output cell\n",
       "var outputEl = gd.closest('.output');\n",
       "if (outputEl) {{\n",
       "    x.observe(outputEl, {childList: true});\n",
       "}}\n",
       "\n",
       "                        })                };                });            </script>        </div>"
      ]
     },
     "metadata": {},
     "output_type": "display_data"
    }
   ],
   "source": [
    "fdn_design.plot_shear_force_Y()"
   ]
  },
  {
   "cell_type": "markdown",
   "metadata": {},
   "source": [
    "#### Show the reinforcement area required along the x axis"
   ]
  },
  {
   "cell_type": "code",
   "execution_count": 16,
   "metadata": {},
   "outputs": [
    {
     "name": "stdout",
     "output_type": "stream",
     "text": [
      "The area of steel required in the x direction is 907mm²/m\n"
     ]
    }
   ],
   "source": [
    "z = fdn_design.area_of_steel_reqd_X_dir()\n",
    "print(f'The area of steel required in the x direction is {z}mm\\u00b2/m')"
   ]
  },
  {
   "cell_type": "markdown",
   "metadata": {},
   "source": [
    "#### Show the reinforcement area required along the y axis"
   ]
  },
  {
   "cell_type": "code",
   "execution_count": 17,
   "metadata": {},
   "outputs": [
    {
     "name": "stdout",
     "output_type": "stream",
     "text": [
      "The area of steel required in the Y direction is 883mm²/m\n"
     ]
    }
   ],
   "source": [
    "z = fdn_design.area_of_steel_reqd_Y_dir()\n",
    "print(f'The area of steel required in the Y direction is {z}mm\\u00b2/m')"
   ]
  },
  {
   "cell_type": "markdown",
   "metadata": {},
   "source": [
    "#### Show the reinforcement area provided along the x axis"
   ]
  },
  {
   "cell_type": "code",
   "execution_count": 18,
   "metadata": {},
   "outputs": [
    {
     "data": {
      "text/plain": [
       "'Provide H16mm bars spaced at 200.0mm c/c bottom. The area provided is 1005mm²/m parallel to the 2.5m side'"
      ]
     },
     "execution_count": 18,
     "metadata": {},
     "output_type": "execute_result"
    }
   ],
   "source": [
    "fdn_design.reinforcement_provision_flexure_X_dir()"
   ]
  },
  {
   "cell_type": "markdown",
   "metadata": {},
   "source": [
    "#### Show the reinforcement area provided along the y axis"
   ]
  },
  {
   "cell_type": "code",
   "execution_count": 19,
   "metadata": {},
   "outputs": [
    {
     "data": {
      "text/plain": [
       "'Provide H12mm bars spaced at 125.0mm c/c bottom. The area provided is 905mm²/m parallel to the 2.5m side'"
      ]
     },
     "execution_count": 19,
     "metadata": {},
     "output_type": "execute_result"
    }
   ],
   "source": [
    "fdn_design.reinforcement_provision_flexure_Y_dir()"
   ]
  },
  {
   "cell_type": "markdown",
   "metadata": {},
   "source": [
    "#### Check for transverse shear along Y direction"
   ]
  },
  {
   "cell_type": "code",
   "execution_count": 20,
   "metadata": {},
   "outputs": [
    {
     "data": {
      "text/plain": [
       "'The design shear resistance of 570.395kN exceeds the design shear force of 274.176kN - PASS!!!'"
      ]
     },
     "execution_count": 20,
     "metadata": {},
     "output_type": "execute_result"
    }
   ],
   "source": [
    "fdn_design.tranverse_shear_check_Xdir()"
   ]
  },
  {
   "cell_type": "markdown",
   "metadata": {},
   "source": [
    "#### Check for transverse shear along Y direction"
   ]
  },
  {
   "cell_type": "code",
   "execution_count": 21,
   "metadata": {},
   "outputs": [
    {
     "data": {
      "text/plain": [
       "'The design shear resistance of 574.91kN exceeds the design shear force of 283.968kN - PASS!!!'"
      ]
     },
     "execution_count": 21,
     "metadata": {},
     "output_type": "execute_result"
    }
   ],
   "source": [
    "fdn_design.tranverse_shear_check_Ydir()"
   ]
  },
  {
   "cell_type": "markdown",
   "metadata": {},
   "source": [
    "#### Check for Punching shear at the column face"
   ]
  },
  {
   "cell_type": "code",
   "execution_count": 22,
   "metadata": {},
   "outputs": [
    {
     "data": {
      "text/plain": [
       "'The maximum punching shear resistance of 4.488N/mm² exceeds the design punching shear stress of 1.61N/mm² - PASS!!!'"
      ]
     },
     "execution_count": 22,
     "metadata": {},
     "output_type": "execute_result"
    }
   ],
   "source": [
    "fdn_design.punching_shear_column_face()"
   ]
  },
  {
   "cell_type": "markdown",
   "metadata": {},
   "source": [
    "#### Check for Punching shear at 1d from column face"
   ]
  },
  {
   "cell_type": "code",
   "execution_count": 23,
   "metadata": {},
   "outputs": [
    {
     "data": {
      "text/plain": [
       "'The maximum punching shear resistance of 0.762N/mm² exceeds the design punching shear stress of 0.312N/mm² - PASS!!!'"
      ]
     },
     "execution_count": 23,
     "metadata": {},
     "output_type": "execute_result"
    }
   ],
   "source": [
    "fdn_design.punching_shear_check_1d()"
   ]
  },
  {
   "cell_type": "markdown",
   "metadata": {},
   "source": [
    "#### Check for Punching shear at 2d from column face"
   ]
  },
  {
   "cell_type": "code",
   "execution_count": 24,
   "metadata": {},
   "outputs": [
    {
     "data": {
      "text/plain": [
       "'The maximum punching shear resistance of 0.381N/mm² exceeds the design punching shear stress of -0.011N/mm² - PASS!!!'"
      ]
     },
     "execution_count": 24,
     "metadata": {},
     "output_type": "execute_result"
    }
   ],
   "source": [
    "fdn_design.punching_shear_check_2d()"
   ]
  },
  {
   "cell_type": "code",
   "execution_count": 25,
   "metadata": {},
   "outputs": [
    {
     "data": {
      "text/plain": [
       "' The allowable sliding resistance 327kN is greater than the actual horizontal loads 0kN Status - PASS!!!'"
      ]
     },
     "execution_count": 25,
     "metadata": {},
     "output_type": "execute_result"
    }
   ],
   "source": [
    "fdn_design.sliding_resistance_check()"
   ]
  }
 ],
 "metadata": {
  "kernelspec": {
   "display_name": "Python 3.9.13 64-bit",
   "language": "python",
   "name": "python3"
  },
  "language_info": {
   "codemirror_mode": {
    "name": "ipython",
    "version": 3
   },
   "file_extension": ".py",
   "mimetype": "text/x-python",
   "name": "python",
   "nbconvert_exporter": "python",
   "pygments_lexer": "ipython3",
   "version": "3.9.13"
  },
  "orig_nbformat": 4,
  "vscode": {
   "interpreter": {
    "hash": "b0fa6594d8f4cbf19f97940f81e996739fb7646882a419484c72d19e05852a7e"
   }
  }
 },
 "nbformat": 4,
 "nbformat_minor": 2
}
